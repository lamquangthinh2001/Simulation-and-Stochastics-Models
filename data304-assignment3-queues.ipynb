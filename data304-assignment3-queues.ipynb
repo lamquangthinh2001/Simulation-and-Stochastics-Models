{
 "cells": [
  {
   "cell_type": "markdown",
   "id": "3157156c",
   "metadata": {
    "papermill": {
     "duration": 0.006989,
     "end_time": "2023-05-08T23:02:28.616172",
     "exception": false,
     "start_time": "2023-05-08T23:02:28.609183",
     "status": "completed"
    },
    "tags": []
   },
   "source": [
    "# Assignment 3- Queues"
   ]
  },
  {
   "cell_type": "markdown",
   "id": "2a06b95b",
   "metadata": {
    "papermill": {
     "duration": 0.005521,
     "end_time": "2023-05-08T23:02:28.627660",
     "exception": false,
     "start_time": "2023-05-08T23:02:28.622139",
     "status": "completed"
    },
    "tags": []
   },
   "source": [
    "## Problem 1"
   ]
  },
  {
   "cell_type": "markdown",
   "id": "f912c132",
   "metadata": {
    "papermill": {
     "duration": 0.005495,
     "end_time": "2023-05-08T23:02:28.639039",
     "exception": false,
     "start_time": "2023-05-08T23:02:28.633544",
     "status": "completed"
    },
    "tags": []
   },
   "source": [
    "(a) The process can be modeled as birth-death process with birth rate = 10 and death rate = 20\n",
    "\n",
    "\n",
    "The steady state distribution of number of mushrooms per squared meter is a Poisson distribution with mean equal to the birth rate divided by death rate.\n",
    "\n",
    "The number of mushrooms per squared meter in steady-state is:\n",
    "$\\lambda$ = 10/20 = 0.5\n",
    "\n",
    "The probability of finding k mushrooms per squared meter in steady-state: \n",
    "P(k) = $e^{-\\lambda} \\frac{\\lambda^k}{k!}$\n",
    "\n",
    "The steady-state distribution:\n",
    "\n",
    "P(0) =$e^{-0.5} \\frac{0.5^0}{0!}$ = 0.607\n",
    "\n",
    "P(1) =$e^{-0.5} \\frac{0.5^1}{1!}$ = 0.303\n",
    "\n",
    "P(2) =$e^{-0.5} \\frac{0.5^2}{3!}$ = 0.076\n",
    "\n",
    "P(3) =$e^{-0.5} \\frac{0.5^3}{3!}$ = 0.013\n",
    "\n",
    ".\n",
    "\n",
    ".\n",
    "\n",
    ".\n",
    "\n",
    "\n",
    "P(k) = $e^{-\\lambda} \\frac{\\lambda^k}{k!}$\n",
    "\n",
    "\n",
    "P = ($e^{-0.5} \\frac{0.5^0}{0!}$, $e^{-0.5} \\frac{0.5^1}{1!}$, $e^{-0.5} \\frac{0.5^2}{3!}$, $e^{-0.5} \\frac{0.5^3}{3!}$,..., $e^{-\\lambda} \\frac{\\lambda^k}{k!}$)\n"
   ]
  },
  {
   "cell_type": "markdown",
   "id": "ebf2f9e1",
   "metadata": {
    "papermill": {
     "duration": 0.005541,
     "end_time": "2023-05-08T23:02:28.650262",
     "exception": false,
     "start_time": "2023-05-08T23:02:28.644721",
     "status": "completed"
    },
    "tags": []
   },
   "source": [
    "(b) The probability of finding no mushrooms in a squared meter is equal to the probability of being in the state with 0 mushrooms, which is P(0) = 0.607"
   ]
  },
  {
   "cell_type": "markdown",
   "id": "b1d69b6f",
   "metadata": {
    "papermill": {
     "duration": 0.005405,
     "end_time": "2023-05-08T23:02:28.661379",
     "exception": false,
     "start_time": "2023-05-08T23:02:28.655974",
     "status": "completed"
    },
    "tags": []
   },
   "source": [
    "(c) The probability of observing at least 2 mushrooms:\n",
    "\n",
    "P(at least 2 mushrooms) = 1 - P(0) - P(1) = 0.090"
   ]
  },
  {
   "cell_type": "markdown",
   "id": "ef850e91",
   "metadata": {
    "papermill": {
     "duration": 0.005408,
     "end_time": "2023-05-08T23:02:28.672590",
     "exception": false,
     "start_time": "2023-05-08T23:02:28.667182",
     "status": "completed"
    },
    "tags": []
   },
   "source": [
    "## Problem 2"
   ]
  },
  {
   "cell_type": "markdown",
   "id": "8520b1f7",
   "metadata": {
    "papermill": {
     "duration": 0.005448,
     "end_time": "2023-05-08T23:02:28.683758",
     "exception": false,
     "start_time": "2023-05-08T23:02:28.678310",
     "status": "completed"
    },
    "tags": []
   },
   "source": [
    "2.1 We have:\n",
    "\n",
    "$Z = pX_1 +(1-p)X_2$\n",
    "\n",
    "=> $E(Z) = E(pX_1 +(1-p)X_2)$\n",
    "\n",
    "Based on the linearity of assumption\n",
    "\n",
    "=> $E(Z) = E(pX_1) +E((1-p)X_2))$\n",
    "\n",
    "= $pE(X_1) +(1-p)E(X_2)$"
   ]
  },
  {
   "cell_type": "markdown",
   "id": "1de853d2",
   "metadata": {
    "execution": {
     "iopub.execute_input": "2023-05-08T10:08:23.904665Z",
     "iopub.status.busy": "2023-05-08T10:08:23.903101Z",
     "iopub.status.idle": "2023-05-08T10:08:23.939416Z",
     "shell.execute_reply": "2023-05-08T10:08:23.937734Z",
     "shell.execute_reply.started": "2023-05-08T10:08:23.904590Z"
    },
    "papermill": {
     "duration": 0.005433,
     "end_time": "2023-05-08T23:02:28.694916",
     "exception": false,
     "start_time": "2023-05-08T23:02:28.689483",
     "status": "completed"
    },
    "tags": []
   },
   "source": [
    "2.2 We have:\n",
    "\n",
    "$Z = pX_1 +(1-p)X_2$\n",
    "\n",
    "=> $Z^2 = {pX_1}^2 +{((1-p)X_2)}^2$\n",
    "\n",
    "$       = p^2{X_1}^2 + (1-p)^2{X_2}^2 + 2p(1-p)X_1X_2$\n",
    "\n",
    "=> $E(Z^2) = E(p^2{X_1}^2 + (1-p)^2{X_2}^2 + 2p(1-p)X_1X_2)$\n",
    "\n",
    "Based on the linearity of assumption:\n",
    "\n",
    "$E(Z^2) = p^2E({X_1}^2) + (1-p)^2E({X_2}^2) + 2p(1-p)E(X_1X_2)$\n",
    "\n",
    "And $X_1$ and $X_2$ are independent\n",
    "\n",
    "=> $E(X_1X_2) = E(X_1) E(X_2)$\n",
    "\n",
    "=> $E(Z^2) = p^2E({X_1}^2) + (1-p)^2E({X_2}^2) + 2p(1-p)E(X_1)E(X_2)$\n",
    "\n",
    "= $pE({X_1}^2) + (1-p)E({X_2}^2)$"
   ]
  },
  {
   "cell_type": "markdown",
   "id": "b4f55809",
   "metadata": {
    "papermill": {
     "duration": 0.005836,
     "end_time": "2023-05-08T23:02:28.706508",
     "exception": false,
     "start_time": "2023-05-08T23:02:28.700672",
     "status": "completed"
    },
    "tags": []
   },
   "source": [
    "2.3 Var(Z) = $E(Z^2) - E(Z)^2$\n",
    "\n",
    "= $pE({X_1}^2) + (1-p)E({X_2}^2)$ - $(pE(X_1) +(1-p)E(X_2))^2$\n",
    "\n",
    "= $[pE(X_1) + (1 - p)E(X_2) + p^2(E(X_1^2) - E(X_1)^2) + (1 - p)^2(E(X_2^2) - E(X_2)^2) + 2p(1 - p)E(X_1)E(X_2)] - [pE(X_1) + (1 - p)E(X_2)]^2$\n",
    "\n",
    "= $p(1 - p)[E(X_1) - E(X_2)]^2 + p^2 Var(X_1) + (1 - p)^2 Var(X_2)$"
   ]
  },
  {
   "cell_type": "markdown",
   "id": "edcb7031",
   "metadata": {
    "papermill": {
     "duration": 0.00547,
     "end_time": "2023-05-08T23:02:28.717793",
     "exception": false,
     "start_time": "2023-05-08T23:02:28.712323",
     "status": "completed"
    },
    "tags": []
   },
   "source": [
    "We have Z = pX1 + (1-p)X2\n",
    "\n",
    "We can demonstrate that E(Z) = pE(X1) + (1 - p) E(X2) as follows:\n",
    "\n",
    "E(Z) = E(pX1 + (1 - p)X2) (since Z = pX1 + (1 - p)X2)\n",
    "      = pE(X1) + (1 - p)E(X2) (by linearity of assumption)\n",
    "\n",
    "To acquire E(Z^2), we can utilize the equation:\n",
    "\n",
    "E(Z^2) = Var(Z) + [E(Z)]^2\n",
    "\n",
    "We know that Z = pX1 + (1 - p)X2, so:\n",
    "\n",
    "Z^2 = p^2 X1^2 + 2p(1 - p)X1X2 + (1 - p)^2 X2^2\n",
    "\n",
    "Taking assumptions for the two sides, we get:\n",
    "\n",
    "E(Z^2) = p^2 E(X1^2) + 2p(1 - p)E(X1X2) + (1 - p)^2 E(X2^2)\n",
    "\n",
    "Since X1 and X2 are free, we know that E(X1X2) = E(X1)E(X2), so we can substitute that into the situation above:\n",
    "\n",
    "E(Z^2) = p^2 E(X1^2) + 2p(1 - p)E(X1)E(X2) + (1 - p)^2 E(X2^2)\n",
    "\n",
    "Involving the equation for E(Z), we can work on E(Z^2) as follows:\n",
    "\n",
    "E(Z^2) = pE(X1) + (1 - p)E(X2) + p^2(E(X1^2) - E(X1)^2) + (1 - p)^2(E(X2^2) - E(X2)^2) + 2p(1 - p)E(X1)E(X2)\n",
    "\n",
    "To acquire the difference of Z, we can utilize the recipe:\n",
    "\n",
    "Var(Z) = E(Z^2) - [E(Z)]^2\n",
    "\n",
    "Subbing the articulations we determined for E(Z) and E(Z^2), we get:\n",
    "\n",
    "Var(Z) = [pE(X1) + (1 - p)E(X2) + p^2(E(X1^2) - E(X1)^2) + (1 - p)^2(E(X2^2) - E(X2)^2) + 2p(1 - p)E(X1)E(X2)] - [pE(X1) + (1 - p)E(X2)]^2\n",
    "\n",
    "Improving on this articulation, we get:\n",
    "\n",
    "Var(Z) = p(1 - p)[E(X1) - E(X2)]^2 + p^2 Var(X1) + (1 - p)^2 Var(X2)"
   ]
  },
  {
   "cell_type": "markdown",
   "id": "a7057ccf",
   "metadata": {
    "papermill": {
     "duration": 0.005413,
     "end_time": "2023-05-08T23:02:28.728962",
     "exception": false,
     "start_time": "2023-05-08T23:02:28.723549",
     "status": "completed"
    },
    "tags": []
   },
   "source": [
    "## Problem 3"
   ]
  },
  {
   "cell_type": "code",
   "execution_count": 1,
   "id": "f1117994",
   "metadata": {
    "execution": {
     "iopub.execute_input": "2023-05-08T23:02:28.744362Z",
     "iopub.status.busy": "2023-05-08T23:02:28.743362Z",
     "iopub.status.idle": "2023-05-08T23:02:29.928277Z",
     "shell.execute_reply": "2023-05-08T23:02:29.926997Z"
    },
    "papermill": {
     "duration": 1.196743,
     "end_time": "2023-05-08T23:02:29.931422",
     "exception": false,
     "start_time": "2023-05-08T23:02:28.734679",
     "status": "completed"
    },
    "tags": []
   },
   "outputs": [
    {
     "data": {
      "image/png": "[encoded data removed]",
      "text/plain": [
       "<Figure size 640x480 with 1 Axes>"
      ]
     },
     "metadata": {},
     "output_type": "display_data"
    }
   ],
   "source": [
    "import numpy as np\n",
    "import matplotlib.pyplot as plt\n",
    "from scipy.stats import norm\n",
    "\n",
    "x = np.linspace(-10, 10, 1000)\n",
    "\n",
    "p_values = [0.1, 0.3, 0.5, 0.7, 0.9]\n",
    "for p in p_values:\n",
    "    f = p * norm.pdf(x, loc=0, scale=1) + (1-p) * norm.pdf(x, loc=0, scale=10)\n",
    "    plt.plot(x, f, label=f\"p={p}\")\n",
    "\n",
    "plt.legend()\n",
    "plt.show()"
   ]
  },
  {
   "cell_type": "markdown",
   "id": "6d99536e",
   "metadata": {
    "papermill": {
     "duration": 0.006591,
     "end_time": "2023-05-08T23:02:29.945032",
     "exception": false,
     "start_time": "2023-05-08T23:02:29.938441",
     "status": "completed"
    },
    "tags": []
   },
   "source": [
    "From this plot, it is difficult to visually distinguish the mixture from a Normal density when p is close to 0.5."
   ]
  },
  {
   "cell_type": "code",
   "execution_count": 2,
   "id": "95e9f8b3",
   "metadata": {
    "execution": {
     "iopub.execute_input": "2023-05-08T23:02:29.961173Z",
     "iopub.status.busy": "2023-05-08T23:02:29.960055Z",
     "iopub.status.idle": "2023-05-08T23:02:30.506981Z",
     "shell.execute_reply": "2023-05-08T23:02:30.505989Z"
    },
    "papermill": {
     "duration": 0.557497,
     "end_time": "2023-05-08T23:02:30.509419",
     "exception": false,
     "start_time": "2023-05-08T23:02:29.951922",
     "status": "completed"
    },
    "tags": []
   },
   "outputs": [
    {
     "data": {
      "image/png": "[encoded data removed]",
      "text/plain": [
       "<Figure size 640x480 with 1 Axes>"
      ]
     },
     "metadata": {},
     "output_type": "display_data"
    }
   ],
   "source": [
    "for p in p_values:\n",
    "    f = p * norm.pdf(x, loc=0, scale=1) + (1-p) * norm.pdf(x, loc=0, scale=10)\n",
    "    plt.semilogy(x, f, label=f\"p={p}\")\n",
    "\n",
    "plt.legend()\n",
    "plt.show()"
   ]
  },
  {
   "cell_type": "markdown",
   "id": "5603cde3",
   "metadata": {
    "papermill": {
     "duration": 0.007447,
     "end_time": "2023-05-08T23:02:30.524774",
     "exception": false,
     "start_time": "2023-05-08T23:02:30.517327",
     "status": "completed"
    },
    "tags": []
   },
   "source": [
    "From this plot, it is difficult to visually distinguish the mixture from a Normal density when p is close to 0.\n",
    "Next, we will compute the variance of the mixture random variable when p=1/2. The variance of a two-component mixture of Normal distributions with equal weights and means is given by:\n",
    "Var(X) = p * Var(N(0,1)) + (1-p) * Var(N(0,10)) + p * (1-p) * (μ1 - μ2)^2\n",
    "\n",
    "where μ1 and μ2 are the means of the two Normal distributions.\n",
    "Plugging in the values, we get:\n",
    "Var(X) = 1/2 * 1 + 1/2 * 10 + 1/4 * (0 - 0)^2 = 5.5\n",
    "Therefore, the variance of the mixture random variable when p=1/2 is 5.5."
   ]
  },
  {
   "cell_type": "markdown",
   "id": "da1f907e",
   "metadata": {
    "papermill": {
     "duration": 0.007391,
     "end_time": "2023-05-08T23:02:30.540344",
     "exception": false,
     "start_time": "2023-05-08T23:02:30.532953",
     "status": "completed"
    },
    "tags": []
   },
   "source": [
    "## Problem 4"
   ]
  },
  {
   "cell_type": "markdown",
   "id": "3416410f",
   "metadata": {
    "papermill": {
     "duration": 0.007367,
     "end_time": "2023-05-08T23:02:30.555457",
     "exception": false,
     "start_time": "2023-05-08T23:02:30.548090",
     "status": "completed"
    },
    "tags": []
   },
   "source": [
    "$E(S) = \\frac{1}{2}$ \n",
    "\n",
    "$Var(S) = (\\frac{1}{4})^2$ \n",
    "\n",
    "$\\lambda = 1$ \n"
   ]
  },
  {
   "cell_type": "markdown",
   "id": "c8e2fd23",
   "metadata": {
    "papermill": {
     "duration": 0.007481,
     "end_time": "2023-05-08T23:02:30.571070",
     "exception": false,
     "start_time": "2023-05-08T23:02:30.563589",
     "status": "completed"
    },
    "tags": []
   },
   "source": [
    "We have: $E(S) = \\frac{1}{\\mu}$ => $\\mu = 2$\n",
    "\n",
    "=> $\\rho = \\frac{\\lambda}{\\mu} = \\frac{1}{2}$\n",
    "\n",
    "$Var(S) = E(S^2) - (E(S))^2$\n",
    "\n",
    "=> $E(S^2) = Var(S) + (E(S))^2 = (\\frac{1}{4})^2 + (\\frac{1}{2})^2$ = $\\frac{5}{16}$\n",
    "\n",
    "(a) $Lq = \\frac{\\lambda^2 E(T^2)}{2(1-\\rho)} = \\frac{1^2 \\frac{5}{16}}{2(1-\\frac{1}{2}})$ = $\\frac{5}{16}$\n",
    "\n",
    "$Ls = \\rho = \\frac{1}{2}$\n",
    "\n",
    "=> (b) $L = Lq + Ls = \\frac{5}{16} + \\frac{1}{2} = \\frac{13}{16}$\n",
    "\n",
    "(c) $Wq = \\frac{Lq}{\\lambda} = \\frac{5}{16}$\n",
    "\n",
    "(d) U= $\\frac{\\lambda}{\\mu}$ = $\\frac{1}{2}$"
   ]
  },
  {
   "cell_type": "markdown",
   "id": "c52f5b5c",
   "metadata": {
    "papermill": {
     "duration": 0.007471,
     "end_time": "2023-05-08T23:02:30.586295",
     "exception": false,
     "start_time": "2023-05-08T23:02:30.578824",
     "status": "completed"
    },
    "tags": []
   },
   "source": [
    "$\\lambda_1 = 1$\n",
    "\n",
    "$\\mu_1$ = 2\n",
    "\n",
    "$\\lambda_2 = \\frac{1}{4}$\n",
    "\n",
    "$\\mu_2$ = 1\n",
    "\n",
    "$\\lambda = \\lambda_1 + \\lambda_2 $ = $\\frac{5}{4}$ : arrival rate\n",
    "\n",
    "$\\mu = \\mu_1 + \\mu_2$ = 3: service rate\n"
   ]
  },
  {
   "cell_type": "markdown",
   "id": "c44590f8",
   "metadata": {
    "papermill": {
     "duration": 0.007493,
     "end_time": "2023-05-08T23:02:30.601688",
     "exception": false,
     "start_time": "2023-05-08T23:02:30.594195",
     "status": "completed"
    },
    "tags": []
   },
   "source": [
    "Since jobs of type B arrive at a rate of 1 every 4 hours, the arrival rate of jobs of type B is λ2 = 1/4 per hour. The service time of jobs of type B has an exponential distribution with mean 1 hour, so the service rate of jobs of type B is μ2 = 1/1 = 1 per hour.\n",
    "\n",
    "The total arrival rate is λ = λ1 + λ2 = 1 + 1/4 = 5/4 per hour. The total service rate is μ = μ1 + μ2 = 2 + 1 = 3 per hour.\n",
    "\n",
    "(e) Lq = (λ1λ2) / (μ1(μ-λ2) = (1*(1/4)) / (2*(3-(1/1))) = 1/14 customers\n",
    "\n",
    "(f) L = λ / (μ - λ) = (5/4) / (3-(5/4)) = 5/11 customers\n",
    "\n",
    "(g) Wq = Lq / λ1 = (1/14) / 1 = 1/14 hours\n",
    "\n",
    "(h) U = λ / μ = (5/4) / 3 = 5/12\n",
    "\n",
    "Therefore, the addition of jobs of type B has decreased the average number in the queue and the waiting time in the queue, but has increased the average number in the facility and the server utilization."
   ]
  },
  {
   "cell_type": "markdown",
   "id": "325dce3c",
   "metadata": {
    "papermill": {
     "duration": 0.007346,
     "end_time": "2023-05-08T23:02:30.616845",
     "exception": false,
     "start_time": "2023-05-08T23:02:30.609499",
     "status": "completed"
    },
    "tags": []
   },
   "source": [
    "## Problem 5"
   ]
  },
  {
   "cell_type": "markdown",
   "id": "33a71b8d",
   "metadata": {
    "papermill": {
     "duration": 0.007356,
     "end_time": "2023-05-08T23:02:30.631998",
     "exception": false,
     "start_time": "2023-05-08T23:02:30.624642",
     "status": "completed"
    },
    "tags": []
   },
   "source": [
    "a. For a steady state to exist in an M/G/1 queue with service time distribution mean $m$ and variance $m^2$, the following conditions must be satisfied:\n",
    "\n",
    "$\\rho = \\frac{\\lambda}{\\mu} < 1$\n",
    "\n",
    "<=> $\\lambda m < 1$\n",
    "\n"
   ]
  },
  {
   "cell_type": "markdown",
   "id": "1e7000bb",
   "metadata": {
    "papermill": {
     "duration": 0.007657,
     "end_time": "2023-05-08T23:02:30.647174",
     "exception": false,
     "start_time": "2023-05-08T23:02:30.639517",
     "status": "completed"
    },
    "tags": []
   },
   "source": [
    "b. We have:\n",
    "\n",
    "$\\rho = \\lambda E(T) = \\lambda m$ \n",
    "\n",
    "and $E(T^2) = m^2$\n",
    "\n",
    "=> $L = \\frac{\\lambda^2m^2}{2(1-\\rho)} - 1$ = $\\frac{\\lambda^2m^2}{2(1-\\lambda m)} + \\lambda m$\n",
    "\n"
   ]
  },
  {
   "cell_type": "markdown",
   "id": "961896ee",
   "metadata": {
    "papermill": {
     "duration": 0.007369,
     "end_time": "2023-05-08T23:02:30.662248",
     "exception": false,
     "start_time": "2023-05-08T23:02:30.654879",
     "status": "completed"
    },
    "tags": []
   },
   "source": [
    "$Ls = \\rho = \\lambda m$"
   ]
  },
  {
   "cell_type": "markdown",
   "id": "16c67273",
   "metadata": {
    "papermill": {
     "duration": 0.007568,
     "end_time": "2023-05-08T23:02:30.677596",
     "exception": false,
     "start_time": "2023-05-08T23:02:30.670028",
     "status": "completed"
    },
    "tags": []
   },
   "source": [
    "$Lq = \\frac{\\lambda^2 E(T^2)}{2(1-\\rho)}$ = $\\frac{\\lambda^2m^2}{2(1-\\lambda m)}$"
   ]
  },
  {
   "cell_type": "markdown",
   "id": "02d46374",
   "metadata": {
    "papermill": {
     "duration": 0.007499,
     "end_time": "2023-05-08T23:02:30.693062",
     "exception": false,
     "start_time": "2023-05-08T23:02:30.685563",
     "status": "completed"
    },
    "tags": []
   },
   "source": [
    "c. We have: the service time is deterministic with value $\\tau = \\frac{1}{m}$ => $E(T) = T = \\frac{1}{m}$\n",
    "\n",
    "The steady state condition:\n",
    "\n",
    "$\\rho = \\frac{\\lambda}{\\mu} < 1$\n",
    "\n",
    "<=> $\\frac{\\lambda}{m} < 1$\n",
    "\n",
    "$Ls = \\frac{\\lambda}{m}$\n",
    "\n",
    "$Lq = \\frac{\\lambda}{m(1- \\frac{\\lambda}{m})}$\n",
    "\n",
    "$L = Lq + Ls = \\frac{\\lambda}{m} + \\frac{\\lambda}{m(1- \\frac{\\lambda}{m})}$"
   ]
  },
  {
   "cell_type": "markdown",
   "id": "a36aaf5b",
   "metadata": {
    "papermill": {
     "duration": 0.007436,
     "end_time": "2023-05-08T23:02:30.708298",
     "exception": false,
     "start_time": "2023-05-08T23:02:30.700862",
     "status": "completed"
    },
    "tags": []
   },
   "source": [
    "(a) For a steady state to exist in an M/G/1 queue with service time distribution having mean m and variance m², the following conditions must be satisfied:\n",
    "\n",
    "The arrival rate X must be less than or equal to the service rate 1/m.\n",
    "\n",
    "The utilization factor of the system, ρ = X/m, must be less than 1.\n",
    "\n",
    "(b) Assuming that the conditions for a steady state exist, we can calculate the expected number being served and in the queue as follows:\n",
    "\n",
    "Expected number being served:\n",
    "\n",
    "L = ρ + ρ²/(1-ρ)\n",
    "\n",
    "= X/m + (X/m)²/(1 - X/m)\n",
    "\n",
    "= X/m + X²/m²(1 - X/m)\n",
    "\n",
    "= X/m(1 + X/m - X/m)\n",
    "\n",
    "= X/m\n",
    "\n",
    "Expected number in the queue:\n",
    "\n",
    "Lq = ρ²/(1-ρ)\n",
    "\n",
    "= (X/m)²/(1 - X/m)\n",
    "\n",
    "= X²/m²(1 - X/m)\n",
    "\n",
    "Expected time spent in the queue:\n",
    "\n",
    "Wq = Lq / X\n",
    "\n",
    "= (X/m)² / X(1 - X/m)\n",
    "\n",
    "= X/m(1 - X/m)Expected time spent in the system (queue + service):\n",
    "\n",
    "W = Wq + 1/m\n",
    "\n",
    "= X/m(1 - X/m) + 1/m\n",
    "\n",
    "= (1/m) / (1 - X/m). "
   ]
  },
  {
   "cell_type": "markdown",
   "id": "f8f2105d",
   "metadata": {
    "papermill": {
     "duration": 0.007387,
     "end_time": "2023-05-08T23:02:30.723514",
     "exception": false,
     "start_time": "2023-05-08T23:02:30.716127",
     "status": "completed"
    },
    "tags": []
   },
   "source": [
    "Given the above conditions, we can calculate the expected number being served and in the queue as follows:\n",
    "Expected number being served (L): This is the average number of customers in the system, including those being served by the server and those waiting in the queue. It can be calculated as the ratio of the arrival rate X to the service rate m, i.e., L = X/m.\n",
    "Expected number in the queue (Lq): This is the average number of customers waiting in the queue. It can be calculated as the ratio of the squared arrival rate X² to the product of the service rate m and the difference between the arrival rate X and the service rate m, i.e., Lq = X² / (m (m - X)).\n",
    "Expected time spent in the queue (Wq): This is the average time that a customer spends waiting in the queue before being served. It can be calculated as the ratio of the expected number in the queue Lq to the arrival rate X, i.e., Wq = Lq / X.\n",
    "Expected time spent in the system (W): This is the average time that a customer spends in the system, including both waiting in the queue and being served by the server. It can be calculated as the sum of the expected time spent in the queue Wq and the expected service time 1/m, i.e., W = Wq + 1/m.\n"
   ]
  },
  {
   "cell_type": "markdown",
   "id": "9faaf031",
   "metadata": {
    "papermill": {
     "duration": 0.007521,
     "end_time": "2023-05-08T23:02:30.738932",
     "exception": false,
     "start_time": "2023-05-08T23:02:30.731411",
     "status": "completed"
    },
    "tags": []
   },
   "source": [
    "When the service time is deterministic with value 1/m, the calculations become simpler, as the service time distribution is no longer random. In this case, the expected number being served and in the queue can be calculated using the same formulas as in part (b), but with the service rate m being equal to 1/1/m = m. Therefore, the expected number being served is L = X/m, the expected number in the queue is Lq = X/m(1-X/m), the expected time spent in the queue is Wq = Lq / X = X/m(1 - X/m), and the expected time spent in the system is W = Wq + 1/m = X/m(1 - X/m) + 1/m = (1/m) / (1 - X/m). The arrival rate X must be less than or equal to the service rate 1/m"
   ]
  }
 ],
 "metadata": {
  "kernelspec": {
   "display_name": "Python 3",
   "language": "python",
   "name": "python3"
  },
  "language_info": {
   "codemirror_mode": {
    "name": "ipython",
    "version": 3
   },
   "file_extension": ".py",
   "mimetype": "text/x-python",
   "name": "python",
   "nbconvert_exporter": "python",
   "pygments_lexer": "ipython3",
   "version": "3.7.12"
  },
  "papermill": {
   "default_parameters": {},
   "duration": 14.309603,
   "end_time": "2023-05-08T23:02:31.469456",
   "environment_variables": {},
   "exception": null,
   "input_path": "__notebook__.ipynb",
   "output_path": "__notebook__.ipynb",
   "parameters": {},
   "start_time": "2023-05-08T23:02:17.159853",
   "version": "2.4.0"
  }
 },
 "nbformat": 4,
 "nbformat_minor": 5
}
