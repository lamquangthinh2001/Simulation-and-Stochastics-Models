{
 "cells": [
  {
   "cell_type": "markdown",
   "id": "a3772e6d",
   "metadata": {
    "papermill": {
     "duration": 0.008342,
     "end_time": "2023-03-21T02:40:38.969284",
     "exception": false,
     "start_time": "2023-03-21T02:40:38.960942",
     "status": "completed"
    },
    "tags": []
   },
   "source": [
    "Name: Lam Quang Thinh\n",
    "<br> Student ID: 300538520"
   ]
  },
  {
   "cell_type": "raw",
   "id": "5da55207",
   "metadata": {
    "_cell_guid": "b1076dfc-b9ad-4769-8c92-a6c4dae69d19",
    "_uuid": "8f2839f25d086af736a60e9eeb907d3b93b6e0e5",
    "execution": {
     "iopub.execute_input": "2023-03-16T22:26:22.889827Z",
     "iopub.status.busy": "2023-03-16T22:26:22.888456Z",
     "iopub.status.idle": "2023-03-16T22:26:22.897913Z",
     "shell.execute_reply": "2023-03-16T22:26:22.895756Z",
     "shell.execute_reply.started": "2023-03-16T22:26:22.889769Z"
    },
    "papermill": {
     "duration": 0.006023,
     "end_time": "2023-03-21T02:40:38.982324",
     "exception": false,
     "start_time": "2023-03-21T02:40:38.976301",
     "status": "completed"
    },
    "tags": []
   },
   "source": [
    "# This Python 3 environment comes with many helpful analytics libraries installed\n",
    "# It is defined by the kaggle/python Docker image: https://github.com/kaggle/docker-python\n",
    "# For example, here's several helpful packages to load\n",
    "\n",
    "import numpy as np # linear algebra\n",
    "import pandas as pd # data processing, CSV file I/O (e.g. pd.read_csv)\n",
    "\n",
    "# Input data files are available in the read-only \"../input/\" directory\n",
    "# For example, running this (by clicking run or pressing Shift+Enter) will list all files under the input directory\n",
    "\n",
    "import os\n",
    "for dirname, _, filenames in os.walk('/kaggle/input'):\n",
    "    for filename in filenames:\n",
    "        print(os.path.join(dirname, filename))\n",
    "\n",
    "# You can write up to 20GB to the current directory (/kaggle/working/) that gets preserved as output when you create a version using \"Save & Run All\" \n",
    "# You can also write temporary files to /kaggle/temp/, but they won't be saved outside of the current session"
   ]
  },
  {
   "cell_type": "markdown",
   "id": "432c2d3d",
   "metadata": {
    "papermill": {
     "duration": 0.005861,
     "end_time": "2023-03-21T02:40:38.994586",
     "exception": false,
     "start_time": "2023-03-21T02:40:38.988725",
     "status": "completed"
    },
    "tags": []
   },
   "source": [
    "1. a.\n",
    "<br> r: a random number that has a uniform distribution of interval from 0 to 1: radius of the circle\n",
    "<br> A = $\\pi*r^2$: area of the circle\n",
    "<br> Construct the list L of n tuples, each tuple is ($A_i, r_i$)"
   ]
  },
  {
   "cell_type": "code",
   "execution_count": 1,
   "id": "851046c0",
   "metadata": {
    "execution": {
     "iopub.execute_input": "2023-03-21T02:40:39.010259Z",
     "iopub.status.busy": "2023-03-21T02:40:39.009182Z",
     "iopub.status.idle": "2023-03-21T02:40:39.025098Z",
     "shell.execute_reply": "2023-03-21T02:40:39.024108Z"
    },
    "papermill": {
     "duration": 0.027206,
     "end_time": "2023-03-21T02:40:39.027990",
     "exception": false,
     "start_time": "2023-03-21T02:40:39.000784",
     "status": "completed"
    },
    "tags": []
   },
   "outputs": [
    {
     "name": "stdout",
     "output_type": "stream",
     "text": [
      "[(0.052363598850944326, 0.008614078932626775), (0.08718667752263232, 0.023880869138467153), (0.4072417636703983, 0.521020116797811), (0.10770023493843905, 0.036440403233651254), (0.9011988779516946, 2.5514740599431343), (0.0381536661023224, 0.004573223453722671), (0.5362020400339269, 0.9032475591114266), (0.33219769850967984, 0.3466914339927522), (0.8520866189293687, 2.2809583920345604), (0.1596623967219699, 0.08008573416499135)]\n"
     ]
    }
   ],
   "source": [
    "import random\n",
    "import math\n",
    "\n",
    "# set random seed\n",
    "random.seed(123)\n",
    "\n",
    "# set n\n",
    "n = 10\n",
    "\n",
    "# create list of tuples\n",
    "L = []\n",
    "for i in range(n):\n",
    "    r = random.uniform(0, 1)\n",
    "    A = math.pi * r**2\n",
    "    L.append((r, A))\n",
    "\n",
    "# print out list L\n",
    "print(L)"
   ]
  },
  {
   "cell_type": "markdown",
   "id": "0fb0ec3a",
   "metadata": {
    "papermill": {
     "duration": 0.006344,
     "end_time": "2023-03-21T02:40:39.040988",
     "exception": false,
     "start_time": "2023-03-21T02:40:39.034644",
     "status": "completed"
    },
    "tags": []
   },
   "source": [
    "b. The updated code to calculate means of $r_i$ and $A_i$"
   ]
  },
  {
   "cell_type": "code",
   "execution_count": 2,
   "id": "25e1f0c8",
   "metadata": {
    "execution": {
     "iopub.execute_input": "2023-03-21T02:40:39.056600Z",
     "iopub.status.busy": "2023-03-21T02:40:39.056064Z",
     "iopub.status.idle": "2023-03-21T02:40:39.064909Z",
     "shell.execute_reply": "2023-03-21T02:40:39.063671Z"
    },
    "papermill": {
     "duration": 0.019571,
     "end_time": "2023-03-21T02:40:39.067377",
     "exception": false,
     "start_time": "2023-03-21T02:40:39.047806",
     "status": "completed"
    },
    "tags": []
   },
   "outputs": [
    {
     "name": "stdout",
     "output_type": "stream",
     "text": [
      "Mean r: 0.34739935732313765\n",
      "Mean A: 0.6756985870803144\n"
     ]
    }
   ],
   "source": [
    "import random\n",
    "import math\n",
    "\n",
    "# set random seed\n",
    "random.seed(123)\n",
    "\n",
    "# set n\n",
    "n = 10\n",
    "\n",
    "# create list of tuples\n",
    "L = []\n",
    "for i in range(n):\n",
    "    r = random.uniform(0, 1)\n",
    "    A = math.pi * r**2\n",
    "    L.append((r, A))\n",
    "\n",
    "# calculate means\n",
    "total_r = 0\n",
    "total_A = 0\n",
    "for l in L:\n",
    "    total_r += l[0]\n",
    "    total_A += l[1]\n",
    "mean_r = total_r/n\n",
    "mean_A = total_A/n\n",
    "# print out means\n",
    "print(\"Mean r:\", mean_r)\n",
    "print(\"Mean A:\", mean_A)"
   ]
  },
  {
   "cell_type": "markdown",
   "id": "bbbd531d",
   "metadata": {
    "papermill": {
     "duration": 0.005984,
     "end_time": "2023-03-21T02:40:39.079933",
     "exception": false,
     "start_time": "2023-03-21T02:40:39.073949",
     "status": "completed"
    },
    "tags": []
   },
   "source": [
    "c. Compare mean_A and $\\pi$(mean_r)$^2$"
   ]
  },
  {
   "cell_type": "code",
   "execution_count": 3,
   "id": "57cb624e",
   "metadata": {
    "execution": {
     "iopub.execute_input": "2023-03-21T02:40:39.094529Z",
     "iopub.status.busy": "2023-03-21T02:40:39.094034Z",
     "iopub.status.idle": "2023-03-21T02:40:40.351224Z",
     "shell.execute_reply": "2023-03-21T02:40:40.349698Z"
    },
    "papermill": {
     "duration": 1.26814,
     "end_time": "2023-03-21T02:40:40.354207",
     "exception": false,
     "start_time": "2023-03-21T02:40:39.086067",
     "status": "completed"
    },
    "tags": []
   },
   "outputs": [
    {
     "name": "stdout",
     "output_type": "stream",
     "text": [
      "pi_mean_r_squared: 0.7856763601452554\n",
      "mean_A: 1.0475304800044878\n",
      "mean_r 0.5000885449349257\n"
     ]
    }
   ],
   "source": [
    "import random\n",
    "import math\n",
    "\n",
    "# set random seed\n",
    "random.seed(123)\n",
    "\n",
    "# set n\n",
    "n = 1000000\n",
    "\n",
    "# create list of tuples\n",
    "L = []\n",
    "for i in range(n):\n",
    "    r = random.uniform(0, 1)\n",
    "    A = math.pi * (r**2)\n",
    "    L.append((r, A))\n",
    "\n",
    "# calculate means\n",
    "total_r = 0\n",
    "total_A = 0\n",
    "for l in L:\n",
    "    total_r += l[0]\n",
    "    total_A += l[1]\n",
    "\n",
    "mean_r = total_r/n\n",
    "pi_mean_r_squared = math.pi * (mean_r ** 2)\n",
    "mean_A = total_A/n\n",
    "print(\"pi_mean_r_squared:\",pi_mean_r_squared)\n",
    "print(\"mean_A:\",mean_A)\n",
    "print(\"mean_r\",mean_r)"
   ]
  },
  {
   "cell_type": "markdown",
   "id": "37aa2bea",
   "metadata": {
    "papermill": {
     "duration": 0.006355,
     "end_time": "2023-03-21T02:40:40.367412",
     "exception": false,
     "start_time": "2023-03-21T02:40:40.361057",
     "status": "completed"
    },
    "tags": []
   },
   "source": [
    "As we can see that mean_A and $\\pi$(mean_r)$^2$ are not so close to each other. However, mean_r is close to 0.5, which is the expected value of the uniform distribution of interval from 0 to 1"
   ]
  },
  {
   "cell_type": "markdown",
   "id": "b10473fa",
   "metadata": {
    "papermill": {
     "duration": 0.006214,
     "end_time": "2023-03-21T02:40:40.380356",
     "exception": false,
     "start_time": "2023-03-21T02:40:40.374142",
     "status": "completed"
    },
    "tags": []
   },
   "source": [
    "2. At least one double -6 on 24 throws of two die\n",
    "<br> a. The proportion of trials that this event occur"
   ]
  },
  {
   "cell_type": "code",
   "execution_count": 4,
   "id": "91725e9c",
   "metadata": {
    "execution": {
     "iopub.execute_input": "2023-03-21T02:40:40.396747Z",
     "iopub.status.busy": "2023-03-21T02:40:40.395316Z",
     "iopub.status.idle": "2023-03-21T02:40:45.878696Z",
     "shell.execute_reply": "2023-03-21T02:40:45.877391Z"
    },
    "papermill": {
     "duration": 5.495279,
     "end_time": "2023-03-21T02:40:45.882228",
     "exception": false,
     "start_time": "2023-03-21T02:40:40.386949",
     "status": "completed"
    },
    "tags": []
   },
   "outputs": [
    {
     "name": "stdout",
     "output_type": "stream",
     "text": [
      "Proportion of trials with at least one double-6: 0.4913\n"
     ]
    }
   ],
   "source": [
    "import random\n",
    "\n",
    "# Set random seed\n",
    "random.seed(123)\n",
    "\n",
    "# Set number of trials and initialize count\n",
    "n = 100000\n",
    "count = 0\n",
    "\n",
    "# Loop over trials\n",
    "for i in range(n):\n",
    "    # Roll two dice 24 times\n",
    "    for j in range(24):\n",
    "        dice_1 = random.randint(1, 6)\n",
    "        dice_2 = random.randint(1, 6)\n",
    "        # Check if double-6 occurs\n",
    "        if dice_1 == 6 and dice_2 == 6:\n",
    "            count += 1\n",
    "            break  # Break out of loop once double-6 occurs so that the event is not duplicated\n",
    "\n",
    "# Print proportion of trials with at least one double-6\n",
    "print(\"Proportion of trials with at least one double-6:\", count/n)\n"
   ]
  },
  {
   "cell_type": "markdown",
   "id": "03faa648",
   "metadata": {
    "papermill": {
     "duration": 0.006457,
     "end_time": "2023-03-21T02:40:45.898042",
     "exception": false,
     "start_time": "2023-03-21T02:40:45.891585",
     "status": "completed"
    },
    "tags": []
   },
   "source": [
    "The probability of getting a double-6 in one roll of two dice is 1/36, the probability of not getting a double-6 in one roll of two dice is 35/36. Therefore, the probability of not getting a double-6 in 24 rolls of two dice is (35/36)^24, which is approximately 0.508. This means that the probability of getting at least one double-6 in 24 rolls of two dice is approximately 1 - 0.508 = 0.492, which is less than 1/2. Therefore, when n becomes larger, the result will get closer to 0.492, so when m is small, it is more possible to get the probability of this event larger then 1/2."
   ]
  },
  {
   "cell_type": "markdown",
   "id": "d1a63965",
   "metadata": {
    "papermill": {
     "duration": 0.00631,
     "end_time": "2023-03-21T02:40:45.911197",
     "exception": false,
     "start_time": "2023-03-21T02:40:45.904887",
     "status": "completed"
    },
    "tags": []
   },
   "source": [
    "b. Modify Python code to investigate how many throws of two die would be required so\n",
    "that the probability of at least one double-6 is greater than 1/2 but as small as possible"
   ]
  },
  {
   "cell_type": "code",
   "execution_count": 5,
   "id": "7996e121",
   "metadata": {
    "execution": {
     "iopub.execute_input": "2023-03-21T02:40:45.927624Z",
     "iopub.status.busy": "2023-03-21T02:40:45.927087Z",
     "iopub.status.idle": "2023-03-21T02:40:46.846337Z",
     "shell.execute_reply": "2023-03-21T02:40:46.844990Z"
    },
    "papermill": {
     "duration": 0.930822,
     "end_time": "2023-03-21T02:40:46.849258",
     "exception": false,
     "start_time": "2023-03-21T02:40:45.918436",
     "status": "completed"
    },
    "tags": []
   },
   "outputs": [
    {
     "name": "stdout",
     "output_type": "stream",
     "text": [
      "The minimum number of throws required for the probability of at least one double-6 to be greater than 1/2 is: 10\n",
      "The probability is: 0.5162\n"
     ]
    }
   ],
   "source": [
    "import random\n",
    "\n",
    "# set random seed\n",
    "random.seed(123)\n",
    "\n",
    "# loop until probability is greater than 1/2\n",
    "n = 0\n",
    "prob = 0\n",
    "while prob <= 0.5:\n",
    "    n += 1\n",
    "    count = 0\n",
    "    trials = 10000\n",
    "    for i in range(trials):\n",
    "        # roll two dice n times\n",
    "        rolls = [random.randint(1, 6) for j in range(n)]\n",
    "        # check if at least one double-6 occurs\n",
    "        if 6 in rolls and rolls.count(6) >= 2:\n",
    "            count += 1\n",
    "    # calculate probability\n",
    "    prob = count/trials\n",
    "\n",
    "# print results\n",
    "print(\"The minimum number of throws required for the probability of at least one double-6 to be greater than 1/2 is:\", n)\n",
    "print(\"The probability is:\", prob)\n"
   ]
  },
  {
   "cell_type": "markdown",
   "id": "5be581e0",
   "metadata": {
    "papermill": {
     "duration": 0.006496,
     "end_time": "2023-03-21T02:40:46.862774",
     "exception": false,
     "start_time": "2023-03-21T02:40:46.856278",
     "status": "completed"
    },
    "tags": []
   },
   "source": [
    "3. "
   ]
  },
  {
   "cell_type": "markdown",
   "id": "68f7d106",
   "metadata": {
    "papermill": {
     "duration": 0.00635,
     "end_time": "2023-03-21T02:40:46.876095",
     "exception": false,
     "start_time": "2023-03-21T02:40:46.869745",
     "status": "completed"
    },
    "tags": []
   },
   "source": [
    "a. Modify the tablelookup function return a dictionary consisting of  the chosen y[i] and a count of the number of steps"
   ]
  },
  {
   "cell_type": "code",
   "execution_count": 6,
   "id": "c694f88f",
   "metadata": {
    "execution": {
     "iopub.execute_input": "2023-03-21T02:40:46.892436Z",
     "iopub.status.busy": "2023-03-21T02:40:46.891802Z",
     "iopub.status.idle": "2023-03-21T02:40:46.900204Z",
     "shell.execute_reply": "2023-03-21T02:40:46.898597Z"
    },
    "papermill": {
     "duration": 0.020185,
     "end_time": "2023-03-21T02:40:46.903063",
     "exception": false,
     "start_time": "2023-03-21T02:40:46.882878",
     "status": "completed"
    },
    "tags": []
   },
   "outputs": [],
   "source": [
    "def tablelookup(y,p):\n",
    "    \"\"\"Sample from y[i] with probabilities p[i] and count the number of steps\"\"\"\n",
    "    u = random.random()\n",
    "    sumP = 0.0\n",
    "    steps = 0\n",
    "    for i in range(len(p)):\n",
    "        sumP += p[i]\n",
    "        steps += 1\n",
    "        if u < sumP:\n",
    "            return {\"value\": y[i], \"steps\": steps}"
   ]
  },
  {
   "cell_type": "markdown",
   "id": "290233d2",
   "metadata": {
    "papermill": {
     "duration": 0.006978,
     "end_time": "2023-03-21T02:40:46.917253",
     "exception": false,
     "start_time": "2023-03-21T02:40:46.910275",
     "status": "completed"
    },
    "tags": []
   },
   "source": [
    "b. Identify the number of the average number of steps over m trials\n",
    "\n",
    "<br>i. y = [0,1,2,3,4,5]\n",
    "\n",
    "<br>ii. y = [5,4,3,2,1,0] with p suitably rearranged\n",
    "\n",
    "<br>iii. p arranged in descending probability order with y suitably rearranged"
   ]
  },
  {
   "cell_type": "code",
   "execution_count": 7,
   "id": "86aff52a",
   "metadata": {
    "execution": {
     "iopub.execute_input": "2023-03-21T02:40:46.933845Z",
     "iopub.status.busy": "2023-03-21T02:40:46.933266Z",
     "iopub.status.idle": "2023-03-21T02:40:51.251897Z",
     "shell.execute_reply": "2023-03-21T02:40:51.250173Z"
    },
    "papermill": {
     "duration": 4.33081,
     "end_time": "2023-03-21T02:40:51.254963",
     "exception": false,
     "start_time": "2023-03-21T02:40:46.924153",
     "status": "completed"
    },
    "tags": []
   },
   "outputs": [
    {
     "name": "stdout",
     "output_type": "stream",
     "text": [
      "Case (i): Average value: 3.750354\n",
      "Average steps: 4.750354\n",
      "Case (ii): Average value = 3.749373\n",
      "Average steps = 2.250627\n",
      "Case (iii): Average value = 3.934123\n",
      "Average steps = 2.065877\n"
     ]
    }
   ],
   "source": [
    "# i: y = [0,1,2,3,4,5]\n",
    "random.seed(123)\n",
    "y = [0, 1, 2, 3, 4, 5]\n",
    "p = [\n",
    "    1.0/1024, 15.0/1024, 90.0/1024, \n",
    "    270.0/1024, 405.0/1024, 243.0/1024\n",
    "]\n",
    "m = 1000000\n",
    "     \n",
    "valuetotal = 0.0\n",
    "stepstotal = 0\n",
    "for k in range(m):\n",
    "    result = tablelookup(y,p)\n",
    "    valuetotal += result['value']\n",
    "    stepstotal += result['steps']\n",
    "    \n",
    "print(\"Case (i): Average value:\", valuetotal/m)\n",
    "print(\"Average steps:\", stepstotal/m)\n",
    "\n",
    "# ii: y = [5,4,3,2,1,0] with p suitably rearranged\n",
    "random.seed(123)\n",
    "y = [5, 4, 3, 2, 1, 0]\n",
    "p = [\n",
    "    243.0/1024, 405.0/1024, 270.0/1024, \n",
    "    90.0/1024, 15.0/1024, 1.0/1024\n",
    "]\n",
    "m = 1000000\n",
    "valuetotal = 0.0\n",
    "stepstotal = 0\n",
    "for k in range(m):\n",
    "    result = tablelookup(y, p)\n",
    "    valuetotal += result['value']\n",
    "    stepstotal += result['steps']\n",
    "print(\"Case (ii): Average value =\", valuetotal/m)\n",
    "print(\"Average steps =\", stepstotal/m)\n",
    "\n",
    "# iii: p arranged in descending probability order with y suitably rearranged\n",
    "random.seed(123)\n",
    "y = [5,4,3,2,1,0]\n",
    "p = [\n",
    "    405.0/1024, 270.0/1024, 243.0/1024,     \n",
    "    90.0/1024, 15.0/1024, 1.0/1024\n",
    "]\n",
    "m = 1000000\n",
    "valuetotal = 0.0\n",
    "stepstotal = 0\n",
    "for k in range(m):\n",
    "    result = tablelookup(y, p)\n",
    "    valuetotal += result['value']\n",
    "    stepstotal += result['steps']\n",
    "print(\"Case (iii): Average value =\", valuetotal/m)\n",
    "print(\"Average steps =\", stepstotal/m)"
   ]
  },
  {
   "cell_type": "markdown",
   "id": "4b4f8984",
   "metadata": {
    "papermill": {
     "duration": 0.007393,
     "end_time": "2023-03-21T02:40:51.269837",
     "exception": false,
     "start_time": "2023-03-21T02:40:51.262444",
     "status": "completed"
    },
    "tags": []
   },
   "source": [
    "Answer: The order in case (iii) gives the fastest table look up, of around 2 average steps, compared to 4.75 and 2.25 steps in case (i) and case (ii), respectively, and the sample mean of the y values (the result valuetotal/m) is the same each time (with perhaps some very small differences).\n"
   ]
  },
  {
   "cell_type": "markdown",
   "id": "b6211a01",
   "metadata": {
    "papermill": {
     "duration": 0.006734,
     "end_time": "2023-03-21T02:40:51.283764",
     "exception": false,
     "start_time": "2023-03-21T02:40:51.277030",
     "status": "completed"
    },
    "tags": []
   },
   "source": [
    "4. Gaussian distribution with mean μ and standard deviation σ\n",
    "<br> a. Draw 1000 samples from the Gaussian distribution with μ = 0 and σ = 1"
   ]
  },
  {
   "cell_type": "code",
   "execution_count": 8,
   "id": "2d810fa3",
   "metadata": {
    "execution": {
     "iopub.execute_input": "2023-03-21T02:40:51.300586Z",
     "iopub.status.busy": "2023-03-21T02:40:51.299975Z",
     "iopub.status.idle": "2023-03-21T02:40:51.307175Z",
     "shell.execute_reply": "2023-03-21T02:40:51.305884Z"
    },
    "papermill": {
     "duration": 0.018797,
     "end_time": "2023-03-21T02:40:51.309768",
     "exception": false,
     "start_time": "2023-03-21T02:40:51.290971",
     "status": "completed"
    },
    "tags": []
   },
   "outputs": [],
   "source": [
    "import numpy as np\n",
    "\n",
    "# set seed\n",
    "np.random.seed(42)\n",
    "\n",
    "# mean=0, standard deviation=1, number of samples=1000\n",
    "samples = np.random.normal(loc=0, scale=1, size=1000)"
   ]
  },
  {
   "cell_type": "markdown",
   "id": "d538bc4d",
   "metadata": {
    "papermill": {
     "duration": 0.00694,
     "end_time": "2023-03-21T02:40:51.324466",
     "exception": false,
     "start_time": "2023-03-21T02:40:51.317526",
     "status": "completed"
    },
    "tags": []
   },
   "source": [
    "b. Compare the mean and standard deviation of the samples with μ and σ"
   ]
  },
  {
   "cell_type": "markdown",
   "id": "df2f8661",
   "metadata": {
    "papermill": {
     "duration": 0.006775,
     "end_time": "2023-03-21T02:40:51.338672",
     "exception": false,
     "start_time": "2023-03-21T02:40:51.331897",
     "status": "completed"
    },
    "tags": []
   },
   "source": [
    "Calculate the sample mean and standard deviation"
   ]
  },
  {
   "cell_type": "code",
   "execution_count": 9,
   "id": "54b1dd20",
   "metadata": {
    "execution": {
     "iopub.execute_input": "2023-03-21T02:40:51.356119Z",
     "iopub.status.busy": "2023-03-21T02:40:51.355106Z",
     "iopub.status.idle": "2023-03-21T02:40:51.365205Z",
     "shell.execute_reply": "2023-03-21T02:40:51.363880Z"
    },
    "papermill": {
     "duration": 0.022715,
     "end_time": "2023-03-21T02:40:51.368636",
     "exception": false,
     "start_time": "2023-03-21T02:40:51.345921",
     "status": "completed"
    },
    "tags": []
   },
   "outputs": [
    {
     "name": "stdout",
     "output_type": "stream",
     "text": [
      "Mean of samples: 0.01933205582232549\n",
      "Standard deviation of samples: 0.9787262077473543\n",
      "The true Mean: 0\n",
      "The true Standard deviation: 1\n"
     ]
    }
   ],
   "source": [
    "#Calculate the mean and standard deviation of the samples\n",
    "mean = np.mean(samples)\n",
    "std_dev = np.std(samples)\n",
    "print(\"Mean of samples:\", mean)\n",
    "print(\"Standard deviation of samples:\", std_dev)\n",
    "#Print the true mean and true standard deviation for comparison\n",
    "print(\"The true Mean:\", 0)\n",
    "print(\"The true Standard deviation:\", 1)"
   ]
  },
  {
   "cell_type": "markdown",
   "id": "ba939d18",
   "metadata": {
    "papermill": {
     "duration": 0.007143,
     "end_time": "2023-03-21T02:40:51.383904",
     "exception": false,
     "start_time": "2023-03-21T02:40:51.376761",
     "status": "completed"
    },
    "tags": []
   },
   "source": [
    "The mean and standard deviation of the sample close to the true mean μ = 0 and the true standard deviation σ = 1"
   ]
  },
  {
   "cell_type": "markdown",
   "id": "a6fd0feb",
   "metadata": {
    "papermill": {
     "duration": 0.006972,
     "end_time": "2023-03-21T02:40:51.398342",
     "exception": false,
     "start_time": "2023-03-21T02:40:51.391370",
     "status": "completed"
    },
    "tags": []
   },
   "source": [
    "c. Plot the histogram of the samples, along with the probability density function"
   ]
  },
  {
   "cell_type": "code",
   "execution_count": 10,
   "id": "69e3311c",
   "metadata": {
    "execution": {
     "iopub.execute_input": "2023-03-21T02:40:51.416102Z",
     "iopub.status.busy": "2023-03-21T02:40:51.415043Z",
     "iopub.status.idle": "2023-03-21T02:40:51.728000Z",
     "shell.execute_reply": "2023-03-21T02:40:51.726536Z"
    },
    "papermill": {
     "duration": 0.325088,
     "end_time": "2023-03-21T02:40:51.730864",
     "exception": false,
     "start_time": "2023-03-21T02:40:51.405776",
     "status": "completed"
    },
    "tags": []
   },
   "outputs": [
    {
     "data": {
      "image/png": "[encoded data removed]",
      "text/plain": [
       "<Figure size 640x480 with 1 Axes>"
      ]
     },
     "metadata": {},
     "output_type": "display_data"
    }
   ],
   "source": [
    "import numpy as np\n",
    "import matplotlib.pyplot as plt\n",
    "\n",
    "# 1. plot the histogram\n",
    "plt.hist(samples, density=True, bins=20, alpha=0.5)\n",
    "\n",
    "# 2. plot the probability density function\n",
    "# Create a range of x values to plot the probability density function\n",
    "x = np.linspace(start=-4, stop=4, num=100) #-4;4: same range\n",
    "# Calculate the probability density function\n",
    "pdf = (1/(np.sqrt(2*np.pi)*std_dev)) * np.exp(-(x-mean)**2 / (2*std_dev**2))\n",
    "# Plot the probability density function\n",
    "plt.plot(x, pdf, color='black', linewidth=2)\n",
    "plt.xlabel('x')\n",
    "plt.ylabel('Probability density')\n",
    "plt.title(\"Histogram and probability density function of the samples\")\n",
    "plt.show()"
   ]
  }
 ],
 "metadata": {
  "kernelspec": {
   "display_name": "Python 3",
   "language": "python",
   "name": "python3"
  },
  "language_info": {
   "codemirror_mode": {
    "name": "ipython",
    "version": 3
   },
   "file_extension": ".py",
   "mimetype": "text/x-python",
   "name": "python",
   "nbconvert_exporter": "python",
   "pygments_lexer": "ipython3",
   "version": "3.7.12"
  },
  "papermill": {
   "default_parameters": {},
   "duration": 24.716899,
   "end_time": "2023-03-21T02:40:52.867468",
   "environment_variables": {},
   "exception": null,
   "input_path": "__notebook__.ipynb",
   "output_path": "__notebook__.ipynb",
   "parameters": {},
   "start_time": "2023-03-21T02:40:28.150569",
   "version": "2.4.0"
  }
 },
 "nbformat": 4,
 "nbformat_minor": 5
}
