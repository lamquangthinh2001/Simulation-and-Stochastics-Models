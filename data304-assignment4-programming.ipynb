{
 "cells": [
  {
   "cell_type": "markdown",
   "id": "55dddadf",
   "metadata": {
    "papermill": {
     "duration": 0.003111,
     "end_time": "2023-05-15T04:26:12.969125",
     "exception": false,
     "start_time": "2023-05-15T04:26:12.966014",
     "status": "completed"
    },
    "tags": []
   },
   "source": [
    "# Assignment 4"
   ]
  },
  {
   "cell_type": "markdown",
   "id": "08645e5c",
   "metadata": {
    "papermill": {
     "duration": 0.002398,
     "end_time": "2023-05-15T04:26:12.974340",
     "exception": false,
     "start_time": "2023-05-15T04:26:12.971942",
     "status": "completed"
    },
    "tags": []
   },
   "source": [
    "## Q1"
   ]
  },
  {
   "cell_type": "code",
   "execution_count": 1,
   "id": "47ad1f16",
   "metadata": {
    "execution": {
     "iopub.execute_input": "2023-05-15T04:26:12.981483Z",
     "iopub.status.busy": "2023-05-15T04:26:12.980859Z",
     "iopub.status.idle": "2023-05-15T04:26:25.531224Z",
     "shell.execute_reply": "2023-05-15T04:26:25.530093Z"
    },
    "papermill": {
     "duration": 12.556762,
     "end_time": "2023-05-15T04:26:25.533647",
     "exception": false,
     "start_time": "2023-05-15T04:26:12.976885",
     "status": "completed"
    },
    "tags": []
   },
   "outputs": [
    {
     "name": "stdout",
     "output_type": "stream",
     "text": [
      "Collecting SimPyClassic\r\n",
      "  Downloading SimPyClassic-2.3.4-py2.py3-none-any.whl (79 kB)\r\n",
      "\u001b[2K     \u001b[90m━━━━━━━━━━━━━━━━━━━━━━━━━━━━━━━━━━━━━━━━\u001b[0m \u001b[32m79.2/79.2 kB\u001b[0m \u001b[31m2.8 MB/s\u001b[0m eta \u001b[36m0:00:00\u001b[0m\r\n",
      "\u001b[?25hInstalling collected packages: SimPyClassic\r\n",
      "Successfully installed SimPyClassic-2.3.4\r\n",
      "\u001b[33mWARNING: Running pip as the 'root' user can result in broken permissions and conflicting behaviour with the system package manager. It is recommended to use a virtual environment instead: https://pip.pypa.io/warnings/venv\u001b[0m\u001b[33m\r\n",
      "\u001b[0m"
     ]
    }
   ],
   "source": [
    "import sys\n",
    "!{sys.executable} -m pip install SimPyClassic"
   ]
  },
  {
   "cell_type": "code",
   "execution_count": 2,
   "id": "55f4f3f6",
   "metadata": {
    "execution": {
     "iopub.execute_input": "2023-05-15T04:26:25.542080Z",
     "iopub.status.busy": "2023-05-15T04:26:25.541711Z",
     "iopub.status.idle": "2023-05-15T04:26:25.551923Z",
     "shell.execute_reply": "2023-05-15T04:26:25.550927Z"
    },
    "papermill": {
     "duration": 0.017459,
     "end_time": "2023-05-15T04:26:25.554354",
     "exception": false,
     "start_time": "2023-05-15T04:26:25.536895",
     "status": "completed"
    },
    "tags": []
   },
   "outputs": [],
   "source": [
    "from SimPy.Simulation import *\n",
    "import random\n",
    "import numpy\n",
    "import math"
   ]
  },
  {
   "cell_type": "code",
   "execution_count": 3,
   "id": "dad270d6",
   "metadata": {
    "execution": {
     "iopub.execute_input": "2023-05-15T04:26:25.562288Z",
     "iopub.status.busy": "2023-05-15T04:26:25.561947Z",
     "iopub.status.idle": "2023-05-15T04:26:25.569152Z",
     "shell.execute_reply": "2023-05-15T04:26:25.567957Z"
    },
    "papermill": {
     "duration": 0.013578,
     "end_time": "2023-05-15T04:26:25.571148",
     "exception": false,
     "start_time": "2023-05-15T04:26:25.557570",
     "status": "completed"
    },
    "tags": []
   },
   "outputs": [],
   "source": [
    "def tablelookup(P):\n",
    "    \"\"\"Sample from i=0..n-1 with probabilities P[i]\"\"\"\n",
    "    u = random.random()\n",
    "    sumP = 0.0\n",
    "    for i in range(len(P)):\n",
    "        sumP += P[i]\n",
    "        if u<sumP:\n",
    "            return i\n",
    "        \n",
    "def conf(L):\n",
    "    \"\"\"confidence interval\"\"\"\n",
    "    lower = numpy.mean(L) - 1.96*numpy.std(L)/math.sqrt(len(L))\n",
    "    upper = numpy.mean(L) + 1.96*numpy.std(L)/math.sqrt(len(L))\n",
    "    return lower, upper"
   ]
  },
  {
   "cell_type": "code",
   "execution_count": 4,
   "id": "c1368132",
   "metadata": {
    "execution": {
     "iopub.execute_input": "2023-05-15T04:26:25.579274Z",
     "iopub.status.busy": "2023-05-15T04:26:25.578565Z",
     "iopub.status.idle": "2023-05-15T04:29:46.651998Z",
     "shell.execute_reply": "2023-05-15T04:29:46.650832Z"
    },
    "papermill": {
     "duration": 201.083302,
     "end_time": "2023-05-15T04:29:46.657728",
     "exception": false,
     "start_time": "2023-05-15T04:26:25.574426",
     "status": "completed"
    },
    "tags": []
   },
   "outputs": [
    {
     "name": "stdout",
     "output_type": "stream",
     "text": [
      "Estimate of W[0]: 20.010666247941867\n",
      "Conf int of W[0]: (19.99390045296098, 20.027432042922754)\n",
      "Estimate of W[1]: 16.85646455166988\n",
      "Conf int of W[1]: (16.830563822042365, 16.882365281297396)\n",
      "Estimate of W[2]: 103.12208361995602\n",
      "Conf int of W[2]: (102.94568812404994, 103.2984791158621)\n",
      "Estimate of L:  127.5\n",
      "Conf int of L:  (45.84966830032674, 209.15033169967325)\n"
     ]
    }
   ],
   "source": [
    "class Job(Process):\n",
    "    \"\"\"a job\"\"\"\n",
    "    n = 0 # number in system\n",
    "    \n",
    "    def run(self, N):\n",
    "        startTime = now()\n",
    "        current = G.startNode\n",
    "        \n",
    "        Job.n += 1\n",
    "        G.numberMon.observe(Job.n)\n",
    "        \n",
    "        for i in range(N):\n",
    "            yield request, self, G.server[current]\n",
    "            t = random.expovariate(G.mu[current])\n",
    "            yield hold, self, t\n",
    "            yield release, self, G.server[current]\n",
    "            \n",
    "            delay = now() - startTime\n",
    "            G.delayMon[current].observe(delay)\n",
    "            \n",
    "            current = tablelookup(G.transition[current])\n",
    "            startTime = now()\n",
    "            \n",
    "        Job.n -= 1\n",
    "        G.numberMon.observe(Job.n)\n",
    "            \n",
    "class G:\n",
    "    server = 'dummy'\n",
    "    delayMon = 'Monitor'\n",
    "    numberMon = 'Monitor'\n",
    "    startNode = 0\n",
    "    mu = [1.0, 0.1, 1/1.4]\n",
    "    mu = [1/20, 1/10, 1/30]\n",
    "    \n",
    "    # let p = 0.4 => 1-p=0.6\n",
    "    transition = [\n",
    "        [0, 0.3, 0.7],\n",
    "        [1, 0, 0],\n",
    "        [0, 1, 0]\n",
    "    ]\n",
    "    \n",
    "def model(server, N, maxtime, rvseed):\n",
    "    # setup\n",
    "    initialize()\n",
    "    random.seed(rvseed)\n",
    "    G.server = [Resource(server),\n",
    "                Resource(1),\n",
    "                Resource(1)]\n",
    "    G.delayMon = [Monitor(), Monitor(), Monitor()]\n",
    "    G.numberMon = Monitor()\n",
    "    \n",
    "    # simulate\n",
    "    for i in range(K): # 5 jobs\n",
    "            job = Job(str(i))\n",
    "            activate(job, job.run(N))\n",
    "    simulate(until=maxtime)\n",
    "    \n",
    "    # gather performance measures\n",
    "    W = []\n",
    "    for i in range(len(G.delayMon)):\n",
    "        W.append(G.delayMon[i].mean())\n",
    "    \n",
    "    L = G.numberMon.timeAverage()\n",
    "\n",
    "    return W,L\n",
    "\n",
    "## Experiment -----------------\n",
    "K = 5\n",
    "\n",
    "allW = [[],[],[]]\n",
    "allL = [[],[],[]]\n",
    "for k in range(50):\n",
    "    seed = 123*k\n",
    "    W,L = model(server=100000, N=100000, maxtime=2000000, rvseed=seed)\n",
    "    for i in range(3):\n",
    "        allW[i].append(W[i])\n",
    "        allL[i].append(L)\n",
    "        \n",
    "# for question (a)\n",
    "for i in range(3):\n",
    "    print(\"Estimate of W[%d]: %s\" % (i, numpy.mean(allW[i])))    \n",
    "    print(\"Conf int of W[%d]: %s\" % (i, conf(allW[i])))\n",
    "\n",
    "# for question (b)\n",
    "print(\"Estimate of L: \", numpy.mean(allL))    \n",
    "print(\"Conf int of L: \", conf(allL))          "
   ]
  },
  {
   "cell_type": "markdown",
   "id": "d3dd4b4d",
   "metadata": {
    "papermill": {
     "duration": 0.002818,
     "end_time": "2023-05-15T04:29:46.663734",
     "exception": false,
     "start_time": "2023-05-15T04:29:46.660916",
     "status": "completed"
    },
    "tags": []
   },
   "source": [
    "## Q2"
   ]
  },
  {
   "cell_type": "code",
   "execution_count": 5,
   "id": "b695bfe5",
   "metadata": {
    "execution": {
     "iopub.execute_input": "2023-05-15T04:29:46.671712Z",
     "iopub.status.busy": "2023-05-15T04:29:46.671316Z",
     "iopub.status.idle": "2023-05-15T04:30:15.023208Z",
     "shell.execute_reply": "2023-05-15T04:30:15.021837Z"
    },
    "papermill": {
     "duration": 28.359076,
     "end_time": "2023-05-15T04:30:15.025866",
     "exception": false,
     "start_time": "2023-05-15T04:29:46.666790",
     "status": "completed"
    },
    "tags": []
   },
   "outputs": [
    {
     "name": "stdout",
     "output_type": "stream",
     "text": [
      "Estimate of W[0]: 0.29166679802726775\n",
      "Conf int of W[0]: (0.2901659827659885, 0.293167613288547)\n",
      "Estimate of W[1]: 0.2919090947418822\n",
      "Conf int of W[1]: (0.29044322237899434, 0.29337496710477007)\n",
      "Estimate of L[0]: 0.8765137951917816\n",
      "Conf int of L[0]: (0.8710430561422704, 0.8819845342412929)\n",
      "The proportion of time both servers in the section [0] are busy: 0.4670969099388907\n",
      "Estimate of L[1]: 0.8772076751915009\n",
      "Conf int of L[1]: (0.872280876439684, 0.8821344739433178)\n",
      "The proportion of time both servers in the section [1] are busy: 0.4672938891015421\n",
      "Estimate of Lambda Eff at section B:  3.0050503626563336\n",
      "Conf int of Lambda Eff at section B:  (2.9980499350645426, 3.0120507902481246)\n"
     ]
    }
   ],
   "source": [
    "class Source(Process):\n",
    "    \"\"\"generate random arrivals\"\"\"\n",
    "    def run(self, N, lamb):\n",
    "        for i in range(N):\n",
    "            a = Arrival(str(i))\n",
    "            activate(a, a.run())\n",
    "            t = random.expovariate(lamb)\n",
    "            yield hold, self, t\n",
    "            \n",
    "class Arrival(Process):\n",
    "    \"\"\"an arrival\"\"\"\n",
    "    def run(self):\n",
    "        for i in range(2):\n",
    "            startTime = now()\n",
    "            yield request, self, G.server[i]\n",
    "            t = random.expovariate(G.mu[i])\n",
    "            yield hold, self, t\n",
    "            yield release, self, G.server[i]\n",
    "            delay = now() - startTime\n",
    "            G.delayMon[i].observe(delay)\n",
    "        \n",
    "class G:\n",
    "    server = 'dummy'\n",
    "    delayMon = 'Monitor'\n",
    "    numberMon = 'Monitor'\n",
    "    startNode = 0\n",
    "    outNode = 2\n",
    "    mu = [4.0, 4.0]  \n",
    "    transition = [\n",
    "        [1.0, 0, 0],\n",
    "        [0, 1.0, 0]\n",
    "    ]    \n",
    "    \n",
    "def model(N, lamb, maxtime, rvseed):\n",
    "    # setup\n",
    "    initialize()\n",
    "    random.seed(rvseed)\n",
    "    # node 1: 1 server; node 2: 2 servers; node 3: 3 servers\n",
    "    G.server = [\n",
    "        Resource(2, monitored=True), \n",
    "        Resource(2, monitored=True)\n",
    "    ]\n",
    "    G.delayMon = [Monitor(), Monitor()]\n",
    "    \n",
    "    # simulate\n",
    "    s = Source('Source')\n",
    "    activate(s, s.run(N, lamb))\n",
    "    simulate(until = maxtime)\n",
    "    \n",
    "    # gather performance measures\n",
    "    W = []\n",
    "    for i in range(len(G.delayMon)):\n",
    "        W.append(G.delayMon[i].mean())\n",
    "    \n",
    "    L = []\n",
    "    for i in range(len(G.server)):\n",
    "        L.append(G.server[i].waitMon.timeAverage()+G.server[i].actMon.timeAverage())\n",
    "\n",
    "    return W, L\n",
    "\n",
    "## Experiment\n",
    "allW = [[],[]]\n",
    "allL = [[],[]]\n",
    "allP = [[],[]]\n",
    "allLambdaEff = []\n",
    "for k in range(50):\n",
    "    seed = 123*k\n",
    "    W, L = model(N=10000, lamb=3, maxtime=2000000, rvseed=seed)\n",
    "    \n",
    "    for i in range(2):\n",
    "        allW[i].append(W[i])\n",
    "        allL[i].append(L[i])\n",
    "    \n",
    "        if (i==1): # <=> section B\n",
    "            allLambdaEff.append(L[i]/W[i])\n",
    "    \n",
    "for i in range(2):\n",
    "    print(\"Estimate of W[%d]: %s\" % (i, numpy.mean(allW[i])))    \n",
    "    print(\"Conf int of W[%d]: %s\" % (i, conf(allW[i])))\n",
    "\n",
    "for i in range(2):\n",
    "    # average number of customers per section\n",
    "    avg_num = numpy.mean(allL[i])\n",
    "    print(\"Estimate of L[%d]: %s\" % (i, avg_num))    \n",
    "    print(\"Conf int of L[%d]: %s\" % (i, conf(allL[i])))    \n",
    "    \n",
    "\n",
    "    print(\"The proportion of time both servers in the section [%d] are busy: %s\" % (i, avg_num/(1+avg_num)))\n",
    "    \n",
    "    \n",
    "\n",
    "print(\"Estimate of Lambda Eff at section B: \", numpy.mean(allLambdaEff))    \n",
    "print(\"Conf int of Lambda Eff at section B: \", conf(allLambdaEff))"
   ]
  }
 ],
 "metadata": {
  "kernelspec": {
   "display_name": "Python 3",
   "language": "python",
   "name": "python3"
  },
  "language_info": {
   "codemirror_mode": {
    "name": "ipython",
    "version": 3
   },
   "file_extension": ".py",
   "mimetype": "text/x-python",
   "name": "python",
   "nbconvert_exporter": "python",
   "pygments_lexer": "ipython3",
   "version": "3.10.10"
  },
  "papermill": {
   "default_parameters": {},
   "duration": 253.648725,
   "end_time": "2023-05-15T04:30:16.055941",
   "environment_variables": {},
   "exception": null,
   "input_path": "__notebook__.ipynb",
   "output_path": "__notebook__.ipynb",
   "parameters": {},
   "start_time": "2023-05-15T04:26:02.407216",
   "version": "2.4.0"
  }
 },
 "nbformat": 4,
 "nbformat_minor": 5
}
