{
 "cells": [
  {
   "cell_type": "markdown",
   "id": "70497baa",
   "metadata": {
    "papermill": {
     "duration": 0.005582,
     "end_time": "2023-03-27T04:56:31.788220",
     "exception": false,
     "start_time": "2023-03-27T04:56:31.782638",
     "status": "completed"
    },
    "tags": []
   },
   "source": [
    "# Assignment 2- Queues"
   ]
  },
  {
   "cell_type": "markdown",
   "id": "85b82f8b",
   "metadata": {
    "papermill": {
     "duration": 0.004161,
     "end_time": "2023-03-27T04:56:31.796834",
     "exception": false,
     "start_time": "2023-03-27T04:56:31.792673",
     "status": "completed"
    },
    "tags": []
   },
   "source": [
    "## Problem 1"
   ]
  },
  {
   "cell_type": "markdown",
   "id": "7f26bcd2",
   "metadata": {
    "papermill": {
     "duration": 0.003862,
     "end_time": "2023-03-27T04:56:31.804974",
     "exception": false,
     "start_time": "2023-03-27T04:56:31.801112",
     "status": "completed"
    },
    "tags": []
   },
   "source": [
    "Single server, infinite capacity\n",
    "<br>Servings are Markovian with rate $\\mu$ > 0.\n",
    "<br> If nobody in a system, customer will enter with rate $\\lambda$ > 0\n",
    "<br> If one person in the system, customter will enter with rate $\\frac{\\lambda}{2}$\n",
    "<br> If n people in the system, customter will enter with rate $\\frac{\\lambda}{2^n}$"
   ]
  },
  {
   "cell_type": "markdown",
   "id": "1aee55b9",
   "metadata": {
    "papermill": {
     "duration": 0.004299,
     "end_time": "2023-03-27T04:56:31.813316",
     "exception": false,
     "start_time": "2023-03-27T04:56:31.809017",
     "status": "completed"
    },
    "tags": []
   },
   "source": [
    "### a. Describe the system graphically"
   ]
  },
  {
   "cell_type": "markdown",
   "id": "d426f87a",
   "metadata": {
    "papermill": {
     "duration": 0.003811,
     "end_time": "2023-03-27T04:56:31.821149",
     "exception": false,
     "start_time": "2023-03-27T04:56:31.817338",
     "status": "completed"
    },
    "tags": []
   },
   "source": [
    "              λ       λ/2       λ/4        λ/8       ...       λ/2^𝑛\n",
    "          |-------->|-------->|--------->|--------->      |--------->|  \n",
    "          1         2         3          4               n-1         n\n",
    "          | µ       |   µ     |    µ     |    µ    ...    |    µ     |\n",
    "          |<--------|<--------|<---------|<--------       |<----------\n"
   ]
  },
  {
   "cell_type": "markdown",
   "id": "a015fad6",
   "metadata": {
    "papermill": {
     "duration": 0.003802,
     "end_time": "2023-03-27T04:56:31.829018",
     "exception": false,
     "start_time": "2023-03-27T04:56:31.825216",
     "status": "completed"
    },
    "tags": []
   },
   "source": [
    "The arrows from left to right (the above arrow) indicate the customer arrival rate. which is based on the number of customers currently in the system. <br>The arrows from right to left (the below arrow) indicate the serving rate, $\\mu$, which is the constant rate."
   ]
  },
  {
   "cell_type": "markdown",
   "id": "d8ced855",
   "metadata": {
    "papermill": {
     "duration": 0.003781,
     "end_time": "2023-03-27T04:56:31.836816",
     "exception": false,
     "start_time": "2023-03-27T04:56:31.833035",
     "status": "completed"
    },
    "tags": []
   },
   "source": [
    "### b.  Compute the steady-state distribution π = ($π_0, π_1, π_2$, . . .)."
   ]
  },
  {
   "cell_type": "markdown",
   "id": "d614a603",
   "metadata": {
    "papermill": {
     "duration": 0.004302,
     "end_time": "2023-03-27T04:56:31.845126",
     "exception": false,
     "start_time": "2023-03-27T04:56:31.840824",
     "status": "completed"
    },
    "tags": []
   },
   "source": [
    "To find the steady-state distribution of the system, we need to solve the balance equations:\n",
    "\n",
    "$\\lambda\\pi_0 = \\mu\\pi_1$\n",
    "\n",
    "$(\\lambda/2)\\pi_1 = \\mu\\pi_2 + (\\lambda/2)\\pi_0$\n",
    "\n",
    "$(\\lambda/4)\\pi_2 = \\mu\\pi_3 + (\\lambda/2)\\pi_1$\n",
    "\n",
    "...\n",
    "\n",
    "$(\\lambda/2^n)\\pi_{n-1} = \\mu\\pi_n + (\\lambda/2^{n-1})\\pi_{n-1}$\n",
    "\n",
    "We can use the first equation to solve for $\\pi_1$:\n",
    "\n",
    "$\\pi_1 = (\\lambda/\\mu)\\pi_0$\n",
    "\n",
    "Substituting this into the second equation, we get:\n",
    "\n",
    "$(\\lambda/2)(\\lambda/\\mu)\\pi_0 = \\mu\\pi_2 + (\\lambda/2)\\pi_0$\n",
    "\n",
    "Solving for $\\pi_2$:\n",
    "\n",
    "$\\pi_2 = ((\\lambda/2)^2 / \\mu)\\pi_0$\n",
    "\n",
    "We can use mathematical induction to show that the steady-state distribution is:\n",
    "\n",
    "$\\pi_n = ((\\lambda/2)^n / \\mu^n)\\pi_0$\n",
    "\n",
    "To find the value of $\\pi_0$, we can use the fact that the sum of all probabilities in the system must equal 1:\n",
    "\n",
    "$\\sum_n \\pi_n = 1$\n",
    "\n",
    "Substituting the expression for $\\pi_n$, we get:\n",
    "\n",
    "$\\sum_n ((\\lambda/2)^n / \\mu^n)\\pi_0 = 1$\n",
    "\n",
    "$\\pi_0 \\sum_n ((\\lambda/2)^n / \\mu^n) = 1$\n",
    "\n",
    "$\\pi_0 = 1 / \\sum_n ((\\lambda/2)^n / \\mu^n)$\n",
    "\n",
    "Therefore, the steady-state distribution is:\n",
    "\n",
    "$\\pi_n = ((\\lambda/2)^n / \\mu^n) / \\sum_n ((\\lambda/2)^n / \\mu^n)$\n",
    "\n",
    "where the denominator is the sum of the geometric series:\n",
    "\n",
    "$\\sum_n ((\\lambda/2)^n / \\mu^n) = 1 + (\\lambda/2\\mu) + (\\lambda/2\\mu)^2 + ...$\n",
    "\n",
    "We can simplify this sum using the formula for an infinite geometric series:\n",
    "\n",
    "$\\sum_n ((\\lambda/2)^n / \\mu^n) = 1 / (1 - (\\lambda/2\\mu))$\n",
    "\n",
    "Thus, the steady-state distribution is:\n",
    "\n",
    "$\\pi_n = ((\\lambda/2)^n / \\mu^n) / \\sum_n ((\\lambda/2)^n / \\mu^n) = ((\\lambda/2)^n / \\mu^n) / (1 + (\\lambda/2\\mu) + (\\lambda/2\\mu)^2 + ...)$"
   ]
  },
  {
   "cell_type": "markdown",
   "id": "cf1347ca",
   "metadata": {
    "papermill": {
     "duration": 0.003936,
     "end_time": "2023-03-27T04:56:31.854506",
     "exception": false,
     "start_time": "2023-03-27T04:56:31.850570",
     "status": "completed"
    },
    "tags": []
   },
   "source": [
    "### c. What is the expected queue length?"
   ]
  },
  {
   "cell_type": "markdown",
   "id": "796db310",
   "metadata": {
    "papermill": {
     "duration": 0.004251,
     "end_time": "2023-03-27T04:56:31.863434",
     "exception": false,
     "start_time": "2023-03-27T04:56:31.859183",
     "status": "completed"
    },
    "tags": []
   },
   "source": [
    "A system with a single server has infinite capacity to serve requests, but customers are aware of the system state and they are discouraged to enter the system when they see people. Assume that the servings are Markovian with rate $\\mu > 0$. If there is nobody in the system, a customer will enter with rate $\\lambda > 0$. If there is one person in the system, the next customer will enter with rate $\\lambda/2$. If there are two persons in the system, the next customer will enter with rate $\\lambda/4$ and so on, and if there are $n$ persons in the system, the next customer will enter with rate $\\lambda/2^n$.\n",
    "\n",
    "To find the expected queue length, we first need to find the mean number of customers in the system, denoted by $L$. The expected queue length is then given by $L-1$, since the server is not counted as a customer.\n",
    "\n",
    "We can use Little's Law to find the mean number of customers in the system:\n",
    "\n",
    "$L = \\lambda W$\n",
    "\n",
    "where $W$ is the mean time a customer spends in the system. To find $W$, we can use the fact that the system is in steady state, so the time a customer spends in the system is exponentially distributed with rate $\\mu$. We can also use the fact that the arrival process is a renewal process, so the time between arrivals is exponentially distributed with rate $\\lambda$. Therefore, the mean time a customer spends in the system is given by:\n",
    "\n",
    "$W = \\frac{1}{\\mu - \\lambda}$\n",
    "\n",
    "Substituting this into Little's Law, we get:\n",
    "\n",
    "$L = \\frac{\\lambda}{\\mu - \\lambda}$\n",
    "\n",
    "Therefore, the expected queue length is:\n",
    "\n",
    "$L-1 = \\frac{\\lambda}{\\mu - \\lambda} - 1 = \\frac{-\\mu}{\\mu - \\lambda}$\n"
   ]
  },
  {
   "cell_type": "markdown",
   "id": "690c9b7d",
   "metadata": {
    "papermill": {
     "duration": 0.005918,
     "end_time": "2023-03-27T04:56:31.875271",
     "exception": false,
     "start_time": "2023-03-27T04:56:31.869353",
     "status": "completed"
    },
    "tags": []
   },
   "source": [
    "### d. Find a relationship between λ and μ that grants system stability"
   ]
  },
  {
   "cell_type": "markdown",
   "id": "a1cafd91",
   "metadata": {
    "papermill": {
     "duration": 0.005892,
     "end_time": "2023-03-27T04:56:31.887224",
     "exception": false,
     "start_time": "2023-03-27T04:56:31.881332",
     "status": "completed"
    },
    "tags": []
   },
   "source": [
    "For the system to be stable, the arrival rate of customers (λ) must be less than or equal to the service rate of the server (μ). In other words, the system must be able to keep up with the rate at which customers are arriving.\n",
    "\n",
    "If λ > μ, then the queue will continue to grow indefinitely, and the system will not be stable.\n",
    "\n",
    "If λ = μ, then the queue length will remain constant over time, but the system may still be unstable if the queue length is unbounded (i.e., the expected queue length diverges to infinity).\n",
    "\n",
    "If λ < μ, then the queue will eventually stabilize, and the expected queue length will be finite.\n",
    "\n",
    "Therefore, a relationship that grants system stability is:\n",
    "\n",
    "λ ≤ μ"
   ]
  },
  {
   "cell_type": "markdown",
   "id": "e62438c8",
   "metadata": {
    "papermill": {
     "duration": 0.005429,
     "end_time": "2023-03-27T04:56:31.898916",
     "exception": false,
     "start_time": "2023-03-27T04:56:31.893487",
     "status": "completed"
    },
    "tags": []
   },
   "source": [
    "### e. Obtain and analyze the expected number of customers in the system. Use the ratio η = μ/λ as your parameter. Interpret."
   ]
  },
  {
   "cell_type": "markdown",
   "id": "7322b4a2",
   "metadata": {
    "papermill": {
     "duration": 0.003987,
     "end_time": "2023-03-27T04:56:31.907210",
     "exception": false,
     "start_time": "2023-03-27T04:56:31.903223",
     "status": "completed"
    },
    "tags": []
   },
   "source": [
    "To obtain the expected number of customers in the system, we can use Little's Law, which states that the expected number of customers in the system, denoted by $L$, is equal to the product of the arrival rate $\\lambda$ and the expected time spent in the system, denoted by $W$:\n",
    "\n",
    "$$ L = \\lambda W $$\n",
    "\n",
    "To find the expected time spent in the system, we can use the fact that the system is a $M/M/1$ queue, where arrivals are Poisson distributed and service times are exponentially distributed. In this case, the expected time spent in the system, denoted by $W$, is equal to the sum of the expected time spent waiting in the queue, denoted by $W_q$, and the expected time spent being served, denoted by $1/\\mu$:\n",
    "\n",
    "$$ W = W_q + \\frac{1}{\\mu} $$\n",
    "\n",
    "To find the expected time spent waiting in the queue, we can use Little's Law again, which states that the expected number of customers in the queue, denoted by $L_q$, is equal to the product of the arrival rate $\\lambda$ and the expected time spent waiting in the queue, denoted by $W_q$:\n",
    "\n",
    "$$ L_q = \\lambda W_q $$\n",
    "\n",
    "We can obtain the relationship between $\\lambda$ and $\\mu$ that grants system stability by analyzing the traffic intensity, denoted by $\\rho$, which is the ratio of the arrival rate $\\lambda$ to the service rate $\\mu$:\n",
    "\n",
    "$$ \\rho = \\frac{\\lambda}{\\mu} $$\n",
    "\n",
    "If $\\rho < 1$, then the system is stable and the expected number of customers in the system is finite. If $\\rho > 1$, then the system is unstable and the expected number of customers in the system is infinite.\n",
    "\n",
    "In this case, the expected service time is $1/\\mu$, and the expected waiting time in the queue is given by the formula:\n",
    "\n",
    "$$ W_q = \\frac{1}{\\mu} \\cdot \\left( 1 + \\frac{\\rho}{2} + \\frac{\\rho^2}{2^2} + \\cdots \\right) \\frac{1}{1-\\frac{\\rho}{2}} = \\frac{1-(\\eta/2)}{\\mu} $$\n",
    "\n",
    "where $\\eta = \\mu/\\lambda$ is the traffic intensity parameter.\n",
    "\n",
    "Using Little's Law, we can obtain the expected number of customers in the system:\n",
    "\n",
    "$$ L = \\lambda W = \\lambda (W_q + \\frac{1}{\\mu}) = \\lambda \\left( \\frac{1-(\\eta/2)}{\\mu} + \\frac{1}{\\mu} \\right) $$\n",
    "\n",
    "Simplifying this expression, we get:\n",
    "\n",
    "$$ L = \\frac{1-(\\eta/2)}{\\lambda/\\mu} $$\n",
    "\n",
    "Therefore, the relationship between $\\lambda$ and $\\mu$ that grants system stability is:\n",
    "\n",
    "$$ \\frac{1}{2} < \\frac{\\lambda}{\\mu} < 2 $$\n",
    "\n",
    "Interpretation: The stability condition implies that the arrival rate cannot exceed twice the service rate. This makes intuitive sense, as if the arrival rate exceeds the service rate by too much, the queue will grow indefinitely and the system will become overwhelmed. In other words, the system must be able to serve customers faster than they arrive in order to maintain stability. The parameter $\\eta = \\mu/\\lambda$, also known as the utilization factor, measures the degree of congestion in the system. When $\\eta$ is close to 1, the system is heavily loaded and the expected number of customers in the system is\n"
   ]
  },
  {
   "cell_type": "markdown",
   "id": "039769c8",
   "metadata": {
    "papermill": {
     "duration": 0.003868,
     "end_time": "2023-03-27T04:56:31.915237",
     "exception": false,
     "start_time": "2023-03-27T04:56:31.911369",
     "status": "completed"
    },
    "tags": []
   },
   "source": [
    "## Problem 1"
   ]
  },
  {
   "cell_type": "markdown",
   "id": "68945664",
   "metadata": {
    "papermill": {
     "duration": 0.00568,
     "end_time": "2023-03-27T04:56:31.925090",
     "exception": false,
     "start_time": "2023-03-27T04:56:31.919410",
     "status": "completed"
    },
    "tags": []
   },
   "source": [
    "Customers arrive, following a Markovian process with rate λ > 0, at a store with two counters and no\n",
    "waiting room. The counters serve the customers according to a Markovian process with rate μ > 0.\n",
    "Model the system as a birth-and-death process. When is this system stable? Compute its steady-state\n",
    "distribution, and plot the probability function π that characterizes it as a function of the ratio λ/μ. Show\n",
    "your code. Interpret"
   ]
  },
  {
   "cell_type": "markdown",
   "id": "01804d69",
   "metadata": {
    "papermill": {
     "duration": 0.003843,
     "end_time": "2023-03-27T04:56:31.933108",
     "exception": false,
     "start_time": "2023-03-27T04:56:31.929265",
     "status": "completed"
    },
    "tags": []
   },
   "source": [
    "Customers arrive, following a Markovian process with rate $\\lambda > 0$, at a store with two counters and no waiting room. The counters serve the customers according to a Markovian process with rate $\\mu > 0$. \n",
    "\n",
    "We can model the system as a birth-and-death process. Let $\\{X_n, n \\geq 0\\}$ be the number of customers in the system at time $n$. Since the system has two counters and no waiting room, the state space is $\\{0,1,2\\}$.\n",
    "\n",
    "To determine the stability of the system, we need to find the conditions under which the queue will not grow indefinitely. The system is stable if and only if the arrival rate is less than or equal to the departure rate, i.e., $\\lambda \\leq 2\\mu$. If $\\lambda > 2\\mu$, the queue will grow indefinitely, and the system will be unstable.\n",
    "\n",
    "To find the steady-state distribution, we need to solve the balance equations:\n",
    "$$\n",
    "\\begin{aligned}\n",
    "\\lambda \\pi_0 &= \\mu \\pi_1 \\\\\n",
    "(\\lambda+\\mu) \\pi_1 &= \\lambda \\pi_0 + 2\\mu \\pi_2 \\\\\n",
    "(\\lambda+\\mu) \\pi_2 &= \\mu \\pi_1\n",
    "\\end{aligned}\n",
    "$$\n",
    "where $\\pi_i$ is the steady-state probability of having $i$ customers in the system. \n",
    "\n",
    "Solving these equations, we get:\n",
    "$$\n",
    "\\pi_0 = \\frac{\\mu^2}{\\lambda^2+\\mu^2}, \\quad\n",
    "\\pi_1 = \\frac{2\\lambda\\mu}{\\lambda^2+\\mu^2}, \\quad\n",
    "\\pi_2 = \\frac{\\lambda^2}{\\lambda^2+\\mu^2}.\n",
    "$$\n",
    "\n",
    "To plot the probability function $\\pi$ as a function of the ratio $\\lambda/\\mu$, we can use the following code in Python:\n"
   ]
  },
  {
   "cell_type": "code",
   "execution_count": 1,
   "id": "a7a49bce",
   "metadata": {
    "execution": {
     "iopub.execute_input": "2023-03-27T04:56:31.943008Z",
     "iopub.status.busy": "2023-03-27T04:56:31.942594Z",
     "iopub.status.idle": "2023-03-27T04:56:32.486867Z",
     "shell.execute_reply": "2023-03-27T04:56:32.485855Z"
    },
    "papermill": {
     "duration": 0.553198,
     "end_time": "2023-03-27T04:56:32.490296",
     "exception": false,
     "start_time": "2023-03-27T04:56:31.937098",
     "status": "completed"
    },
    "tags": []
   },
   "outputs": [
    {
     "data": {
      "image/png": "[encoded data removed]",
      "text/plain": [
       "<Figure size 640x480 with 1 Axes>"
      ]
     },
     "metadata": {},
     "output_type": "display_data"
    }
   ],
   "source": [
    "import numpy as np\n",
    "import matplotlib.pyplot as plt\n",
    "\n",
    "mu = 1  # service rate\n",
    "lam_vals = np.linspace(0, 2*mu, num=100)  # arrival rates\n",
    "pi = np.zeros((3, len(lam_vals)))  # steady-state probabilities\n",
    "\n",
    "# Compute steady-state probabilities for different arrival rates\n",
    "for i, lam in enumerate(lam_vals):\n",
    "    if lam <= 2*mu:\n",
    "        pi[:, i] = [mu**2 / (lam**2 + mu**2),\n",
    "                    2*lam*mu / (lam**2 + mu**2),\n",
    "                    lam**2 / (lam**2 + mu**2)]\n",
    "\n",
    "# Plot probability function\n",
    "fig, ax = plt.subplots()\n",
    "ax.plot(lam_vals/mu, pi[0, :], label=r'$\\pi_0$')\n",
    "ax.plot(lam_vals/mu, pi[1, :], label=r'$\\pi_1$')\n",
    "ax.plot(lam_vals/mu, pi[2, :], label=r'$\\pi_2$')\n",
    "ax.set_xlabel(r'$\\lambda/\\mu$')\n",
    "ax.set_ylabel('Probability')\n",
    "ax.set_ylim([0, 1])\n",
    "ax.legend()\n",
    "plt.show()"
   ]
  },
  {
   "cell_type": "markdown",
   "id": "e6abadbd",
   "metadata": {
    "papermill": {
     "duration": 0.00526,
     "end_time": "2023-03-27T04:56:32.501193",
     "exception": false,
     "start_time": "2023-03-27T04:56:32.495933",
     "status": "completed"
    },
    "tags": []
   },
   "source": [
    "The plot reveals that as the arrival rate increases, the probability of having more customers in the system increases, and the probability of having fewer customers decreases. At the stability point where the arrival rate equals twice the service rate, the probabilities of having 0, 1, and 2 customers in the system are equal. This means that the system is in a stable equilibrium state, and the average number of customers in the system does not change over time. The plot can help managers of a store with a similar system to determine the optimal service rate needed to handle different levels of customer demand and avoid long waiting times."
   ]
  }
 ],
 "metadata": {
  "kernelspec": {
   "display_name": "Python 3",
   "language": "python",
   "name": "python3"
  },
  "language_info": {
   "codemirror_mode": {
    "name": "ipython",
    "version": 3
   },
   "file_extension": ".py",
   "mimetype": "text/x-python",
   "name": "python",
   "nbconvert_exporter": "python",
   "pygments_lexer": "ipython3",
   "version": "3.7.12"
  },
  "papermill": {
   "default_parameters": {},
   "duration": 11.099308,
   "end_time": "2023-03-27T04:56:33.128960",
   "environment_variables": {},
   "exception": null,
   "input_path": "__notebook__.ipynb",
   "output_path": "__notebook__.ipynb",
   "parameters": {},
   "start_time": "2023-03-27T04:56:22.029652",
   "version": "2.4.0"
  }
 },
 "nbformat": 4,
 "nbformat_minor": 5
}
