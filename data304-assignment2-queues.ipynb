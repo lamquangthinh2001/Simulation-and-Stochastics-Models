{
 "cells": [
  {
   "cell_type": "markdown",
   "id": "dfcf4499",
   "metadata": {
    "papermill": {
     "duration": 0.005132,
     "end_time": "2023-04-02T09:22:00.385661",
     "exception": false,
     "start_time": "2023-04-02T09:22:00.380529",
     "status": "completed"
    },
    "tags": []
   },
   "source": [
    "# Assignment 2- Queues"
   ]
  },
  {
   "cell_type": "markdown",
   "id": "3a4f70db",
   "metadata": {
    "papermill": {
     "duration": 0.003919,
     "end_time": "2023-04-02T09:22:00.393887",
     "exception": false,
     "start_time": "2023-04-02T09:22:00.389968",
     "status": "completed"
    },
    "tags": []
   },
   "source": [
    "## Problem 1"
   ]
  },
  {
   "cell_type": "markdown",
   "id": "cb8fc372",
   "metadata": {
    "papermill": {
     "duration": 0.003935,
     "end_time": "2023-04-02T09:22:00.402148",
     "exception": false,
     "start_time": "2023-04-02T09:22:00.398213",
     "status": "completed"
    },
    "tags": []
   },
   "source": [
    "Single server, infinite capacity\n",
    "<br>Servings are Markovian with rate $\\mu$ > 0.\n",
    "<br> If nobody in a system, customer will enter with rate $\\lambda$ > 0\n",
    "<br> If one person in the system, customter will enter with rate $\\frac{\\lambda}{2}$\n",
    "<br> If n people in the system, customter will enter with rate $\\frac{\\lambda}{2^n}$"
   ]
  },
  {
   "cell_type": "markdown",
   "id": "fbcd1357",
   "metadata": {
    "papermill": {
     "duration": 0.00395,
     "end_time": "2023-04-02T09:22:00.410253",
     "exception": false,
     "start_time": "2023-04-02T09:22:00.406303",
     "status": "completed"
    },
    "tags": []
   },
   "source": [
    "### a. Describe the system graphically"
   ]
  },
  {
   "cell_type": "markdown",
   "id": "9705298a",
   "metadata": {
    "papermill": {
     "duration": 0.003927,
     "end_time": "2023-04-02T09:22:00.418406",
     "exception": false,
     "start_time": "2023-04-02T09:22:00.414479",
     "status": "completed"
    },
    "tags": []
   },
   "source": [
    "              λ       λ/2       λ/4        λ/8       ...       λ/2^𝑛\n",
    "          |-------->|-------->|--------->|--------->      |--------->|  \n",
    "          1         2         3          4               n-1         n\n",
    "          | µ       |   µ     |    µ     |    µ    ...    |    µ     |\n",
    "          |<--------|<--------|<---------|<--------       |<----------\n"
   ]
  },
  {
   "cell_type": "markdown",
   "id": "284cd4f5",
   "metadata": {
    "papermill": {
     "duration": 0.003912,
     "end_time": "2023-04-02T09:22:00.426435",
     "exception": false,
     "start_time": "2023-04-02T09:22:00.422523",
     "status": "completed"
    },
    "tags": []
   },
   "source": [
    "The arrows from left to right (the above arrow) indicate the customer arrival rate. which is based on the number of customers currently in the system. <br>The arrows from right to left (the below arrow) indicate the serving rate, $\\mu$, which is the constant rate."
   ]
  },
  {
   "cell_type": "markdown",
   "id": "04eebeed",
   "metadata": {
    "papermill": {
     "duration": 0.004121,
     "end_time": "2023-04-02T09:22:00.434777",
     "exception": false,
     "start_time": "2023-04-02T09:22:00.430656",
     "status": "completed"
    },
    "tags": []
   },
   "source": [
    "### b.  Compute the steady-state distribution π = ($π_0, π_1, π_2$, . . .)."
   ]
  },
  {
   "cell_type": "markdown",
   "id": "f7fa8696",
   "metadata": {
    "papermill": {
     "duration": 0.003847,
     "end_time": "2023-04-02T09:22:00.442761",
     "exception": false,
     "start_time": "2023-04-02T09:22:00.438914",
     "status": "completed"
    },
    "tags": []
   },
   "source": [
    "To find the steady-state distribution of the system, we need to solve the balance equations:\n",
    "\n",
    "$\\lambda\\pi_0 = \\mu\\pi_1$\n",
    "\n",
    "$(\\lambda/2)\\pi_1 = \\mu\\pi_2 + (\\lambda/2)\\pi_0$\n",
    "\n",
    "$(\\lambda/4)\\pi_2 = \\mu\\pi_3 + (\\lambda/2)\\pi_1$\n",
    "\n",
    "...\n",
    "\n",
    "$(\\lambda/2^n)\\pi_{n-1} = \\mu\\pi_n + (\\lambda/2^{n-1})\\pi_{n-1}$\n",
    "\n",
    "We can use the first equation to solve for $\\pi_1$:\n",
    "\n",
    "$\\pi_1 = (\\lambda/\\mu)\\pi_0$\n",
    "\n",
    "Substituting this into the second equation, we get:\n",
    "\n",
    "$(\\lambda/2)(\\lambda/\\mu)\\pi_0 = \\mu\\pi_2 + (\\lambda/2)\\pi_0$\n",
    "\n",
    "Solving for $\\pi_2$:\n",
    "\n",
    "$\\pi_2 = \\frac{(\\lambda/2)^2 }{ \\mu}\\pi_0$\n",
    "\n",
    "We can use mathematical induction to show that the steady-state distribution is:\n",
    "\n",
    "$\\pi_n = \\frac{(\\lambda/2)^n }{\\mu^n} \\pi_0$\n",
    "\n",
    "To find the value of $\\pi_0$, we can use the fact that the sum of all probabilities in the system must equal 1:\n",
    "\n",
    "$\\sum_n \\pi_n = 1$\n",
    "\n",
    "Substituting the expression for $\\pi_n$, we get:\n",
    "\n",
    "$\\sum_n \\frac{(\\lambda/2)^n }{\\mu^n}\\pi_0 = 1$\n",
    "\n",
    "$\\pi_0 \\sum_n ((\\lambda/2)^n / \\mu^n) = 1$\n",
    "\n",
    "$\\pi_0 = \\frac{1}{\\sum_n ((\\lambda/2)^n / \\mu^n)}$\n",
    "\n",
    "Therefore, the steady-state distribution is:\n",
    "\n",
    "$\\pi_n = \\frac{(\\lambda/2)^n / \\mu^n)}{ \\sum_n ((\\lambda/2)^n  \\mu^n}$\n",
    "\n",
    "where the denominator is the sum of the geometric series:\n",
    "\n",
    "$\\sum_n ((\\lambda/2)^n / \\mu^n) = 1 + (\\lambda/2\\mu) + (\\lambda/2\\mu)^2 + ...$\n",
    "\n",
    "We can simplify this sum using the formula for an infinite geometric series:\n",
    "\n",
    "$\\sum_n ((\\lambda/2)^n / \\mu^n) = 1 / (1 - (\\lambda/2\\mu))$\n",
    "\n",
    "Thus, the steady-state distribution is:\n",
    "\n",
    "$$\\pi_n = \\frac{(\\lambda/2)^n / \\mu^n} { \\sum_n ((\\lambda/2)^n / \\mu^n)} = \\frac{((\\lambda/2)^n / \\mu^n) }{ (1 + (\\lambda/2\\mu) + (\\lambda/2\\mu)^2 + ...)}$$"
   ]
  },
  {
   "cell_type": "markdown",
   "id": "600b6505",
   "metadata": {
    "papermill": {
     "duration": 0.003895,
     "end_time": "2023-04-02T09:22:00.450828",
     "exception": false,
     "start_time": "2023-04-02T09:22:00.446933",
     "status": "completed"
    },
    "tags": []
   },
   "source": [
    "### c. What is the expected queue length?"
   ]
  },
  {
   "cell_type": "markdown",
   "id": "34e29f82",
   "metadata": {
    "papermill": {
     "duration": 0.003805,
     "end_time": "2023-04-02T09:22:00.458654",
     "exception": false,
     "start_time": "2023-04-02T09:22:00.454849",
     "status": "completed"
    },
    "tags": []
   },
   "source": [
    "Expected queue length is the number of customers in the queue excluding the customer in service\n",
    "\n",
    "A system with a single server has infinite capacity to serve requests, but customers are aware of the system state and they are discouraged to enter the system when they see people. Assume that the servings are Markovian with rate $\\mu > 0$. If there is nobody in the system, a customer will enter with rate $\\lambda > 0$. If there is one person in the system, the next customer will enter with rate $\\lambda/2$. If there are two persons in the system, the next customer will enter with rate $\\lambda/4$ and so on, and if there are $n$ customers in the system, the next customer will enter with rate $\\lambda/2^n$. Let denotes the average proportion of time which the server is occupied as $ρ = \\frac{\\lambda} {2^n\\mu}$\n",
    "\n",
    "If there is zero or one client in the system, nobody is queueing. The number of clients in the queue is:\n",
    "$$\n",
    "Nq = \\left\\{\n",
    "    \\begin{array}\\\\\n",
    "        0 & \\mbox{if } N = 0, 1 \\\\\n",
    "        N − 1 & \\mbox{if } N = 2, 3, 4, . . . . \\\\\n",
    "    \\end{array}\n",
    "\\right.\n",
    "$$\n",
    "\n",
    "Let us write the probability function, i.e. the pairs (n, Pr(Nq = n)): \n",
    "((0, π0), (0, π1), (1, π2), (2, π3), (3, π4), . . . , (n, πn+1), . . . )\n",
    "((0, 1 − ρ), (0, (1 − ρ)ρ), (1, (1 − ρ)ρ2), (2, (1 − ρ)ρ3), . . . , (n, (1 − ρ)ρn+1), . .\n",
    "\n",
    "Therefore, The expected queue length is:\n",
    "\n",
    "$Lq = 0(1 − ρ + (1 − ρ)ρ) + \\sum_{n=1}^{∞}n(1 − ρ)ρ^{n+1}$\n",
    "\n",
    "$$=> Lq = \\frac{ρ^2}{1-ρ} =  \\frac{(\\frac{\\lambda}{2^n\\mu})^2}{ 1 - \\frac{\\lambda}{2^n\\mu}}  = \\frac{\\lambda^2}{(2^n\\mu)(2^n\\mu - \\lambda)} $$"
   ]
  },
  {
   "cell_type": "markdown",
   "id": "d1f65292",
   "metadata": {
    "papermill": {
     "duration": 0.003782,
     "end_time": "2023-04-02T09:22:00.466523",
     "exception": false,
     "start_time": "2023-04-02T09:22:00.462741",
     "status": "completed"
    },
    "tags": []
   },
   "source": [
    "### d. Find a relationship between λ and μ that grants system stability"
   ]
  },
  {
   "cell_type": "markdown",
   "id": "7deb8142",
   "metadata": {
    "papermill": {
     "duration": 0.003906,
     "end_time": "2023-04-02T09:22:00.474436",
     "exception": false,
     "start_time": "2023-04-02T09:22:00.470530",
     "status": "completed"
    },
    "tags": []
   },
   "source": [
    "For the system to be stable, the arrival rate of customers (λ/$2^n$) must be less than the service rate of the server (μ). In other words, the system must be able to keep up with the rate at which customers are arriving.\n",
    "\n",
    "If λ/$2^n$ > μ, then the queue will continue to grow indefinitely, and the system will not be stable.\n",
    "\n",
    "If λ/$2^n$ = μ, then the queue length will remain constant over time, but the system may still be unstable if the queue length is unbounded (i.e., the expected queue length diverges to infinity).\n",
    "\n",
    "If λ/$2^n$ < μ, then the queue will eventually stabilize, and the expected queue length will be finite.\n",
    "\n",
    "Therefore, a relationship that grants system stability is:\n",
    "\n",
    "λ/$2^n$ < μ"
   ]
  },
  {
   "cell_type": "markdown",
   "id": "89c7120a",
   "metadata": {
    "papermill": {
     "duration": 0.004372,
     "end_time": "2023-04-02T09:22:00.485099",
     "exception": false,
     "start_time": "2023-04-02T09:22:00.480727",
     "status": "completed"
    },
    "tags": []
   },
   "source": [
    "### e. Obtain and analyze the expected number of customers in the system. Use the ratio η = μ/λ as your parameter. Interpret."
   ]
  },
  {
   "cell_type": "markdown",
   "id": "486c8c7f",
   "metadata": {
    "papermill": {
     "duration": 0.004415,
     "end_time": "2023-04-02T09:22:00.494487",
     "exception": false,
     "start_time": "2023-04-02T09:22:00.490072",
     "status": "completed"
    },
    "tags": []
   },
   "source": [
    "We have:\n",
    "\n",
    "$$η = \\frac{μ}{λ}$$\n",
    "\n",
    "and \n",
    "\n",
    "$$ρ = \\frac{\\lambda} {2^n\\mu}$$\n",
    "\n",
    "Therefore,\n",
    "\n",
    "$$ρ = \\frac{1} {2^nη}$$\n"
   ]
  },
  {
   "cell_type": "markdown",
   "id": "951fe71e",
   "metadata": {
    "papermill": {
     "duration": 0.005518,
     "end_time": "2023-04-02T09:22:00.505335",
     "exception": false,
     "start_time": "2023-04-02T09:22:00.499817",
     "status": "completed"
    },
    "tags": []
   },
   "source": [
    "Let Ls is expected value of number of customers being serviced\n",
    "\n",
    "The probability function of Ls is ((0, π0), (1, π1), (1, π2), (1, π3), . . . , (1, πn), . . . ) = ((0, π0), (1, 1 − π0))"
   ]
  },
  {
   "cell_type": "markdown",
   "id": "92546ed9",
   "metadata": {
    "papermill": {
     "duration": 0.005334,
     "end_time": "2023-04-02T09:22:00.517679",
     "exception": false,
     "start_time": "2023-04-02T09:22:00.512345",
     "status": "completed"
    },
    "tags": []
   },
   "source": [
    "Therefore, the expected number of customers being serviced is \n",
    "\n",
    "$Ls = 0π_0 + 1(1 − π_0) = 1 − π_0 = 1 − (1 − ρ) = ρ$\n",
    "\n",
    "$Ls = ρ$\n"
   ]
  },
  {
   "cell_type": "markdown",
   "id": "a5c0d23e",
   "metadata": {
    "papermill": {
     "duration": 0.004077,
     "end_time": "2023-04-02T09:22:00.527222",
     "exception": false,
     "start_time": "2023-04-02T09:22:00.523145",
     "status": "completed"
    },
    "tags": []
   },
   "source": [
    "We have: The expected number of customers in the system is the sum of expected number of customers in the queue and the expected number of customers being service, i.e.:\n",
    "\n",
    "$$ L = Lq + Ls $$\n",
    "$$ => L = \\frac{p^2}{1-p} + p $$\n",
    "$$ L = \\frac{p}{1-p} $$"
   ]
  },
  {
   "cell_type": "markdown",
   "id": "e1f7b6ef",
   "metadata": {
    "papermill": {
     "duration": 0.003919,
     "end_time": "2023-04-02T09:22:00.535459",
     "exception": false,
     "start_time": "2023-04-02T09:22:00.531540",
     "status": "completed"
    },
    "tags": []
   },
   "source": [
    "Combining with this $$ρ = \\frac{1} {2^nη}$$\n",
    "\n",
    "We have: \n",
    "\n",
    "$$ L = \\frac{1} {2^nη - 1} $$\n",
    "\n",
    "Intepretation: The number of customers in the system approach infinitity as $2^nη$ approaches 1, which means $η$ approaches $\\frac{1}{2^n}$ so the serving rate $\\mu$ approaches $\\frac{\\lambda}{2^n}$. Consequently, the system excesses congestion and customer wait time becomes infinity. The system performance would be improved if and only if we can lower the utilization factor such as priority queues or multiple servers."
   ]
  },
  {
   "cell_type": "markdown",
   "id": "bb769e69",
   "metadata": {
    "papermill": {
     "duration": 0.004925,
     "end_time": "2023-04-02T09:22:00.545592",
     "exception": false,
     "start_time": "2023-04-02T09:22:00.540667",
     "status": "completed"
    },
    "tags": []
   },
   "source": [
    "## Problem 1"
   ]
  },
  {
   "cell_type": "markdown",
   "id": "cdc8d90a",
   "metadata": {
    "papermill": {
     "duration": 0.004012,
     "end_time": "2023-04-02T09:22:00.553851",
     "exception": false,
     "start_time": "2023-04-02T09:22:00.549839",
     "status": "completed"
    },
    "tags": []
   },
   "source": [
    "Customer arrivals follow Markovian process, rate λ > 0\n",
    "\n",
    "Serving follows Markovian process, rate  𝜇>0\n",
    "\n",
    "Two counters, no waiting room\n",
    "\n",
    "Questions:\n",
    "\n",
    "- Model birth-and-dead process\n",
    "- When is this system stable\n",
    "- Compute steady-state distribution\n",
    "- Plot the probability function π as a function of ratio λ/μ. Intepret"
   ]
  },
  {
   "cell_type": "markdown",
   "id": "5914e3be",
   "metadata": {
    "papermill": {
     "duration": 0.004339,
     "end_time": "2023-04-02T09:22:00.563271",
     "exception": false,
     "start_time": "2023-04-02T09:22:00.558932",
     "status": "completed"
    },
    "tags": []
   },
   "source": [
    "              λ          λ         λ          λ       ...       λ\n",
    "          |-------->|-------->|--------->|--------->      |--------->|  \n",
    "          1         2         3          4               n-1         n\n",
    "          |   µ     |   2µ    |    2µ    |    2µ   ...    |    2µ    |\n",
    "          |<--------|<--------|<---------|<--------       |<----------\n"
   ]
  },
  {
   "cell_type": "markdown",
   "id": "1b6f0e3a",
   "metadata": {
    "papermill": {
     "duration": 0.004265,
     "end_time": "2023-04-02T09:22:00.572212",
     "exception": false,
     "start_time": "2023-04-02T09:22:00.567947",
     "status": "completed"
    },
    "tags": []
   },
   "source": [
    "Customers arrive, following a Markovian process with rate $\\lambda > 0$, at a store with two counters and no waiting room. The counters serve the customers according to a Markovian process with rate $\\mu > 0$. \n",
    "\n",
    "We can model the system as a birth-and-death process. Let $\\{X_n, n \\geq 0\\}$ be the number of customers in the system at time $n$. Since the system has two counters and no waiting room, the state space is $\\{0,1,2\\}$.\n",
    "\n",
    "The system is stable if and only if the arrival rate is less than or equal to the departure rate, i.e., $\\lambda < s*\\mu$. If $\\lambda > s*\\mu$, the queue will grow indefinitely, and the system will be unstable. In this case, there are two counter. Therefore, the system is stable only if $\\lambda < 2*\\mu$\n",
    "\n",
    "To find the steady-state distribution, we need to solve the balance equations:\n",
    "$$\n",
    "\\begin{aligned}\n",
    "\\lambda \\pi_0 &= \\mu \\pi_1 \\\\\n",
    "(\\lambda+\\mu) \\pi_1 &= \\lambda \\pi_0 + 2\\mu \\pi_2 \\\\\n",
    "(\\lambda+\\mu) \\pi_2 &= \\mu \\pi_1\n",
    "\\end{aligned}\n",
    "$$ \n",
    "\n",
    "and 1 = $\\pi_0 + \\pi_1 + \\pi_2$\n",
    "\n",
    "Solving these equations, we get:\n",
    "$$\n",
    "\\pi_0 = \\frac{1}{1 + \\frac{\\lambda}{\\mu} + \\frac{\\lambda^2}{2\\mu^2}}, \\quad\n",
    "\\pi_1 = \\frac{\\lambda}{\\mu}\\frac{1}{1 + \\frac{\\lambda}{\\mu} + \\frac{\\lambda^2}{2\\mu^2}}, \\quad\n",
    "\\pi_2 = \\frac{\\lambda^2}{2\\mu^2}\\frac{1}{1 + \\frac{\\lambda}{\\mu} + \\frac{\\lambda^2}{2\\mu^2}} \\quad.\n",
    "$$\n",
    "\n",
    "$\\pi_i\\n$ is the steady-state probability of having $n$ customers in the system.\n",
    "\n",
    "$$\\pi_n = \\frac{\\lambda^n}{{2^n}\\mu^n}\\frac{1}{1 + \\frac{\\lambda}{\\mu} + \\frac{\\lambda^2}{2\\mu^2}} \\quad.$$\n",
    "\n",
    "\n",
    "Plot the probability function $\\pi$ as a function of the ratio $\\lambda/\\mu$:\n"
   ]
  },
  {
   "cell_type": "code",
   "execution_count": 1,
   "id": "d7172b1c",
   "metadata": {
    "execution": {
     "iopub.execute_input": "2023-04-02T09:22:00.582738Z",
     "iopub.status.busy": "2023-04-02T09:22:00.582374Z",
     "iopub.status.idle": "2023-04-02T09:22:01.057901Z",
     "shell.execute_reply": "2023-04-02T09:22:01.056659Z"
    },
    "papermill": {
     "duration": 0.483778,
     "end_time": "2023-04-02T09:22:01.060401",
     "exception": false,
     "start_time": "2023-04-02T09:22:00.576623",
     "status": "completed"
    },
    "tags": []
   },
   "outputs": [
    {
     "data": {
      "image/png": "[encoded data removed]",
      "text/plain": [
       "<Figure size 640x480 with 1 Axes>"
      ]
     },
     "metadata": {},
     "output_type": "display_data"
    }
   ],
   "source": [
    "import numpy as np\n",
    "import matplotlib.pyplot as plt\n",
    "\n",
    "# number of servers\n",
    "s = 2\n",
    "# set service rate equals \n",
    "mu = 1  \n",
    "# set arrival rates from 0 to s*mu so that it is able to satisfy the condition of lambda/s*mu < 1\n",
    "lam_vals = np.linspace(0, s*mu, num=100)  \n",
    "\n",
    "# create a 3x100 matrix to records 3 values of pi0, pi1, and pi2 100 times\n",
    "pi = np.zeros((3, len(lam_vals)))  # steady-state probabilities\n",
    "\n",
    "for i, lam in enumerate(lam_vals):\n",
    "    val1 = lam/mu\n",
    "    val2 = lam**2/s*(mu**2)\n",
    "    val = 1 + val1 + val2\n",
    "    pi0 = 1/val\n",
    "    pi1 = (lam/mu) * pi0\n",
    "    pi2 = (lam**2/s*(mu**2)) * pi0\n",
    "    pi[:, i] = [pi0, pi1, pi2]\n",
    "\n",
    "# Plot probability function\n",
    "fig, ax = plt.subplots()\n",
    "ax.plot(lam_vals/mu, pi[0, :], label=r'$\\pi_0$')\n",
    "ax.plot(lam_vals/mu, pi[1, :], label=r'$\\pi_1$')\n",
    "ax.plot(lam_vals/mu, pi[2, :], label=r'$\\pi_2$')\n",
    "ax.set_xlabel(r'$\\lambda/\\mu$')\n",
    "ax.set_ylabel('Probability')\n",
    "ax.set_ylim([0, 1])\n",
    "ax.legend()\n",
    "plt.show()"
   ]
  },
  {
   "cell_type": "markdown",
   "id": "5b652cc2",
   "metadata": {
    "papermill": {
     "duration": 0.004544,
     "end_time": "2023-04-02T09:22:01.069997",
     "exception": false,
     "start_time": "2023-04-02T09:22:01.065453",
     "status": "completed"
    },
    "tags": []
   },
   "source": [
    "The plot indicates how steady-state distribution changes as the arrival rate λ varies relative to the service rate μ ($\\frac{λ}{μ}$).\n",
    "\n",
    "As λ/μ increases, the probability of having zero customers in the system ($\\pi_0$) decreases, while the probability of having one or two customers in the system ($\\pi_1$ and $\\pi_2$) increases.\n",
    "\n",
    "The stability condition implies that the arrival rate cannot exceed twice the service rate. As if the arrival rate exceeds the service rate by two ($\\lambda > 2\\mu$), the queue will grow indefinitely and the system will become overwhelmed. In other words, the system must be able to serve customers faster than they arrive in order to maintain stability. The ratio $\\frac{λ}{μ}$, also known as the utilization factor, measures the degree of congestion in the system. When $\\frac{λ}{μ}$ is close to 2 (the number of servers in the system in this case), expected number of customers in the system approaches infinity."
   ]
  }
 ],
 "metadata": {
  "kernelspec": {
   "display_name": "Python 3",
   "language": "python",
   "name": "python3"
  },
  "language_info": {
   "codemirror_mode": {
    "name": "ipython",
    "version": 3
   },
   "file_extension": ".py",
   "mimetype": "text/x-python",
   "name": "python",
   "nbconvert_exporter": "python",
   "pygments_lexer": "ipython3",
   "version": "3.7.12"
  },
  "papermill": {
   "default_parameters": {},
   "duration": 10.12093,
   "end_time": "2023-04-02T09:22:01.796459",
   "environment_variables": {},
   "exception": null,
   "input_path": "__notebook__.ipynb",
   "output_path": "__notebook__.ipynb",
   "parameters": {},
   "start_time": "2023-04-02T09:21:51.675529",
   "version": "2.4.0"
  }
 },
 "nbformat": 4,
 "nbformat_minor": 5
}
