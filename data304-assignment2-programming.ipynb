{
 "cells": [
  {
   "cell_type": "markdown",
   "id": "c0bb2048",
   "metadata": {
    "_cell_guid": "b1076dfc-b9ad-4769-8c92-a6c4dae69d19",
    "_uuid": "8f2839f25d086af736a60e9eeb907d3b93b6e0e5",
    "papermill": {
     "duration": 0.006166,
     "end_time": "2023-03-25T00:04:47.301255",
     "exception": false,
     "start_time": "2023-03-25T00:04:47.295089",
     "status": "completed"
    },
    "tags": []
   },
   "source": [
    "Name: Lam Quang Thinh\n",
    "<br>Student ID: 300538520"
   ]
  },
  {
   "cell_type": "markdown",
   "id": "330cd701",
   "metadata": {
    "papermill": {
     "duration": 0.004585,
     "end_time": "2023-03-25T00:04:47.310937",
     "exception": false,
     "start_time": "2023-03-25T00:04:47.306352",
     "status": "completed"
    },
    "tags": []
   },
   "source": [
    "# Assignment 2- Programming"
   ]
  },
  {
   "cell_type": "code",
   "execution_count": 1,
   "id": "3c6e6539",
   "metadata": {
    "execution": {
     "iopub.execute_input": "2023-03-25T00:04:47.323569Z",
     "iopub.status.busy": "2023-03-25T00:04:47.322555Z",
     "iopub.status.idle": "2023-03-25T00:05:00.007384Z",
     "shell.execute_reply": "2023-03-25T00:05:00.005820Z"
    },
    "papermill": {
     "duration": 12.694879,
     "end_time": "2023-03-25T00:05:00.010627",
     "exception": false,
     "start_time": "2023-03-25T00:04:47.315748",
     "status": "completed"
    },
    "tags": []
   },
   "outputs": [
    {
     "name": "stdout",
     "output_type": "stream",
     "text": [
      "Collecting SimPyClassic\r\n",
      "  Downloading SimPyClassic-2.3.4-py2.py3-none-any.whl (79 kB)\r\n",
      "\u001b[2K     \u001b[90m━━━━━━━━━━━━━━━━━━━━━━━━━━━━━━━━━━━━━━━━\u001b[0m \u001b[32m79.2/79.2 kB\u001b[0m \u001b[31m2.5 MB/s\u001b[0m eta \u001b[36m0:00:00\u001b[0m\r\n",
      "\u001b[?25hInstalling collected packages: SimPyClassic\r\n",
      "Successfully installed SimPyClassic-2.3.4\r\n",
      "\u001b[33mWARNING: Running pip as the 'root' user can result in broken permissions and conflicting behaviour with the system package manager. It is recommended to use a virtual environment instead: https://pip.pypa.io/warnings/venv\u001b[0m\u001b[33m\r\n",
      "\u001b[0m"
     ]
    }
   ],
   "source": [
    "!pip install SimPyClassic"
   ]
  },
  {
   "cell_type": "code",
   "execution_count": 2,
   "id": "cf5b005b",
   "metadata": {
    "execution": {
     "iopub.execute_input": "2023-03-25T00:05:00.025139Z",
     "iopub.status.busy": "2023-03-25T00:05:00.023682Z",
     "iopub.status.idle": "2023-03-25T00:05:01.035796Z",
     "shell.execute_reply": "2023-03-25T00:05:01.034651Z"
    },
    "papermill": {
     "duration": 1.022105,
     "end_time": "2023-03-25T00:05:01.038454",
     "exception": false,
     "start_time": "2023-03-25T00:05:00.016349",
     "status": "completed"
    },
    "tags": []
   },
   "outputs": [],
   "source": [
    "#Import packages\n",
    "import random\n",
    "import math\n",
    "import numpy as np\n",
    "import matplotlib.pyplot as plt\n",
    "from scipy.stats import poisson\n",
    "from SimPy.Simulation import *"
   ]
  },
  {
   "cell_type": "markdown",
   "id": "66abfe9f",
   "metadata": {
    "papermill": {
     "duration": 0.004997,
     "end_time": "2023-03-25T00:05:01.049121",
     "exception": false,
     "start_time": "2023-03-25T00:05:01.044124",
     "status": "completed"
    },
    "tags": []
   },
   "source": [
    "## Q1:"
   ]
  },
  {
   "cell_type": "markdown",
   "id": "3c0a69b6",
   "metadata": {
    "papermill": {
     "duration": 0.004864,
     "end_time": "2023-03-25T00:05:01.059252",
     "exception": false,
     "start_time": "2023-03-25T00:05:01.054388",
     "status": "completed"
    },
    "tags": []
   },
   "source": [
    "a. Write a chisquarevariate(k) function in Python which generates a random variate from a ${x_k}^2$ distribution (chi-square distribution with k degrees of freedom). This is simply the sum of the squares of k independent standard normal random variates."
   ]
  },
  {
   "cell_type": "code",
   "execution_count": 3,
   "id": "c2d6fbb6",
   "metadata": {
    "execution": {
     "iopub.execute_input": "2023-03-25T00:05:01.071645Z",
     "iopub.status.busy": "2023-03-25T00:05:01.071160Z",
     "iopub.status.idle": "2023-03-25T00:05:01.077930Z",
     "shell.execute_reply": "2023-03-25T00:05:01.076638Z"
    },
    "papermill": {
     "duration": 0.016068,
     "end_time": "2023-03-25T00:05:01.080448",
     "exception": false,
     "start_time": "2023-03-25T00:05:01.064380",
     "status": "completed"
    },
    "tags": []
   },
   "outputs": [],
   "source": [
    "def chisquarevariate(k):\n",
    "    \"\"\"Generate a random variate from a chi-square distribution with k degrees of freedom.\"\"\"\n",
    "    sum_of_squares = 0.0\n",
    "    for i in range(k):\n",
    "        x = random.gauss(0, 1) # generate a standard normal random variate\n",
    "        sum_of_squares += x * x # square and sum up the random variates\n",
    "    return sum_of_squares"
   ]
  },
  {
   "cell_type": "markdown",
   "id": "5558acd5",
   "metadata": {
    "papermill": {
     "duration": 0.004968,
     "end_time": "2023-03-25T00:05:01.090798",
     "exception": false,
     "start_time": "2023-03-25T00:05:01.085830",
     "status": "completed"
    },
    "tags": []
   },
   "source": [
    "b. For each k ∈ {1, 2, 3, 4, 5, 6, 7, 8, 9}, simulate 10000 random variates ${x_k}^2$ k to estimate E(X) and var(X)."
   ]
  },
  {
   "cell_type": "code",
   "execution_count": 4,
   "id": "4a1e83cd",
   "metadata": {
    "execution": {
     "iopub.execute_input": "2023-03-25T00:05:01.103282Z",
     "iopub.status.busy": "2023-03-25T00:05:01.102516Z",
     "iopub.status.idle": "2023-03-25T00:05:01.613041Z",
     "shell.execute_reply": "2023-03-25T00:05:01.611687Z"
    },
    "papermill": {
     "duration": 0.520098,
     "end_time": "2023-03-25T00:05:01.615988",
     "exception": false,
     "start_time": "2023-03-25T00:05:01.095890",
     "status": "completed"
    },
    "tags": []
   },
   "outputs": [
    {
     "name": "stdout",
     "output_type": "stream",
     "text": [
      "With k = 1, E(X) = 1.014537, Var(X) = 1.996800\n",
      "With k = 2, E(X) = 1.510681, Var(X) = 3.288222\n",
      "With k = 3, E(X) = 2.002171, Var(X) = 4.656767\n",
      "With k = 4, E(X) = 2.503752, Var(X) = 6.267850\n",
      "With k = 5, E(X) = 2.999389, Var(X) = 7.990191\n",
      "With k = 6, E(X) = 3.493694, Var(X) = 9.826826\n",
      "With k = 7, E(X) = 3.993442, Var(X) = 11.937406\n",
      "With k = 8, E(X) = 4.497962, Var(X) = 14.304893\n",
      "With k = 9, E(X) = 5.003671, Var(X) = 16.777934\n"
     ]
    }
   ],
   "source": [
    "def chisquarevariate(k):\n",
    "    \"\"\"Generate a random variate from a chi-square distribution with k degrees of freedom.\"\"\"\n",
    "    sum_of_squares = 0.0\n",
    "    for i in range(k):\n",
    "        x = random.gauss(0, 1) # generate a standard normal random variate\n",
    "        sum_of_squares += x * x # square and sum up the random variates\n",
    "    return sum_of_squares\n",
    "\n",
    "X = []\n",
    "n = 10000\n",
    "degree_of_freedom = [1,2,3,4,5,6,7,8,9]\n",
    "random.seed(123)\n",
    "\n",
    "for k in degree_of_freedom:\n",
    "    for i in range(n):\n",
    "        x = chisquarevariate(k)\n",
    "        X.append(x)\n",
    "    E_X = np.mean(X)\n",
    "    Var_X = np.var(X)\n",
    "    print(\"With k = %d, E(X) = %f, Var(X) = %f\" %(k, E_X, Var_X))\n",
    "    "
   ]
  },
  {
   "cell_type": "markdown",
   "id": "e3ec3d52",
   "metadata": {
    "papermill": {
     "duration": 0.005055,
     "end_time": "2023-03-25T00:05:01.626554",
     "exception": false,
     "start_time": "2023-03-25T00:05:01.621499",
     "status": "completed"
    },
    "tags": []
   },
   "source": [
    "c. Modify your code from part (b) to give a 95% confidence interval for E(X) and a 95% confidence interval for var(X) from 50 replications."
   ]
  },
  {
   "cell_type": "code",
   "execution_count": 5,
   "id": "9f9a509a",
   "metadata": {
    "execution": {
     "iopub.execute_input": "2023-03-25T00:05:01.640021Z",
     "iopub.status.busy": "2023-03-25T00:05:01.638732Z",
     "iopub.status.idle": "2023-03-25T00:07:59.942281Z",
     "shell.execute_reply": "2023-03-25T00:07:59.940635Z"
    },
    "papermill": {
     "duration": 178.319207,
     "end_time": "2023-03-25T00:07:59.951077",
     "exception": false,
     "start_time": "2023-03-25T00:05:01.631870",
     "status": "completed"
    },
    "tags": []
   },
   "outputs": [
    {
     "name": "stdout",
     "output_type": "stream",
     "text": [
      "With k = 1, E_X = 1.000393, Var_X = 2.002004, 95% confidence interval of E(X): [0.997832, 1.011242], 95% confidence interval of Var(X): [1.978731, 2.012548]\n",
      "With k = 2, E_X = 1.311766, Var_X = 2.817651, 95% confidence interval of E(X): [1.042513, 1.493687], 95% confidence interval of Var(X): [2.131107, 3.232627]\n",
      "With k = 3, E_X = 1.788795, Var_X = 4.103397, 95% confidence interval of E(X): [1.532138, 1.991714], 95% confidence interval of Var(X): [3.351800, 4.638156]\n",
      "With k = 4, E_X = 2.277011, Var_X = 5.562647, 95% confidence interval of E(X): [2.028535, 2.487764], 95% confidence interval of Var(X): [4.756051, 6.187109]\n",
      "With k = 5, E_X = 2.769640, Var_X = 7.204297, 95% confidence interval of E(X): [2.524423, 2.985570], 95% confidence interval of Var(X): [6.319486, 7.922684]\n",
      "With k = 6, E_X = 3.266717, Var_X = 9.040901, 95% confidence interval of E(X): [3.022246, 3.487654], 95% confidence interval of Var(X): [8.069483, 9.859759]\n",
      "With k = 7, E_X = 3.766003, Var_X = 11.057197, 95% confidence interval of E(X): [3.523419, 3.987809], 95% confidence interval of Var(X): [10.011173, 11.948122]\n",
      "With k = 8, E_X = 4.264289, Var_X = 13.227767, 95% confidence interval of E(X): [4.023462, 4.487364], 95% confidence interval of Var(X): [12.109838, 14.197299]\n",
      "With k = 9, E_X = 4.763039, Var_X = 15.565560, 95% confidence interval of E(X): [4.522972, 4.987543], 95% confidence interval of Var(X): [14.374882, 16.614962]\n"
     ]
    }
   ],
   "source": [
    "def chisquarevariate(k):\n",
    "    \"\"\"Generate a random variate from a chi-square distribution with k degrees of freedom.\"\"\"\n",
    "    sum_of_squares = 0.0\n",
    "    for i in range(k):\n",
    "        x = random.gauss(0, 1) # generate a standard normal random variate\n",
    "        sum_of_squares += x * x # square and sum up the random variates\n",
    "    return sum_of_squares\n",
    "\n",
    "X = []\n",
    "n = 10000\n",
    "degree_of_freedom = [1,2,3,4,5,6,7,8,9]\n",
    "M = 50\n",
    "random.seed(123)\n",
    "\n",
    "for k in degree_of_freedom:\n",
    "    E_X = np.zeros(M)\n",
    "    var_X = np.zeros(M)\n",
    "    for m in range(M):\n",
    "        for i in range(n):\n",
    "            x = chisquarevariate(k)\n",
    "            X.append(x)\n",
    "        E_X[m]= np.mean(X)\n",
    "        var_X[m]= np.var(X)\n",
    "    E_X_ci = [np.quantile(E_X,0.025), np.quantile(E_X, 0.975)]\n",
    "    Var_X_ci = [np.quantile(var_X,0.025), np.quantile(var_X, 0.975)]\n",
    "    print(\"With k = %d, E_X = %f, Var_X = %f, 95%% confidence interval of E(X): [%f, %f], 95%% confidence interval of Var(X): [%f, %f]\" % (k,np.mean(E_X), np.mean(var_X), E_X_ci[0], E_X_ci[1], Var_X_ci[0], Var_X_ci[1]))"
   ]
  },
  {
   "cell_type": "markdown",
   "id": "bf1d276c",
   "metadata": {
    "papermill": {
     "duration": 0.005772,
     "end_time": "2023-03-25T00:07:59.962968",
     "exception": false,
     "start_time": "2023-03-25T00:07:59.957196",
     "status": "completed"
    },
    "tags": []
   },
   "source": [
    "d. The 95% Confidence Intervals of part (c) contain the exact value of E(X) and Var(X)"
   ]
  },
  {
   "cell_type": "markdown",
   "id": "f0b6f42c",
   "metadata": {
    "papermill": {
     "duration": 0.00561,
     "end_time": "2023-03-25T00:07:59.974596",
     "exception": false,
     "start_time": "2023-03-25T00:07:59.968986",
     "status": "completed"
    },
    "tags": []
   },
   "source": [
    "## Q2"
   ]
  },
  {
   "cell_type": "markdown",
   "id": "086e12ac",
   "metadata": {
    "papermill": {
     "duration": 0.006044,
     "end_time": "2023-03-25T00:07:59.986592",
     "exception": false,
     "start_time": "2023-03-25T00:07:59.980548",
     "status": "completed"
    },
    "tags": []
   },
   "source": [
    "The number of customers coming to a shop in a day follows a Poisson distribution with a mean of 22."
   ]
  },
  {
   "cell_type": "markdown",
   "id": "317a83c0",
   "metadata": {
    "papermill": {
     "duration": 0.005608,
     "end_time": "2023-03-25T00:07:59.998198",
     "exception": false,
     "start_time": "2023-03-25T00:07:59.992590",
     "status": "completed"
    },
    "tags": []
   },
   "source": [
    "a. The probability of 28 customers coming to that shop in a day."
   ]
  },
  {
   "cell_type": "code",
   "execution_count": 6,
   "id": "d54b0b7f",
   "metadata": {
    "execution": {
     "iopub.execute_input": "2023-03-25T00:08:00.012837Z",
     "iopub.status.busy": "2023-03-25T00:08:00.012045Z",
     "iopub.status.idle": "2023-03-25T00:08:00.020395Z",
     "shell.execute_reply": "2023-03-25T00:08:00.019363Z"
    },
    "papermill": {
     "duration": 0.018207,
     "end_time": "2023-03-25T00:08:00.022509",
     "exception": false,
     "start_time": "2023-03-25T00:08:00.004302",
     "status": "completed"
    },
    "tags": []
   },
   "outputs": [
    {
     "data": {
      "text/plain": [
       "0.03541731538896103"
      ]
     },
     "execution_count": 6,
     "metadata": {},
     "output_type": "execute_result"
    }
   ],
   "source": [
    "mu = 22\n",
    "k = 28\n",
    "poisson.pmf(k, mu)"
   ]
  },
  {
   "cell_type": "markdown",
   "id": "5143f11a",
   "metadata": {
    "papermill": {
     "duration": 0.00585,
     "end_time": "2023-03-25T00:08:00.034544",
     "exception": false,
     "start_time": "2023-03-25T00:08:00.028694",
     "status": "completed"
    },
    "tags": []
   },
   "source": [
    "b. Write Python code to answer the previous question through simulation by generating 10000 random variates from a Poisson distribution. Plot the frequency of the number of customers in this simulation. Use random seed = 123 for this question."
   ]
  },
  {
   "cell_type": "code",
   "execution_count": 7,
   "id": "ce5e5895",
   "metadata": {
    "execution": {
     "iopub.execute_input": "2023-03-25T00:08:00.049427Z",
     "iopub.status.busy": "2023-03-25T00:08:00.048251Z",
     "iopub.status.idle": "2023-03-25T00:08:00.399504Z",
     "shell.execute_reply": "2023-03-25T00:08:00.398095Z"
    },
    "papermill": {
     "duration": 0.361591,
     "end_time": "2023-03-25T00:08:00.402304",
     "exception": false,
     "start_time": "2023-03-25T00:08:00.040713",
     "status": "completed"
    },
    "tags": []
   },
   "outputs": [
    {
     "name": "stdout",
     "output_type": "stream",
     "text": [
      "Probability of 28 customers going to the shop a day: 0.0379\n"
     ]
    },
    {
     "data": {
      "image/png": "[encoded data removed]",
      "text/plain": [
       "<Figure size 640x480 with 1 Axes>"
      ]
     },
     "metadata": {},
     "output_type": "display_data"
    }
   ],
   "source": [
    "mu = 22\n",
    "n = 10000\n",
    "\n",
    "random.seed(123)\n",
    "customers = poisson.rvs(mu, size = n)\n",
    "\n",
    "prob = len(customers[customers == 28]) / n\n",
    "\n",
    "print(\"Probability of 28 customers going to the shop a day:\", prob)\n",
    "\n",
    "plt.hist(customers)\n",
    "plt.xlabel(\"Number of customers\")\n",
    "plt.ylabel(\"Frequency\")\n",
    "plt.title(\"Histogram of customers going to the shop a day\")\n",
    "plt.show()"
   ]
  },
  {
   "cell_type": "markdown",
   "id": "a3c931fb",
   "metadata": {
    "papermill": {
     "duration": 0.006374,
     "end_time": "2023-03-25T00:08:00.415548",
     "exception": false,
     "start_time": "2023-03-25T00:08:00.409174",
     "status": "completed"
    },
    "tags": []
   },
   "source": [
    "## Q3:"
   ]
  },
  {
   "cell_type": "markdown",
   "id": "052b068d",
   "metadata": {
    "papermill": {
     "duration": 0.006436,
     "end_time": "2023-03-25T00:08:00.429014",
     "exception": false,
     "start_time": "2023-03-25T00:08:00.422578",
     "status": "completed"
    },
    "tags": []
   },
   "source": [
    "Kathy enters the museum at time 0\n",
    "<br> Three displays: 0, 1, 2. See two of them\n",
    "<br> First go to display 0\n",
    "<br> Then go to display 1, p1= 0.4, display 2: p2 = 1 - p1\n",
    "<br> displayTime = [4.5, 5.5, 7.5]\n",
    "<br> She says \"Look number i\" when she goes to the display i\n",
    "<br> random seed of 123"
   ]
  },
  {
   "cell_type": "code",
   "execution_count": 8,
   "id": "e6964944",
   "metadata": {
    "execution": {
     "iopub.execute_input": "2023-03-25T00:08:00.444513Z",
     "iopub.status.busy": "2023-03-25T00:08:00.444062Z",
     "iopub.status.idle": "2023-03-25T00:08:00.457924Z",
     "shell.execute_reply": "2023-03-25T00:08:00.456738Z"
    },
    "papermill": {
     "duration": 0.024764,
     "end_time": "2023-03-25T00:08:00.460567",
     "exception": false,
     "start_time": "2023-03-25T00:08:00.435803",
     "status": "completed"
    },
    "tags": []
   },
   "outputs": [
    {
     "name": "stdout",
     "output_type": "stream",
     "text": [
      "At time 0 , Kathy looks number 0\n",
      "At time 4.5 , Kathy looks number 1\n",
      "At time 10.0 , Kathy exits the museum\n"
     ]
    },
    {
     "data": {
      "text/plain": [
       "'SimPy: No more events at time 10.0'"
      ]
     },
     "execution_count": 8,
     "metadata": {},
     "output_type": "execute_result"
    }
   ],
   "source": [
    "class Museum(Process):\n",
    "    def visit(self):\n",
    "        p1 = 0.4\n",
    "        print(\"At time\",now(), \",\", self.name, \"looks number 0\")\n",
    "        yield hold, self, displayTime[0]\n",
    "        if random.random() < p1:\n",
    "            display = 1\n",
    "        else: \n",
    "            display = 2\n",
    "        print(\"At time\",now(), \",\", self.name, \"looks number %d\" % display)\n",
    "        yield hold, self, displayTime[display]\n",
    "        print(\"At time\", now(), \",\", self.name, \"exits the museum\")\n",
    "\n",
    "random.seed(123)\n",
    "initialize()\n",
    "displayTime = [4.5, 5.5, 7.5]\n",
    "kathy = Museum(\"Kathy\")\n",
    "activate(kathy, kathy.visit(), now())\n",
    "simulate(until = 100)        "
   ]
  }
 ],
 "metadata": {
  "kernelspec": {
   "display_name": "Python 3",
   "language": "python",
   "name": "python3"
  },
  "language_info": {
   "codemirror_mode": {
    "name": "ipython",
    "version": 3
   },
   "file_extension": ".py",
   "mimetype": "text/x-python",
   "name": "python",
   "nbconvert_exporter": "python",
   "pygments_lexer": "ipython3",
   "version": "3.7.12"
  },
  "papermill": {
   "default_parameters": {},
   "duration": 206.219165,
   "end_time": "2023-03-25T00:08:01.391357",
   "environment_variables": {},
   "exception": null,
   "input_path": "__notebook__.ipynb",
   "output_path": "__notebook__.ipynb",
   "parameters": {},
   "start_time": "2023-03-25T00:04:35.172192",
   "version": "2.4.0"
  }
 },
 "nbformat": 4,
 "nbformat_minor": 5
}
