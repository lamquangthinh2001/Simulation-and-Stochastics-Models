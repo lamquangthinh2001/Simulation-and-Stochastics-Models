{
 "cells": [
  {
   "cell_type": "markdown",
   "id": "3ceade9a",
   "metadata": {
    "_cell_guid": "b1076dfc-b9ad-4769-8c92-a6c4dae69d19",
    "_uuid": "8f2839f25d086af736a60e9eeb907d3b93b6e0e5",
    "papermill": {
     "duration": 0.00607,
     "end_time": "2023-03-25T01:15:57.931653",
     "exception": false,
     "start_time": "2023-03-25T01:15:57.925583",
     "status": "completed"
    },
    "tags": []
   },
   "source": [
    "Name: Lam Quang Thinh\n",
    "<br>Student ID: 300538520"
   ]
  },
  {
   "cell_type": "markdown",
   "id": "bfad3fd6",
   "metadata": {
    "papermill": {
     "duration": 0.00461,
     "end_time": "2023-03-25T01:15:57.941366",
     "exception": false,
     "start_time": "2023-03-25T01:15:57.936756",
     "status": "completed"
    },
    "tags": []
   },
   "source": [
    "# Assignment 2- Programming"
   ]
  },
  {
   "cell_type": "code",
   "execution_count": 1,
   "id": "80e6cc4f",
   "metadata": {
    "execution": {
     "iopub.execute_input": "2023-03-25T01:15:57.953605Z",
     "iopub.status.busy": "2023-03-25T01:15:57.952807Z",
     "iopub.status.idle": "2023-03-25T01:16:10.620406Z",
     "shell.execute_reply": "2023-03-25T01:16:10.619162Z"
    },
    "papermill": {
     "duration": 12.677334,
     "end_time": "2023-03-25T01:16:10.623617",
     "exception": false,
     "start_time": "2023-03-25T01:15:57.946283",
     "status": "completed"
    },
    "tags": []
   },
   "outputs": [
    {
     "name": "stdout",
     "output_type": "stream",
     "text": [
      "Collecting SimPyClassic\r\n",
      "  Downloading SimPyClassic-2.3.4-py2.py3-none-any.whl (79 kB)\r\n",
      "\u001b[2K     \u001b[90m━━━━━━━━━━━━━━━━━━━━━━━━━━━━━━━━━━━━━━━━\u001b[0m \u001b[32m79.2/79.2 kB\u001b[0m \u001b[31m3.8 MB/s\u001b[0m eta \u001b[36m0:00:00\u001b[0m\r\n",
      "\u001b[?25hInstalling collected packages: SimPyClassic\r\n",
      "Successfully installed SimPyClassic-2.3.4\r\n",
      "\u001b[33mWARNING: Running pip as the 'root' user can result in broken permissions and conflicting behaviour with the system package manager. It is recommended to use a virtual environment instead: https://pip.pypa.io/warnings/venv\u001b[0m\u001b[33m\r\n",
      "\u001b[0m"
     ]
    }
   ],
   "source": [
    "!pip install SimPyClassic"
   ]
  },
  {
   "cell_type": "code",
   "execution_count": 2,
   "id": "f1578059",
   "metadata": {
    "execution": {
     "iopub.execute_input": "2023-03-25T01:16:10.637533Z",
     "iopub.status.busy": "2023-03-25T01:16:10.637118Z",
     "iopub.status.idle": "2023-03-25T01:16:11.676418Z",
     "shell.execute_reply": "2023-03-25T01:16:11.674927Z"
    },
    "papermill": {
     "duration": 1.050719,
     "end_time": "2023-03-25T01:16:11.679758",
     "exception": false,
     "start_time": "2023-03-25T01:16:10.629039",
     "status": "completed"
    },
    "tags": []
   },
   "outputs": [],
   "source": [
    "#Import packages\n",
    "import random\n",
    "import math\n",
    "import numpy as np\n",
    "import matplotlib.pyplot as plt\n",
    "from scipy.stats import poisson\n",
    "from SimPy.Simulation import *"
   ]
  },
  {
   "cell_type": "markdown",
   "id": "740c8986",
   "metadata": {
    "papermill": {
     "duration": 0.005151,
     "end_time": "2023-03-25T01:16:11.690375",
     "exception": false,
     "start_time": "2023-03-25T01:16:11.685224",
     "status": "completed"
    },
    "tags": []
   },
   "source": [
    "## Q1:"
   ]
  },
  {
   "cell_type": "markdown",
   "id": "fc8687f7",
   "metadata": {
    "papermill": {
     "duration": 0.005008,
     "end_time": "2023-03-25T01:16:11.700650",
     "exception": false,
     "start_time": "2023-03-25T01:16:11.695642",
     "status": "completed"
    },
    "tags": []
   },
   "source": [
    "a. Write a chisquarevariate(k) function in Python which generates a random variate from a ${x_k}^2$ distribution (chi-square distribution with k degrees of freedom). This is simply the sum of the squares of k independent standard normal random variates."
   ]
  },
  {
   "cell_type": "code",
   "execution_count": 3,
   "id": "60c8aadb",
   "metadata": {
    "execution": {
     "iopub.execute_input": "2023-03-25T01:16:11.713165Z",
     "iopub.status.busy": "2023-03-25T01:16:11.712740Z",
     "iopub.status.idle": "2023-03-25T01:16:11.719631Z",
     "shell.execute_reply": "2023-03-25T01:16:11.718206Z"
    },
    "papermill": {
     "duration": 0.016688,
     "end_time": "2023-03-25T01:16:11.722470",
     "exception": false,
     "start_time": "2023-03-25T01:16:11.705782",
     "status": "completed"
    },
    "tags": []
   },
   "outputs": [],
   "source": [
    "def chisquarevariate(k):\n",
    "    \"\"\"Generate a random variate from a chi-square distribution with k degrees of freedom.\"\"\"\n",
    "    sum_of_squares = 0.0\n",
    "    for i in range(k):\n",
    "        x = random.gauss(0, 1) # generate a standard normal random variate\n",
    "        sum_of_squares += x * x # square and sum up the random variates\n",
    "    return sum_of_squares"
   ]
  },
  {
   "cell_type": "markdown",
   "id": "f7c489e6",
   "metadata": {
    "papermill": {
     "duration": 0.005502,
     "end_time": "2023-03-25T01:16:11.733272",
     "exception": false,
     "start_time": "2023-03-25T01:16:11.727770",
     "status": "completed"
    },
    "tags": []
   },
   "source": [
    "b. For each k ∈ {1, 2, 3, 4, 5, 6, 7, 8, 9}, simulate 10000 random variates ${x_k}^2$ k to estimate E(X) and var(X)."
   ]
  },
  {
   "cell_type": "code",
   "execution_count": 4,
   "id": "529f4382",
   "metadata": {
    "execution": {
     "iopub.execute_input": "2023-03-25T01:16:11.746049Z",
     "iopub.status.busy": "2023-03-25T01:16:11.745602Z",
     "iopub.status.idle": "2023-03-25T01:16:12.265819Z",
     "shell.execute_reply": "2023-03-25T01:16:12.264232Z"
    },
    "papermill": {
     "duration": 0.52999,
     "end_time": "2023-03-25T01:16:12.268777",
     "exception": false,
     "start_time": "2023-03-25T01:16:11.738787",
     "status": "completed"
    },
    "tags": []
   },
   "outputs": [
    {
     "name": "stdout",
     "output_type": "stream",
     "text": [
      "With k = 1, E(X) = 1.014537, Var(X) = 1.996800\n",
      "With k = 2, E(X) = 1.510681, Var(X) = 3.288222\n",
      "With k = 3, E(X) = 2.002171, Var(X) = 4.656767\n",
      "With k = 4, E(X) = 2.503752, Var(X) = 6.267850\n",
      "With k = 5, E(X) = 2.999389, Var(X) = 7.990191\n",
      "With k = 6, E(X) = 3.493694, Var(X) = 9.826826\n",
      "With k = 7, E(X) = 3.993442, Var(X) = 11.937406\n",
      "With k = 8, E(X) = 4.497962, Var(X) = 14.304893\n",
      "With k = 9, E(X) = 5.003671, Var(X) = 16.777934\n"
     ]
    }
   ],
   "source": [
    "def chisquarevariate(k):\n",
    "    \"\"\"Generate a random variate from a chi-square distribution with k degrees of freedom.\"\"\"\n",
    "    sum_of_squares = 0.0\n",
    "    for i in range(k):\n",
    "        x = random.gauss(0, 1) # generate a standard normal random variate\n",
    "        sum_of_squares += x * x # square and sum up the random variates\n",
    "    return sum_of_squares\n",
    "\n",
    "X = []\n",
    "n = 10000\n",
    "degree_of_freedom = [1,2,3,4,5,6,7,8,9]\n",
    "random.seed(123)\n",
    "\n",
    "for k in degree_of_freedom:\n",
    "    for i in range(n):\n",
    "        x = chisquarevariate(k)\n",
    "        X.append(x)\n",
    "    E_X = np.mean(X)\n",
    "    Var_X = np.var(X)\n",
    "    print(\"With k = %d, E(X) = %f, Var(X) = %f\" %(k, E_X, Var_X))\n",
    "    "
   ]
  },
  {
   "cell_type": "markdown",
   "id": "dd0927d2",
   "metadata": {
    "papermill": {
     "duration": 0.005494,
     "end_time": "2023-03-25T01:16:12.280046",
     "exception": false,
     "start_time": "2023-03-25T01:16:12.274552",
     "status": "completed"
    },
    "tags": []
   },
   "source": [
    "c. Modify your code from part (b) to give a 95% confidence interval for E(X) and a 95% confidence interval for var(X) from 50 replications."
   ]
  },
  {
   "cell_type": "code",
   "execution_count": 5,
   "id": "1a7997b3",
   "metadata": {
    "execution": {
     "iopub.execute_input": "2023-03-25T01:16:12.293717Z",
     "iopub.status.busy": "2023-03-25T01:16:12.292845Z",
     "iopub.status.idle": "2023-03-25T01:19:19.610958Z",
     "shell.execute_reply": "2023-03-25T01:19:19.609967Z"
    },
    "papermill": {
     "duration": 187.332418,
     "end_time": "2023-03-25T01:19:19.618361",
     "exception": false,
     "start_time": "2023-03-25T01:16:12.285943",
     "status": "completed"
    },
    "tags": []
   },
   "outputs": [
    {
     "name": "stdout",
     "output_type": "stream",
     "text": [
      "With k = 1, E_X = 1.000393, Var_X = 2.002004, 95% confidence interval of E(X): [0.997832, 1.011242], 95% confidence interval of Var(X): [1.978731, 2.012548]\n",
      "With k = 2, E_X = 1.311766, Var_X = 2.817651, 95% confidence interval of E(X): [1.042513, 1.493687], 95% confidence interval of Var(X): [2.131107, 3.232627]\n",
      "With k = 3, E_X = 1.788795, Var_X = 4.103397, 95% confidence interval of E(X): [1.532138, 1.991714], 95% confidence interval of Var(X): [3.351800, 4.638156]\n",
      "With k = 4, E_X = 2.277011, Var_X = 5.562647, 95% confidence interval of E(X): [2.028535, 2.487764], 95% confidence interval of Var(X): [4.756051, 6.187109]\n",
      "With k = 5, E_X = 2.769640, Var_X = 7.204297, 95% confidence interval of E(X): [2.524423, 2.985570], 95% confidence interval of Var(X): [6.319486, 7.922684]\n",
      "With k = 6, E_X = 3.266717, Var_X = 9.040901, 95% confidence interval of E(X): [3.022246, 3.487654], 95% confidence interval of Var(X): [8.069483, 9.859759]\n",
      "With k = 7, E_X = 3.766003, Var_X = 11.057197, 95% confidence interval of E(X): [3.523419, 3.987809], 95% confidence interval of Var(X): [10.011173, 11.948122]\n",
      "With k = 8, E_X = 4.264289, Var_X = 13.227767, 95% confidence interval of E(X): [4.023462, 4.487364], 95% confidence interval of Var(X): [12.109838, 14.197299]\n",
      "With k = 9, E_X = 4.763039, Var_X = 15.565560, 95% confidence interval of E(X): [4.522972, 4.987543], 95% confidence interval of Var(X): [14.374882, 16.614962]\n"
     ]
    }
   ],
   "source": [
    "def chisquarevariate(k):\n",
    "    \"\"\"Generate a random variate from a chi-square distribution with k degrees of freedom.\"\"\"\n",
    "    sum_of_squares = 0.0\n",
    "    for i in range(k):\n",
    "        x = random.gauss(0, 1) # generate a standard normal random variate\n",
    "        sum_of_squares += x * x # square and sum up the random variates\n",
    "    return sum_of_squares\n",
    "\n",
    "X = []\n",
    "n = 10000\n",
    "degree_of_freedom = [1,2,3,4,5,6,7,8,9]\n",
    "M = 50\n",
    "random.seed(123)\n",
    "\n",
    "for k in degree_of_freedom:\n",
    "    E_X = np.zeros(M)\n",
    "    var_X = np.zeros(M)\n",
    "    for m in range(M):\n",
    "        for i in range(n):\n",
    "            x = chisquarevariate(k)\n",
    "            X.append(x)\n",
    "        E_X[m]= np.mean(X)\n",
    "        var_X[m]= np.var(X)\n",
    "    E_X_ci = [np.quantile(E_X,0.025), np.quantile(E_X, 0.975)]\n",
    "    Var_X_ci = [np.quantile(var_X,0.025), np.quantile(var_X, 0.975)]\n",
    "    print(\"With k = %d, E_X = %f, Var_X = %f, 95%% confidence interval of E(X): [%f, %f], 95%% confidence interval of Var(X): [%f, %f]\" % (k,np.mean(E_X), np.mean(var_X), E_X_ci[0], E_X_ci[1], Var_X_ci[0], Var_X_ci[1]))"
   ]
  },
  {
   "cell_type": "markdown",
   "id": "23717647",
   "metadata": {
    "papermill": {
     "duration": 0.005648,
     "end_time": "2023-03-25T01:19:19.629984",
     "exception": false,
     "start_time": "2023-03-25T01:19:19.624336",
     "status": "completed"
    },
    "tags": []
   },
   "source": [
    "d. The 95% Confidence Intervals of part (c) contain the exact value of E(X) and Var(X)"
   ]
  },
  {
   "cell_type": "markdown",
   "id": "ad8b9e99",
   "metadata": {
    "papermill": {
     "duration": 0.005606,
     "end_time": "2023-03-25T01:19:19.641641",
     "exception": false,
     "start_time": "2023-03-25T01:19:19.636035",
     "status": "completed"
    },
    "tags": []
   },
   "source": [
    "## Q2"
   ]
  },
  {
   "cell_type": "markdown",
   "id": "a229b586",
   "metadata": {
    "papermill": {
     "duration": 0.005635,
     "end_time": "2023-03-25T01:19:19.653244",
     "exception": false,
     "start_time": "2023-03-25T01:19:19.647609",
     "status": "completed"
    },
    "tags": []
   },
   "source": [
    "The number of customers coming to a shop in a day follows a Poisson distribution with a mean of 22."
   ]
  },
  {
   "cell_type": "markdown",
   "id": "c573cc39",
   "metadata": {
    "papermill": {
     "duration": 0.005706,
     "end_time": "2023-03-25T01:19:19.664876",
     "exception": false,
     "start_time": "2023-03-25T01:19:19.659170",
     "status": "completed"
    },
    "tags": []
   },
   "source": [
    "a. The probability of 28 customers coming to that shop in a day."
   ]
  },
  {
   "cell_type": "code",
   "execution_count": 6,
   "id": "b48e7cad",
   "metadata": {
    "execution": {
     "iopub.execute_input": "2023-03-25T01:19:19.679128Z",
     "iopub.status.busy": "2023-03-25T01:19:19.678652Z",
     "iopub.status.idle": "2023-03-25T01:19:19.688533Z",
     "shell.execute_reply": "2023-03-25T01:19:19.687135Z"
    },
    "papermill": {
     "duration": 0.020121,
     "end_time": "2023-03-25T01:19:19.691079",
     "exception": false,
     "start_time": "2023-03-25T01:19:19.670958",
     "status": "completed"
    },
    "tags": []
   },
   "outputs": [
    {
     "data": {
      "text/plain": [
       "0.03541731538896103"
      ]
     },
     "execution_count": 6,
     "metadata": {},
     "output_type": "execute_result"
    }
   ],
   "source": [
    "mu = 22\n",
    "k = 28\n",
    "poisson.pmf(k, mu)"
   ]
  },
  {
   "cell_type": "markdown",
   "id": "bc7cf323",
   "metadata": {
    "papermill": {
     "duration": 0.005766,
     "end_time": "2023-03-25T01:19:19.703315",
     "exception": false,
     "start_time": "2023-03-25T01:19:19.697549",
     "status": "completed"
    },
    "tags": []
   },
   "source": [
    "b. Write Python code to answer the previous question through simulation by generating 10000 random variates from a Poisson distribution. Plot the frequency of the number of customers in this simulation. Use random seed = 123 for this question."
   ]
  },
  {
   "cell_type": "code",
   "execution_count": 7,
   "id": "94a75cdc",
   "metadata": {
    "execution": {
     "iopub.execute_input": "2023-03-25T01:19:19.717902Z",
     "iopub.status.busy": "2023-03-25T01:19:19.717445Z",
     "iopub.status.idle": "2023-03-25T01:19:20.076996Z",
     "shell.execute_reply": "2023-03-25T01:19:20.075711Z"
    },
    "papermill": {
     "duration": 0.370704,
     "end_time": "2023-03-25T01:19:20.080007",
     "exception": false,
     "start_time": "2023-03-25T01:19:19.709303",
     "status": "completed"
    },
    "tags": []
   },
   "outputs": [
    {
     "name": "stdout",
     "output_type": "stream",
     "text": [
      "Probability of 28 customers going to the shop a day: 0.0424\n"
     ]
    },
    {
     "data": {
      "image/png": "[encoded data removed]",
      "text/plain": [
       "<Figure size 640x480 with 1 Axes>"
      ]
     },
     "metadata": {},
     "output_type": "display_data"
    }
   ],
   "source": [
    "mu = 22\n",
    "n = 10000\n",
    "\n",
    "random.seed(123)\n",
    "customers = poisson.rvs(mu, size = n)\n",
    "\n",
    "prob = len(customers[customers == 28]) / n\n",
    "\n",
    "print(\"Probability of 28 customers going to the shop a day:\", prob)\n",
    "\n",
    "plt.hist(customers)\n",
    "plt.xlabel(\"Number of customers\")\n",
    "plt.ylabel(\"Frequency\")\n",
    "plt.title(\"Histogram of customers going to the shop a day\")\n",
    "plt.show()"
   ]
  },
  {
   "cell_type": "markdown",
   "id": "ec9a92d0",
   "metadata": {
    "papermill": {
     "duration": 0.006422,
     "end_time": "2023-03-25T01:19:20.093245",
     "exception": false,
     "start_time": "2023-03-25T01:19:20.086823",
     "status": "completed"
    },
    "tags": []
   },
   "source": [
    "## Q3:"
   ]
  },
  {
   "cell_type": "markdown",
   "id": "23825c76",
   "metadata": {
    "papermill": {
     "duration": 0.006155,
     "end_time": "2023-03-25T01:19:20.105938",
     "exception": false,
     "start_time": "2023-03-25T01:19:20.099783",
     "status": "completed"
    },
    "tags": []
   },
   "source": [
    "Kathy enters the museum at time 0\n",
    "<br> Three displays: 0, 1, 2. See two of them\n",
    "<br> First go to display 0\n",
    "<br> Then go to display 1, p1= 0.4, display 2: p2 = 1 - p1\n",
    "<br> displayTime = [4.5, 5.5, 7.5]\n",
    "<br> She says \"Look number i\" when she goes to the display i\n",
    "<br> random seed of 123"
   ]
  },
  {
   "cell_type": "code",
   "execution_count": 8,
   "id": "031ff92a",
   "metadata": {
    "execution": {
     "iopub.execute_input": "2023-03-25T01:19:20.120977Z",
     "iopub.status.busy": "2023-03-25T01:19:20.120553Z",
     "iopub.status.idle": "2023-03-25T01:19:20.133805Z",
     "shell.execute_reply": "2023-03-25T01:19:20.132653Z"
    },
    "papermill": {
     "duration": 0.024835,
     "end_time": "2023-03-25T01:19:20.137347",
     "exception": false,
     "start_time": "2023-03-25T01:19:20.112512",
     "status": "completed"
    },
    "tags": []
   },
   "outputs": [
    {
     "name": "stdout",
     "output_type": "stream",
     "text": [
      "At time 0 , Kathy looks number 0\n",
      "At time 4.5 , Kathy looks number 1\n",
      "At time 10.0 , Kathy exits the museum\n"
     ]
    },
    {
     "data": {
      "text/plain": [
       "'SimPy: No more events at time 10.0'"
      ]
     },
     "execution_count": 8,
     "metadata": {},
     "output_type": "execute_result"
    }
   ],
   "source": [
    "class Museum(Process):\n",
    "    def visit(self):\n",
    "        p1 = 0.4\n",
    "        print(\"At time\",now(), \",\", self.name, \"looks number 0\")\n",
    "        yield hold, self, displayTime[0]\n",
    "        display = [1,2]\n",
    "        # Choose the display with corresponding probabilities\n",
    "        random.choices(display, weights =(p1, 1-p1), k =1)\n",
    "        print(\"At time\",now(), \",\", self.name, \"looks number %d\" % display[0])\n",
    "        yield hold, self, displayTime[display[0]]\n",
    "        print(\"At time\", now(), \",\", self.name, \"exits the museum\")\n",
    "\n",
    "random.seed(123)\n",
    "initialize()\n",
    "displayTime = [4.5, 5.5, 7.5]\n",
    "kathy = Museum(\"Kathy\")\n",
    "activate(kathy, kathy.visit(), now())\n",
    "simulate(until = 100)        "
   ]
  }
 ],
 "metadata": {
  "kernelspec": {
   "display_name": "Python 3",
   "language": "python",
   "name": "python3"
  },
  "language_info": {
   "codemirror_mode": {
    "name": "ipython",
    "version": 3
   },
   "file_extension": ".py",
   "mimetype": "text/x-python",
   "name": "python",
   "nbconvert_exporter": "python",
   "pygments_lexer": "ipython3",
   "version": "3.7.12"
  },
  "papermill": {
   "default_parameters": {},
   "duration": 214.216751,
   "end_time": "2023-03-25T01:19:21.068433",
   "environment_variables": {},
   "exception": null,
   "input_path": "__notebook__.ipynb",
   "output_path": "__notebook__.ipynb",
   "parameters": {},
   "start_time": "2023-03-25T01:15:46.851682",
   "version": "2.4.0"
  }
 },
 "nbformat": 4,
 "nbformat_minor": 5
}
