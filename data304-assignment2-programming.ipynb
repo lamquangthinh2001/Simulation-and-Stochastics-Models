{
 "cells": [
  {
   "cell_type": "markdown",
   "id": "dbf2841d",
   "metadata": {
    "_cell_guid": "b1076dfc-b9ad-4769-8c92-a6c4dae69d19",
    "_uuid": "8f2839f25d086af736a60e9eeb907d3b93b6e0e5",
    "papermill": {
     "duration": 0.005211,
     "end_time": "2023-03-24T10:58:39.695151",
     "exception": false,
     "start_time": "2023-03-24T10:58:39.689940",
     "status": "completed"
    },
    "tags": []
   },
   "source": [
    "Name: Lam Quang Thinh\n",
    "<br>Student ID: 300538520"
   ]
  },
  {
   "cell_type": "markdown",
   "id": "165780b7",
   "metadata": {
    "papermill": {
     "duration": 0.003615,
     "end_time": "2023-03-24T10:58:39.702975",
     "exception": false,
     "start_time": "2023-03-24T10:58:39.699360",
     "status": "completed"
    },
    "tags": []
   },
   "source": [
    "# Assignment 2- Programming"
   ]
  },
  {
   "cell_type": "markdown",
   "id": "82ebdaad",
   "metadata": {
    "papermill": {
     "duration": 0.003585,
     "end_time": "2023-03-24T10:58:39.710427",
     "exception": false,
     "start_time": "2023-03-24T10:58:39.706842",
     "status": "completed"
    },
    "tags": []
   },
   "source": [
    "## Q1:"
   ]
  },
  {
   "cell_type": "markdown",
   "id": "c8e4bacc",
   "metadata": {
    "papermill": {
     "duration": 0.003779,
     "end_time": "2023-03-24T10:58:39.717964",
     "exception": false,
     "start_time": "2023-03-24T10:58:39.714185",
     "status": "completed"
    },
    "tags": []
   },
   "source": [
    "a. Write a chisquarevariate(k) function in Python which generates a random variate from a ${x_k}^2$ distribution (chi-square distribution with k degrees of freedom). This is simply the sum of the squares of k independent standard normal random variates."
   ]
  },
  {
   "cell_type": "code",
   "execution_count": 1,
   "id": "3b8e57d9",
   "metadata": {
    "execution": {
     "iopub.execute_input": "2023-03-24T10:58:39.727716Z",
     "iopub.status.busy": "2023-03-24T10:58:39.726996Z",
     "iopub.status.idle": "2023-03-24T10:58:39.737428Z",
     "shell.execute_reply": "2023-03-24T10:58:39.736400Z"
    },
    "papermill": {
     "duration": 0.018257,
     "end_time": "2023-03-24T10:58:39.739991",
     "exception": false,
     "start_time": "2023-03-24T10:58:39.721734",
     "status": "completed"
    },
    "tags": []
   },
   "outputs": [],
   "source": [
    "import random\n",
    "import math\n",
    "\n",
    "def chisquarevariate(k):\n",
    "    \"\"\"Generate a random variate from a chi-square distribution with k degrees of freedom.\"\"\"\n",
    "    sum_of_squares = 0.0\n",
    "    for i in range(k):\n",
    "        x = random.gauss(0, 1) # generate a standard normal random variate\n",
    "        sum_of_squares += x * x # square and sum up the random variates\n",
    "    return sum_of_squares"
   ]
  },
  {
   "cell_type": "markdown",
   "id": "d642ff5b",
   "metadata": {
    "papermill": {
     "duration": 0.003574,
     "end_time": "2023-03-24T10:58:39.747581",
     "exception": false,
     "start_time": "2023-03-24T10:58:39.744007",
     "status": "completed"
    },
    "tags": []
   },
   "source": [
    "b. For each k ∈ {1, 2, 3, 4, 5, 6, 7, 8, 9}, simulate 10000 random variates ${x_k}^2$ k to estimate E(X) and var(X)."
   ]
  },
  {
   "cell_type": "code",
   "execution_count": 2,
   "id": "68fa849e",
   "metadata": {
    "execution": {
     "iopub.execute_input": "2023-03-24T10:58:39.756817Z",
     "iopub.status.busy": "2023-03-24T10:58:39.756418Z",
     "iopub.status.idle": "2023-03-24T10:58:40.266460Z",
     "shell.execute_reply": "2023-03-24T10:58:40.264946Z"
    },
    "papermill": {
     "duration": 0.518145,
     "end_time": "2023-03-24T10:58:40.269509",
     "exception": false,
     "start_time": "2023-03-24T10:58:39.751364",
     "status": "completed"
    },
    "tags": []
   },
   "outputs": [
    {
     "name": "stdout",
     "output_type": "stream",
     "text": [
      "With k = 1, E(X) = 1.014537, Var(X) = 1.996800\n",
      "With k = 2, E(X) = 1.519708, Var(X) = 3.261087\n",
      "With k = 3, E(X) = 2.020260, Var(X) = 4.703663\n",
      "With k = 4, E(X) = 2.518624, Var(X) = 6.250876\n",
      "With k = 5, E(X) = 3.014819, Var(X) = 7.972617\n",
      "With k = 6, E(X) = 3.513435, Var(X) = 9.856867\n",
      "With k = 7, E(X) = 4.012455, Var(X) = 11.928255\n",
      "With k = 8, E(X) = 4.512651, Var(X) = 14.182823\n",
      "With k = 9, E(X) = 5.013709, Var(X) = 16.615518\n"
     ]
    }
   ],
   "source": [
    "import random\n",
    "import math\n",
    "import numpy as np\n",
    "\n",
    "def chisquarevariate(k):\n",
    "    \"\"\"Generate a random variate from a chi-square distribution with k degrees of freedom.\"\"\"\n",
    "    sum_of_squares = 0.0\n",
    "    for i in range(k):\n",
    "        x = random.gauss(0, 1) # generate a standard normal random variate\n",
    "        sum_of_squares += x * x # square and sum up the random variates\n",
    "    return sum_of_squares\n",
    "\n",
    "X = []\n",
    "n = 10000\n",
    "degree_of_freedom = [1,2,3,4,5,6,7,8,9]\n",
    "\n",
    "for k in degree_of_freedom:\n",
    "    random.seed(123)\n",
    "    for i in range(n):\n",
    "        x = chisquarevariate(k)\n",
    "        X.append(x)\n",
    "    E_X = np.mean(X)\n",
    "    Var_X = np.var(X)\n",
    "    print(\"With k = %d, E(X) = %f, Var(X) = %f\" %(k, E_X, Var_X))\n",
    "    "
   ]
  },
  {
   "cell_type": "markdown",
   "id": "3f75ea26",
   "metadata": {
    "papermill": {
     "duration": 0.003915,
     "end_time": "2023-03-24T10:58:40.277824",
     "exception": false,
     "start_time": "2023-03-24T10:58:40.273909",
     "status": "completed"
    },
    "tags": []
   },
   "source": [
    "c. Modify your code from part (b) to give a 95% confidence interval for E(X) and a 95% confidence interval for var(X) from 50 replications."
   ]
  },
  {
   "cell_type": "code",
   "execution_count": 3,
   "id": "e316eb59",
   "metadata": {
    "execution": {
     "iopub.execute_input": "2023-03-24T10:58:40.288378Z",
     "iopub.status.busy": "2023-03-24T10:58:40.287464Z",
     "iopub.status.idle": "2023-03-24T11:01:36.407040Z",
     "shell.execute_reply": "2023-03-24T11:01:36.405630Z"
    },
    "papermill": {
     "duration": 176.131427,
     "end_time": "2023-03-24T11:01:36.413309",
     "exception": false,
     "start_time": "2023-03-24T10:58:40.281882",
     "status": "completed"
    },
    "tags": []
   },
   "outputs": [
    {
     "name": "stdout",
     "output_type": "stream",
     "text": [
      "With k = 1, E_X = 1.000393, Var_X = 2.002004, 95% confidence interval of E(X): [0.997832, 1.011242], 95% confidence interval of Var(X): [1.978731, 2.012548]\n",
      "With k = 2, E_X = 1.312233, Var_X = 2.824861, 95% confidence interval of E(X): [1.043203, 1.494037], 95% confidence interval of Var(X): [2.132526, 3.237764]\n",
      "With k = 3, E_X = 1.788575, Var_X = 4.106547, 95% confidence interval of E(X): [1.532785, 1.991819], 95% confidence interval of Var(X): [3.358417, 4.641391]\n",
      "With k = 4, E_X = 2.278720, Var_X = 5.580904, 95% confidence interval of E(X): [2.029144, 2.490796], 95% confidence interval of Var(X): [4.764811, 6.215613]\n",
      "With k = 5, E_X = 2.773678, Var_X = 7.240417, 95% confidence interval of E(X): [2.527679, 2.990453], 95% confidence interval of Var(X): [6.351199, 7.961261]\n",
      "With k = 6, E_X = 3.270541, Var_X = 9.064061, 95% confidence interval of E(X): [3.026773, 3.489923], 95% confidence interval of Var(X): [8.102829, 9.864790]\n",
      "With k = 7, E_X = 3.768014, Var_X = 11.054126, 95% confidence interval of E(X): [3.526000, 3.989042], 95% confidence interval of Var(X): [10.018548, 11.933977]\n",
      "With k = 8, E_X = 4.265633, Var_X = 13.207010, 95% confidence interval of E(X): [4.024831, 4.488189], 95% confidence interval of Var(X): [12.095767, 14.167651]\n",
      "With k = 9, E_X = 4.763601, Var_X = 15.528039, 95% confidence interval of E(X): [4.523742, 4.986992], 95% confidence interval of Var(X): [14.341556, 16.562411]\n"
     ]
    }
   ],
   "source": [
    "import random\n",
    "import math\n",
    "import numpy as np\n",
    "\n",
    "def chisquarevariate(k):\n",
    "    \"\"\"Generate a random variate from a chi-square distribution with k degrees of freedom.\"\"\"\n",
    "    sum_of_squares = 0.0\n",
    "    for i in range(k):\n",
    "        x = random.gauss(0, 1) # generate a standard normal random variate\n",
    "        sum_of_squares += x * x # square and sum up the random variates\n",
    "    return sum_of_squares\n",
    "\n",
    "X = []\n",
    "n = 10000\n",
    "degree_of_freedom = [1,2,3,4,5,6,7,8,9]\n",
    "M = 50\n",
    "for k in degree_of_freedom:\n",
    "    random.seed(123)\n",
    "    E_X = np.zeros(M)\n",
    "    var_X = np.zeros(M)\n",
    "    for m in range(M):\n",
    "        for i in range(n):\n",
    "            x = chisquarevariate(k)\n",
    "            X.append(x)\n",
    "        E_X[m]= np.mean(X)\n",
    "        var_X[m]= np.var(X)\n",
    "    E_X_ci = [np.quantile(E_X,0.025), np.quantile(E_X, 0.975)]\n",
    "    Var_X_ci = [np.quantile(var_X,0.025), np.quantile(var_X, 0.975)]\n",
    "    print(\"With k = %d, E_X = %f, Var_X = %f, 95%% confidence interval of E(X): [%f, %f], 95%% confidence interval of Var(X): [%f, %f]\" % (k,np.mean(E_X), np.mean(var_X), E_X_ci[0], E_X_ci[1], Var_X_ci[0], Var_X_ci[1]))"
   ]
  },
  {
   "cell_type": "markdown",
   "id": "39e3d8e2",
   "metadata": {
    "papermill": {
     "duration": 0.004345,
     "end_time": "2023-03-24T11:01:36.422392",
     "exception": false,
     "start_time": "2023-03-24T11:01:36.418047",
     "status": "completed"
    },
    "tags": []
   },
   "source": [
    "d. The 95% Confidence Intervals of part (c) contain the exact value of E(X) and Var(X)"
   ]
  },
  {
   "cell_type": "markdown",
   "id": "f16651d2",
   "metadata": {
    "papermill": {
     "duration": 0.004286,
     "end_time": "2023-03-24T11:01:36.431335",
     "exception": false,
     "start_time": "2023-03-24T11:01:36.427049",
     "status": "completed"
    },
    "tags": []
   },
   "source": [
    "## Q2"
   ]
  },
  {
   "cell_type": "markdown",
   "id": "2376ed0b",
   "metadata": {
    "papermill": {
     "duration": 0.00429,
     "end_time": "2023-03-24T11:01:36.440259",
     "exception": false,
     "start_time": "2023-03-24T11:01:36.435969",
     "status": "completed"
    },
    "tags": []
   },
   "source": [
    "The number of customers coming to a shop in a day follows a Poisson distribution with a mean of 22."
   ]
  },
  {
   "cell_type": "markdown",
   "id": "013829f7",
   "metadata": {
    "papermill": {
     "duration": 0.004364,
     "end_time": "2023-03-24T11:01:36.449145",
     "exception": false,
     "start_time": "2023-03-24T11:01:36.444781",
     "status": "completed"
    },
    "tags": []
   },
   "source": [
    "a. The probability of 28 customers coming to that shop in a day."
   ]
  },
  {
   "cell_type": "code",
   "execution_count": 4,
   "id": "cfaacf06",
   "metadata": {
    "execution": {
     "iopub.execute_input": "2023-03-24T11:01:36.460819Z",
     "iopub.status.busy": "2023-03-24T11:01:36.460426Z",
     "iopub.status.idle": "2023-03-24T11:01:37.420304Z",
     "shell.execute_reply": "2023-03-24T11:01:37.418919Z"
    },
    "papermill": {
     "duration": 0.968734,
     "end_time": "2023-03-24T11:01:37.422890",
     "exception": false,
     "start_time": "2023-03-24T11:01:36.454156",
     "status": "completed"
    },
    "tags": []
   },
   "outputs": [
    {
     "data": {
      "text/plain": [
       "0.03541731538896103"
      ]
     },
     "execution_count": 4,
     "metadata": {},
     "output_type": "execute_result"
    }
   ],
   "source": [
    "from scipy.stats import poisson\n",
    "\n",
    "mu = 22\n",
    "k = 28\n",
    "poisson.pmf(k, mu)"
   ]
  },
  {
   "cell_type": "markdown",
   "id": "140e12bb",
   "metadata": {
    "papermill": {
     "duration": 0.004598,
     "end_time": "2023-03-24T11:01:37.432591",
     "exception": false,
     "start_time": "2023-03-24T11:01:37.427993",
     "status": "completed"
    },
    "tags": []
   },
   "source": [
    "b. Write Python code to answer the previous question through simulation by generating 10000 random variates from a Poisson distribution. Plot the frequency of the number of customers in this simulation. Use random seed = 123 for this question."
   ]
  },
  {
   "cell_type": "code",
   "execution_count": 5,
   "id": "a847df80",
   "metadata": {
    "execution": {
     "iopub.execute_input": "2023-03-24T11:01:37.444806Z",
     "iopub.status.busy": "2023-03-24T11:01:37.444429Z",
     "iopub.status.idle": "2023-03-24T11:01:37.451322Z",
     "shell.execute_reply": "2023-03-24T11:01:37.450187Z"
    },
    "papermill": {
     "duration": 0.015422,
     "end_time": "2023-03-24T11:01:37.453674",
     "exception": false,
     "start_time": "2023-03-24T11:01:37.438252",
     "status": "completed"
    },
    "tags": []
   },
   "outputs": [],
   "source": [
    "from scipy.stats import poisson\n",
    "\n",
    "mu = 22\n",
    "n = 10000\n",
    "\n",
    "customers = poisson.rvs(mu, size = n)\n",
    "\n",
    "prob = len(customers[customers == 28]) / n\n"
   ]
  }
 ],
 "metadata": {
  "kernelspec": {
   "display_name": "Python 3",
   "language": "python",
   "name": "python3"
  },
  "language_info": {
   "codemirror_mode": {
    "name": "ipython",
    "version": 3
   },
   "file_extension": ".py",
   "mimetype": "text/x-python",
   "name": "python",
   "nbconvert_exporter": "python",
   "pygments_lexer": "ipython3",
   "version": "3.7.12"
  },
  "papermill": {
   "default_parameters": {},
   "duration": 188.609929,
   "end_time": "2023-03-24T11:01:38.280851",
   "environment_variables": {},
   "exception": null,
   "input_path": "__notebook__.ipynb",
   "output_path": "__notebook__.ipynb",
   "parameters": {},
   "start_time": "2023-03-24T10:58:29.670922",
   "version": "2.4.0"
  }
 },
 "nbformat": 4,
 "nbformat_minor": 5
}
