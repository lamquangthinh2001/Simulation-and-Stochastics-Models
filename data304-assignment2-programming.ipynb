{
 "cells": [
  {
   "cell_type": "markdown",
   "id": "8c0da6b3",
   "metadata": {
    "_cell_guid": "b1076dfc-b9ad-4769-8c92-a6c4dae69d19",
    "_uuid": "8f2839f25d086af736a60e9eeb907d3b93b6e0e5",
    "id": "7DlLpKS71cj6",
    "papermill": {
     "duration": 0.006298,
     "end_time": "2023-04-04T01:47:39.088355",
     "exception": false,
     "start_time": "2023-04-04T01:47:39.082057",
     "status": "completed"
    },
    "tags": []
   },
   "source": [
    "Name: Lam Quang Thinh\n",
    "<br>Student ID: 300538520"
   ]
  },
  {
   "cell_type": "markdown",
   "id": "dc83860a",
   "metadata": {
    "id": "Iq7w5m5R1cj7",
    "papermill": {
     "duration": 0.004905,
     "end_time": "2023-04-04T01:47:39.098628",
     "exception": false,
     "start_time": "2023-04-04T01:47:39.093723",
     "status": "completed"
    },
    "tags": []
   },
   "source": [
    "# Assignment 2- Programming"
   ]
  },
  {
   "cell_type": "code",
   "execution_count": 1,
   "id": "4ef9304b",
   "metadata": {
    "execution": {
     "iopub.execute_input": "2023-04-04T01:47:39.111450Z",
     "iopub.status.busy": "2023-04-04T01:47:39.110724Z",
     "iopub.status.idle": "2023-04-04T01:47:52.017227Z",
     "shell.execute_reply": "2023-04-04T01:47:52.015157Z"
    },
    "id": "tSIwq8Lq1cj7",
    "outputId": "64baae96-d613-4557-a47d-f7751df42626",
    "papermill": {
     "duration": 12.916899,
     "end_time": "2023-04-04T01:47:52.020825",
     "exception": false,
     "start_time": "2023-04-04T01:47:39.103926",
     "status": "completed"
    },
    "tags": []
   },
   "outputs": [
    {
     "name": "stdout",
     "output_type": "stream",
     "text": [
      "Collecting SimPyClassic\r\n",
      "  Downloading SimPyClassic-2.3.4-py2.py3-none-any.whl (79 kB)\r\n",
      "\u001b[2K     \u001b[90m━━━━━━━━━━━━━━━━━━━━━━━━━━━━━━━━━━━━━━━━\u001b[0m \u001b[32m79.2/79.2 kB\u001b[0m \u001b[31m3.0 MB/s\u001b[0m eta \u001b[36m0:00:00\u001b[0m\r\n",
      "\u001b[?25hInstalling collected packages: SimPyClassic\r\n",
      "Successfully installed SimPyClassic-2.3.4\r\n",
      "\u001b[33mWARNING: Running pip as the 'root' user can result in broken permissions and conflicting behaviour with the system package manager. It is recommended to use a virtual environment instead: https://pip.pypa.io/warnings/venv\u001b[0m\u001b[33m\r\n",
      "\u001b[0m"
     ]
    }
   ],
   "source": [
    "!pip install SimPyClassic"
   ]
  },
  {
   "cell_type": "code",
   "execution_count": 2,
   "id": "23670969",
   "metadata": {
    "execution": {
     "iopub.execute_input": "2023-04-04T01:47:52.034590Z",
     "iopub.status.busy": "2023-04-04T01:47:52.034141Z",
     "iopub.status.idle": "2023-04-04T01:47:52.914121Z",
     "shell.execute_reply": "2023-04-04T01:47:52.912988Z"
    },
    "id": "nbVyfF-K1cj8",
    "papermill": {
     "duration": 0.890321,
     "end_time": "2023-04-04T01:47:52.916917",
     "exception": false,
     "start_time": "2023-04-04T01:47:52.026596",
     "status": "completed"
    },
    "tags": []
   },
   "outputs": [],
   "source": [
    "#Import packages\n",
    "import random\n",
    "import math\n",
    "import numpy as np\n",
    "import matplotlib.pyplot as plt\n",
    "from scipy.stats import poisson\n",
    "from SimPy.Simulation import *"
   ]
  },
  {
   "cell_type": "markdown",
   "id": "b3ea3883",
   "metadata": {
    "id": "au5bBEcw1cj8",
    "papermill": {
     "duration": 0.005184,
     "end_time": "2023-04-04T01:47:52.927676",
     "exception": false,
     "start_time": "2023-04-04T01:47:52.922492",
     "status": "completed"
    },
    "tags": []
   },
   "source": [
    "## Q1:"
   ]
  },
  {
   "cell_type": "markdown",
   "id": "6df9da8c",
   "metadata": {
    "id": "UN61T-qc1cj9",
    "papermill": {
     "duration": 0.005127,
     "end_time": "2023-04-04T01:47:52.938360",
     "exception": false,
     "start_time": "2023-04-04T01:47:52.933233",
     "status": "completed"
    },
    "tags": []
   },
   "source": [
    "a. Write a chisquarevariate(k) function in Python which generates a random variate from a ${x_k}^2$ distribution (chi-square distribution with k degrees of freedom). This is simply the sum of the squares of k independent standard normal random variates."
   ]
  },
  {
   "cell_type": "code",
   "execution_count": 3,
   "id": "28e7638e",
   "metadata": {
    "execution": {
     "iopub.execute_input": "2023-04-04T01:47:52.951162Z",
     "iopub.status.busy": "2023-04-04T01:47:52.950725Z",
     "iopub.status.idle": "2023-04-04T01:47:52.957735Z",
     "shell.execute_reply": "2023-04-04T01:47:52.956371Z"
    },
    "id": "KNaNRWey1cj9",
    "papermill": {
     "duration": 0.016568,
     "end_time": "2023-04-04T01:47:52.960391",
     "exception": false,
     "start_time": "2023-04-04T01:47:52.943823",
     "status": "completed"
    },
    "tags": []
   },
   "outputs": [],
   "source": [
    "def chisquarevariate(k):\n",
    "    \"\"\"Generate a random variate from a chi-square distribution with k degrees of freedom.\"\"\"\n",
    "    sum_of_squares = 0.0\n",
    "    for i in range(k):\n",
    "        x = random.gauss(0, 1) # generate a standard normal random variate\n",
    "        sum_of_squares += x * x # square and sum up the random variates\n",
    "    return sum_of_squares"
   ]
  },
  {
   "cell_type": "markdown",
   "id": "55f33486",
   "metadata": {
    "id": "5wwQqrE91cj9",
    "papermill": {
     "duration": 0.00535,
     "end_time": "2023-04-04T01:47:52.971383",
     "exception": false,
     "start_time": "2023-04-04T01:47:52.966033",
     "status": "completed"
    },
    "tags": []
   },
   "source": [
    "b. For each k ∈ {1, 2, 3, 4, 5, 6, 7, 8, 9}, simulate 10000 random variates ${x_k}^2$ k to estimate E(X) and var(X)."
   ]
  },
  {
   "cell_type": "code",
   "execution_count": 4,
   "id": "34089278",
   "metadata": {
    "execution": {
     "iopub.execute_input": "2023-04-04T01:47:52.984196Z",
     "iopub.status.busy": "2023-04-04T01:47:52.983754Z",
     "iopub.status.idle": "2023-04-04T01:47:53.427161Z",
     "shell.execute_reply": "2023-04-04T01:47:53.425615Z"
    },
    "id": "RUbwdXjU1cj9",
    "outputId": "955f9572-1ef4-40be-c563-1851e74ab676",
    "papermill": {
     "duration": 0.452964,
     "end_time": "2023-04-04T01:47:53.429816",
     "exception": false,
     "start_time": "2023-04-04T01:47:52.976852",
     "status": "completed"
    },
    "tags": []
   },
   "outputs": [
    {
     "name": "stdout",
     "output_type": "stream",
     "text": [
      "k = 1: E(X) = 0.9659, var(X) = 1.8375\n",
      "k = 2: E(X) = 1.9776, var(X) = 3.9767\n",
      "k = 3: E(X) = 2.9819, var(X) = 5.8720\n",
      "k = 4: E(X) = 3.9959, var(X) = 8.2854\n",
      "k = 5: E(X) = 4.9565, var(X) = 9.9251\n",
      "k = 6: E(X) = 5.9464, var(X) = 12.1242\n",
      "k = 7: E(X) = 7.0488, var(X) = 14.1052\n",
      "k = 8: E(X) = 7.9524, var(X) = 16.0083\n",
      "k = 9: E(X) = 8.9634, var(X) = 17.5434\n"
     ]
    }
   ],
   "source": [
    "import random\n",
    "import math\n",
    "\n",
    "# Define the chi-square distribution function\n",
    "def chisquarevariate(k):\n",
    "    \"\"\"Generate a random variate from a chi-square distribution with k degrees of freedom.\"\"\"\n",
    "    sum_squares = 0.0\n",
    "    for i in range(k):\n",
    "        x = random.gauss(0, 1) # generate a standard normal random variate\n",
    "        sum_squares += x * x # square and sum up the random variates\n",
    "    return sum_squares\n",
    "\n",
    "# Define the number of simulations\n",
    "n = 10000\n",
    "\n",
    "# Define a list of degrees of freedom\n",
    "degrees_of_freedom = [1, 2, 3, 4, 5, 6, 7, 8, 9]\n",
    "\n",
    "# Simulate the random variates and estimate the expected value and variance for each distribution\n",
    "for k in degrees_of_freedom:\n",
    "    # Simulate n random variates from the chi-square distribution with k degrees of freedom\n",
    "    X = [chisquarevariate(k) for i in range(n)]\n",
    "    \n",
    "    # Estimate the expected value and variance of X\n",
    "    E_X = sum(X) / n\n",
    "    var_X = sum((x - E_X) ** 2 for x in X) / (n - 1)\n",
    "    \n",
    "    # Print the estimated values for the current value of k\n",
    "    print(\"k = %d: E(X) = %.4f, var(X) = %.4f\" % (k, E_X, var_X))\n"
   ]
  },
  {
   "cell_type": "markdown",
   "id": "8d3e2be0",
   "metadata": {
    "id": "9fOgS8G51cj-",
    "papermill": {
     "duration": 0.005441,
     "end_time": "2023-04-04T01:47:53.441179",
     "exception": false,
     "start_time": "2023-04-04T01:47:53.435738",
     "status": "completed"
    },
    "tags": []
   },
   "source": [
    "c. Modify your code from part (b) to give a 95% confidence interval for E(X) and a 95% confidence interval for var(X) from 50 replications."
   ]
  },
  {
   "cell_type": "code",
   "execution_count": 5,
   "id": "2a51d276",
   "metadata": {
    "execution": {
     "iopub.execute_input": "2023-04-04T01:47:53.454633Z",
     "iopub.status.busy": "2023-04-04T01:47:53.454193Z",
     "iopub.status.idle": "2023-04-04T01:48:16.167999Z",
     "shell.execute_reply": "2023-04-04T01:48:16.166989Z"
    },
    "id": "Kaha9wUk1cj-",
    "outputId": "3cf12044-7c82-484c-f462-acf8e1e4aa06",
    "papermill": {
     "duration": 22.72343,
     "end_time": "2023-04-04T01:48:16.170377",
     "exception": false,
     "start_time": "2023-04-04T01:47:53.446947",
     "status": "completed"
    },
    "tags": []
   },
   "outputs": [
    {
     "name": "stdout",
     "output_type": "stream",
     "text": [
      "k = 1: E(X) = 1.0014, 95% CI = [0.9974, 1.0055], var(X) = 2.0041, 95% CI = [1.9817, 2.0265]\n",
      "k = 2: E(X) = 2.0035, 95% CI = [1.9978, 2.0091], var(X) = 4.0229, 95% CI = [3.9888, 4.0570]\n",
      "k = 3: E(X) = 2.9988, 95% CI = [2.9913, 3.0064], var(X) = 6.0000, 95% CI = [5.9628, 6.0371]\n",
      "k = 4: E(X) = 3.9967, 95% CI = [3.9891, 4.0042], var(X) = 7.9773, 95% CI = [7.9262, 8.0284]\n",
      "k = 5: E(X) = 5.0064, 95% CI = [4.9975, 5.0154], var(X) = 10.0237, 95% CI = [9.9602, 10.0872]\n",
      "k = 6: E(X) = 6.0031, 95% CI = [5.9914, 6.0148], var(X) = 12.0314, 95% CI = [11.9600, 12.1028]\n",
      "k = 7: E(X) = 7.0039, 95% CI = [6.9920, 7.0159], var(X) = 13.9936, 95% CI = [13.9171, 14.0701]\n",
      "k = 8: E(X) = 8.0010, 95% CI = [7.9894, 8.0126], var(X) = 15.9794, 95% CI = [15.8881, 16.0707]\n",
      "k = 9: E(X) = 8.9961, 95% CI = [8.9849, 9.0073], var(X) = 17.9872, 95% CI = [17.9028, 18.0715]\n"
     ]
    }
   ],
   "source": [
    "import random\n",
    "import math\n",
    "import numpy as np\n",
    "\n",
    "# Define the chi-square distribution function\n",
    "def chisquarevariate(k):\n",
    "    \"\"\"Generate a random variate from a chi-square distribution with k degrees of freedom.\"\"\"\n",
    "    sum_squares = 0.0\n",
    "    for i in range(k):\n",
    "        x = random.gauss(0, 1) # generate a standard normal random variate\n",
    "        sum_squares += x * x # square and sum up the random variates\n",
    "    return sum_squares\n",
    "\n",
    "# Define the number of simulations and replications\n",
    "n = 10000\n",
    "replications = 50\n",
    "\n",
    "# Define a list of degrees of freedom\n",
    "degrees_of_freedom = [1, 2, 3, 4, 5, 6, 7, 8, 9]\n",
    "\n",
    "# Simulate the random variates and estimate the expected value and variance for each distribution\n",
    "for k in degrees_of_freedom:\n",
    "    # Initialize arrays to store the estimated expected values and variances from each replication\n",
    "    E_X = np.zeros(replications)\n",
    "    var_X = np.zeros(replications)\n",
    "    \n",
    "    # Simulate the random variates and estimate the expected value and variance for each replication\n",
    "    for i in range(replications):\n",
    "        # Simulate n random variates from the chi-square distribution with k degrees of freedom\n",
    "        X = [chisquarevariate(k) for j in range(n)]\n",
    "        \n",
    "        # Estimate the expected value and variance of X\n",
    "        E_X[i] = sum(X) / n\n",
    "        var_X[i] = sum((x - E_X[i]) ** 2 for x in X) / (n - 1)\n",
    "    \n",
    "    # Calculate the 95% confidence interval for the expected value and variance of X\n",
    "    E_X_ci = (np.mean(E_X) - 1.96 * np.std(E_X, ddof=1) / math.sqrt(replications),\n",
    "              np.mean(E_X) + 1.96 * np.std(E_X, ddof=1) / math.sqrt(replications))\n",
    "    var_X_ci = (np.mean(var_X) - 1.96 * np.std(var_X, ddof=1) / math.sqrt(replications),\n",
    "                np.mean(var_X) + 1.96 * np.std(var_X, ddof=1) / math.sqrt(replications))\n",
    "    \n",
    "    # Print the estimated values and confidence intervals for the current value of k\n",
    "    print(\"k = %d: E(X) = %.4f, 95%% CI = [%.4f, %.4f], var(X) = %.4f, 95%% CI = [%.4f, %.4f]\" % \n",
    "          (k, np.mean(E_X), E_X_ci[0], E_X_ci[1], np.mean(var_X), var_X_ci[0], var_X_ci[1]))\n"
   ]
  },
  {
   "cell_type": "markdown",
   "id": "5b319dc0",
   "metadata": {
    "id": "6kBIrcAJ1cj-",
    "papermill": {
     "duration": 0.005886,
     "end_time": "2023-04-04T01:48:16.182653",
     "exception": false,
     "start_time": "2023-04-04T01:48:16.176767",
     "status": "completed"
    },
    "tags": []
   },
   "source": [
    "d. Compare your results from parts (b) and (c) to the exact values of E(X) and var(X) which you can find, e.g., on Wikipedia, and comment on your findings"
   ]
  },
  {
   "cell_type": "markdown",
   "id": "2db4d0c8",
   "metadata": {
    "id": "Y6zNJUOy1cj_",
    "papermill": {
     "duration": 0.006056,
     "end_time": "2023-04-04T01:48:16.196282",
     "exception": false,
     "start_time": "2023-04-04T01:48:16.190226",
     "status": "completed"
    },
    "tags": []
   },
   "source": [
    "The exact values of the expected value and variance of a chi-square distribution with k degrees of freedom are E(X) = k and var(X) = 2k, respectively.\n",
    "\n",
    "Comparing the results from parts (b) and (c) to these exact values, we see that:\n",
    "\n",
    "-The estimated values from part (b) are very close to the exact values of each distribution with corresponding k degrees of freedom, but there is some variability in the estimates due to the randomness of the simulation.\n",
    "\n",
    "-The 95% confidence intervals from part (c) contains the exact value of the expected value and variance of each distribution with corresponding k degrees of freedom. The intervals are quite narrow, which indicates that the estimated value is relatively stable.\n",
    "\n",
    "Overall, because the estimated values are quite close to the exact values, these findings suggest that simulating random variates from a chi-square distribution is an effective way to estimate the expected value and variance of the distribution."
   ]
  },
  {
   "cell_type": "markdown",
   "id": "5bc3f18b",
   "metadata": {
    "id": "nDGFQLpb1cj_",
    "papermill": {
     "duration": 0.00582,
     "end_time": "2023-04-04T01:48:16.208455",
     "exception": false,
     "start_time": "2023-04-04T01:48:16.202635",
     "status": "completed"
    },
    "tags": []
   },
   "source": [
    "## Q2"
   ]
  },
  {
   "cell_type": "markdown",
   "id": "4c0bcda7",
   "metadata": {
    "id": "e0gQAJ_P1cj_",
    "papermill": {
     "duration": 0.005844,
     "end_time": "2023-04-04T01:48:16.220629",
     "exception": false,
     "start_time": "2023-04-04T01:48:16.214785",
     "status": "completed"
    },
    "tags": []
   },
   "source": [
    "The number of customers coming to a shop in a day follows a Poisson distribution with a mean of 22."
   ]
  },
  {
   "cell_type": "markdown",
   "id": "9a3721f8",
   "metadata": {
    "id": "79_ERaxB1cj_",
    "papermill": {
     "duration": 0.005824,
     "end_time": "2023-04-04T01:48:16.232764",
     "exception": false,
     "start_time": "2023-04-04T01:48:16.226940",
     "status": "completed"
    },
    "tags": []
   },
   "source": [
    "a. The probability of 28 customers coming to that shop in a day."
   ]
  },
  {
   "cell_type": "code",
   "execution_count": 6,
   "id": "60174a4e",
   "metadata": {
    "execution": {
     "iopub.execute_input": "2023-04-04T01:48:16.248431Z",
     "iopub.status.busy": "2023-04-04T01:48:16.247970Z",
     "iopub.status.idle": "2023-04-04T01:48:16.258195Z",
     "shell.execute_reply": "2023-04-04T01:48:16.256864Z"
    },
    "id": "mrxlLR_b1cj_",
    "outputId": "2372904e-4326-4077-a3b2-9f1aea1cfc11",
    "papermill": {
     "duration": 0.021049,
     "end_time": "2023-04-04T01:48:16.260758",
     "exception": false,
     "start_time": "2023-04-04T01:48:16.239709",
     "status": "completed"
    },
    "tags": []
   },
   "outputs": [
    {
     "data": {
      "text/plain": [
       "0.03541731538896103"
      ]
     },
     "execution_count": 6,
     "metadata": {},
     "output_type": "execute_result"
    }
   ],
   "source": [
    "mu = 22\n",
    "k = 28\n",
    "poisson.pmf(k, mu)"
   ]
  },
  {
   "cell_type": "markdown",
   "id": "81a536a4",
   "metadata": {
    "id": "CWjyYOb91ckA",
    "papermill": {
     "duration": 0.006155,
     "end_time": "2023-04-04T01:48:16.273331",
     "exception": false,
     "start_time": "2023-04-04T01:48:16.267176",
     "status": "completed"
    },
    "tags": []
   },
   "source": [
    "b. Write Python code to answer the previous question through simulation by generating 10000 random variates from a Poisson distribution. Plot the frequency of the number of customers in this simulation. Use random seed = 123 for this question."
   ]
  },
  {
   "cell_type": "code",
   "execution_count": 7,
   "id": "dc273bf5",
   "metadata": {
    "execution": {
     "iopub.execute_input": "2023-04-04T01:48:16.288077Z",
     "iopub.status.busy": "2023-04-04T01:48:16.287616Z",
     "iopub.status.idle": "2023-04-04T01:48:16.565201Z",
     "shell.execute_reply": "2023-04-04T01:48:16.563652Z"
    },
    "id": "U3YNtnVd1ckA",
    "outputId": "c994aaba-be85-4b6f-8a4c-debe9ccbc492",
    "papermill": {
     "duration": 0.288477,
     "end_time": "2023-04-04T01:48:16.568143",
     "exception": false,
     "start_time": "2023-04-04T01:48:16.279666",
     "status": "completed"
    },
    "tags": []
   },
   "outputs": [
    {
     "name": "stdout",
     "output_type": "stream",
     "text": [
      "Probability of 28 customers going to the shop a day: 0.0342\n"
     ]
    },
    {
     "data": {
      "image/png": "[encoded data removed]",
      "text/plain": [
       "<Figure size 640x480 with 1 Axes>"
      ]
     },
     "metadata": {},
     "output_type": "display_data"
    }
   ],
   "source": [
    "mu = 22\n",
    "n = 10000\n",
    "\n",
    "random.seed(123)\n",
    "customers = poisson.rvs(mu, size = n)\n",
    "\n",
    "prob = len(customers[customers == 28]) / n\n",
    "\n",
    "print(\"Probability of 28 customers going to the shop a day:\", prob)\n",
    "\n",
    "plt.hist(customers)\n",
    "plt.xlabel(\"Number of customers\")\n",
    "plt.ylabel(\"Frequency\")\n",
    "plt.title(\"Histogram of customers going to the shop a day\")\n",
    "plt.show()"
   ]
  },
  {
   "cell_type": "markdown",
   "id": "8ad4fc11",
   "metadata": {
    "id": "mBtx-E3d1ckA",
    "papermill": {
     "duration": 0.006597,
     "end_time": "2023-04-04T01:48:16.581896",
     "exception": false,
     "start_time": "2023-04-04T01:48:16.575299",
     "status": "completed"
    },
    "tags": []
   },
   "source": [
    "## Q3:"
   ]
  },
  {
   "cell_type": "markdown",
   "id": "1ce93529",
   "metadata": {
    "id": "rKsI1gg41ckA",
    "papermill": {
     "duration": 0.006426,
     "end_time": "2023-04-04T01:48:16.595274",
     "exception": false,
     "start_time": "2023-04-04T01:48:16.588848",
     "status": "completed"
    },
    "tags": []
   },
   "source": [
    "Kathy enters the museum at time 0\n",
    "<br> Three displays: 0, 1, 2. See two of them\n",
    "<br> First go to display 0\n",
    "<br> Then go to display 1, p1= 0.4, display 2: p2 = 1 - p1\n",
    "<br> displayTime = [4.5, 5.5, 7.5]\n",
    "<br> She says \"Look number i\" when she goes to the display i\n",
    "<br> random seed of 123"
   ]
  },
  {
   "cell_type": "code",
   "execution_count": 8,
   "id": "07ba1063",
   "metadata": {
    "execution": {
     "iopub.execute_input": "2023-04-04T01:48:16.611216Z",
     "iopub.status.busy": "2023-04-04T01:48:16.610321Z",
     "iopub.status.idle": "2023-04-04T01:48:16.626140Z",
     "shell.execute_reply": "2023-04-04T01:48:16.624883Z"
    },
    "id": "bQ9z_e--1ckA",
    "outputId": "841bcd7c-35cd-47c1-f67c-e704eef29a6c",
    "papermill": {
     "duration": 0.026743,
     "end_time": "2023-04-04T01:48:16.628820",
     "exception": false,
     "start_time": "2023-04-04T01:48:16.602077",
     "status": "completed"
    },
    "tags": []
   },
   "outputs": [
    {
     "name": "stdout",
     "output_type": "stream",
     "text": [
      "At time 0 , Kathy looks number 0\n",
      "At time 4.5 , Kathy looks number 1\n",
      "At time 10.0 , Kathy exits the museum\n"
     ]
    },
    {
     "data": {
      "text/plain": [
       "'SimPy: No more events at time 10.0'"
      ]
     },
     "execution_count": 8,
     "metadata": {},
     "output_type": "execute_result"
    }
   ],
   "source": [
    "class Museum(Process):\n",
    "    def visit(self):\n",
    "        p1 = 0.4\n",
    "        print(\"At time\",now(), \",\", self.name, \"looks number 0\")\n",
    "        yield hold, self, displayTime[0]\n",
    "        display = [1,2]\n",
    "        # Choose the display with corresponding probabilities\n",
    "        random.choices(display, weights =(p1, 1-p1), k =1)\n",
    "        print(\"At time\",now(), \",\", self.name, \"looks number %d\" % display[0])\n",
    "        yield hold, self, displayTime[display[0]]\n",
    "        print(\"At time\", now(), \",\", self.name, \"exits the museum\")\n",
    "\n",
    "random.seed(123)\n",
    "initialize()\n",
    "displayTime = [4.5, 5.5, 7.5]\n",
    "kathy = Museum(\"Kathy\")\n",
    "activate(kathy, kathy.visit(), now())\n",
    "simulate(until = 100)        "
   ]
  }
 ],
 "metadata": {
  "kernelspec": {
   "display_name": "Python 3",
   "language": "python",
   "name": "python3"
  },
  "language_info": {
   "codemirror_mode": {
    "name": "ipython",
    "version": 3
   },
   "file_extension": ".py",
   "mimetype": "text/x-python",
   "name": "python",
   "nbconvert_exporter": "python",
   "pygments_lexer": "ipython3",
   "version": "3.7.12"
  },
  "papermill": {
   "default_parameters": {},
   "duration": 49.66391,
   "end_time": "2023-04-04T01:48:17.459945",
   "environment_variables": {},
   "exception": null,
   "input_path": "__notebook__.ipynb",
   "output_path": "__notebook__.ipynb",
   "parameters": {},
   "start_time": "2023-04-04T01:47:27.796035",
   "version": "2.4.0"
  }
 },
 "nbformat": 4,
 "nbformat_minor": 5
}
